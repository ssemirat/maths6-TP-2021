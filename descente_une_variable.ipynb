{
  "nbformat": 4,
  "nbformat_minor": 0,
  "metadata": {
    "colab": {
      "name": "descente-une-variable.ipynb",
      "provenance": [],
      "collapsed_sections": [],
      "authorship_tag": "ABX9TyP7zPbvSFCxW0MUbPY2u0ms"
    },
    "kernelspec": {
      "name": "python3",
      "display_name": "Python 3"
    }
  },
  "cells": [
    {
      "cell_type": "markdown",
      "metadata": {
        "id": "Na-Yck4lZiN1"
      },
      "source": [
        "Import des librairies"
      ]
    },
    {
      "cell_type": "code",
      "metadata": {
        "id": "Zupdaax6Xf8b"
      },
      "source": [
        "from matplotlib import pyplot as plt\n",
        "import numpy as np"
      ],
      "execution_count": null,
      "outputs": []
    },
    {
      "cell_type": "markdown",
      "metadata": {
        "id": "dev_luUrXiaK"
      },
      "source": [
        "Fonction à optimiser et sa dérivée"
      ]
    },
    {
      "cell_type": "code",
      "metadata": {
        "id": "x8vrszX1Xo7B"
      },
      "source": [
        "def f(x):\n",
        "  return x**2-6*x+1\n",
        "def df(x):\n",
        "  return 2*x-6"
      ],
      "execution_count": null,
      "outputs": []
    },
    {
      "cell_type": "markdown",
      "metadata": {
        "id": "jf5-5ru4XsBv"
      },
      "source": [
        "Choix du pas"
      ]
    },
    {
      "cell_type": "code",
      "metadata": {
        "id": "h65mSjh4XrQJ"
      },
      "source": [
        "eta = 0.6"
      ],
      "execution_count": null,
      "outputs": []
    },
    {
      "cell_type": "markdown",
      "metadata": {
        "id": "LqRaPj_nX1sp"
      },
      "source": [
        "Algorithme"
      ]
    },
    {
      "cell_type": "code",
      "metadata": {
        "id": "QfvzrSaAYmi3"
      },
      "source": [
        "# Initialisation\n",
        "x0=random.randint(20,40)\n",
        "xi=[x0]\n",
        "yi=[f(x0)]\n",
        "x=x0\n",
        "# Récurrence\n",
        "for i in range(10):\n",
        " nx= x-eta*df(x) #Point suivant\n",
        " xi.append(nx) #Ajout dans la liste (xi,yi)\n",
        " yi.append(f(nx))\n",
        " x=nx # Point courant = point suivant"
      ],
      "execution_count": null,
      "outputs": []
    },
    {
      "cell_type": "markdown",
      "metadata": {
        "id": "zF_q_GCtZqBq"
      },
      "source": [
        "Solution"
      ]
    },
    {
      "cell_type": "code",
      "metadata": {
        "colab": {
          "base_uri": "https://localhost:8080/"
        },
        "id": "cdQ4pmz_ZtC8",
        "outputId": "57d3e234-4584-4c53-afec-d22d6850da92"
      },
      "source": [
        "print(xi[len(xi)-1])"
      ],
      "execution_count": null,
      "outputs": [
        {
          "output_type": "stream",
          "text": [
            "3.0000019456\n"
          ],
          "name": "stdout"
        }
      ]
    },
    {
      "cell_type": "markdown",
      "metadata": {
        "id": "IKHYfHmEY1AU"
      },
      "source": [
        "Représentation graphique de l'algorithme"
      ]
    },
    {
      "cell_type": "code",
      "metadata": {
        "colab": {
          "base_uri": "https://localhost:8080/",
          "height": 284
        },
        "id": "vKGl5IvDXzLA",
        "outputId": "50947089-04e4-4a2f-fe72-644c8a692d35"
      },
      "source": [
        "xxx= range(-round(x0),round(x0))\n",
        "plt.plot(xxx,[f(xi) for xi in xxx]) # Représentation de la fonction sur [-x0,x0]\n",
        "plt.plot(xi,yi) # Représentation des segments (x_i,y_i)--(x_(i+1),y_(i+1))\n",
        "plt.show"
      ],
      "execution_count": null,
      "outputs": [
        {
          "output_type": "execute_result",
          "data": {
            "text/plain": [
              "<function matplotlib.pyplot.show>"
            ]
          },
          "metadata": {
            "tags": []
          },
          "execution_count": 6
        },
        {
          "output_type": "display_data",
          "data": {
            "image/png": "[encoded data removed]",
            "text/plain": [
              "<Figure size 432x288 with 1 Axes>"
            ]
          },
          "metadata": {
            "tags": [],
            "needs_background": "light"
          }
        }
      ]
    },
    {
      "cell_type": "code",
      "metadata": {
        "id": "Xn74EpfRXeSo"
      },
      "source": [
        ""
      ],
      "execution_count": null,
      "outputs": []
    },
    {
      "cell_type": "code",
      "metadata": {
        "colab": {
          "base_uri": "https://localhost:8080/"
        },
        "id": "uyPHXDLNLxTG",
        "outputId": "ce99e206-8ecd-44de-e875-d8a7bd9204a7"
      },
      "source": [
        "print(x0,0.5*(2*x0-4),x0-0.5*(2*x0-4))"
      ],
      "execution_count": null,
      "outputs": [
        {
          "output_type": "stream",
          "text": [
            "29 27.0 2.0\n"
          ],
          "name": "stdout"
        }
      ]
    }
  ]
}
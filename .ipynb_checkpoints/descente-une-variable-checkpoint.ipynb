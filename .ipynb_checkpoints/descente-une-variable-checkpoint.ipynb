{
 "cells": [
  {
   "cell_type": "markdown",
   "metadata": {
    "id": "Na-Yck4lZiN1"
   },
   "source": [
    "Import des librairies"
   ]
  },
  {
   "cell_type": "code",
   "execution_count": 1,
   "metadata": {
    "id": "Zupdaax6Xf8b"
   },
   "outputs": [],
   "source": [
    "from matplotlib import pyplot as plt\n",
    "import numpy as np"
   ]
  },
  {
   "cell_type": "markdown",
   "metadata": {
    "id": "dev_luUrXiaK"
   },
   "source": [
    "Fonction à optimiser et sa dérivée"
   ]
  },
  {
   "cell_type": "code",
   "execution_count": 92,
   "metadata": {
    "id": "x8vrszX1Xo7B"
   },
   "outputs": [],
   "source": [
    "def f(x):           # Fonction à optimiser\n",
    "  return x**4-7*x**3+14*x**2-8*x # essayer avec x**2-6*x+1, x**4-7*x**3+14*x**2-8*x (existence d'un min local)\n",
    "def df(x):          # fonction dérivée\n",
    "  return 4*x**3-21*x**2+28*x-8"
   ]
  },
  {
   "cell_type": "markdown",
   "metadata": {
    "id": "LqRaPj_nX1sp"
   },
   "source": [
    "Algorithme"
   ]
  },
  {
   "cell_type": "code",
   "execution_count": 140,
   "metadata": {
    "id": "QfvzrSaAYmi3"
   },
   "outputs": [],
   "source": [
    "# Initialisation\n",
    "def descente(gradf,x0,tau,tolerance,Nbiterations):\n",
    "    x=x0\n",
    "    L=[]\n",
    "    for i in range(Nbiterations):\n",
    "        g = gradf(x)\n",
    "        if abs(g)< tolerance:\n",
    "            return L\n",
    "        L.append(x)\n",
    "        x=x-tau*g\n",
    "    print('L\\'algorithme n\\'a pas convergé')\n",
    "    return L"
   ]
  },
  {
   "cell_type": "code",
   "execution_count": 143,
   "metadata": {},
   "outputs": [],
   "source": [
    "xi=descente(df,4,0.05,1e-8,1000)"
   ]
  },
  {
   "cell_type": "markdown",
   "metadata": {
    "id": "IKHYfHmEY1AU"
   },
   "source": [
    "Représentation graphique de l'algorithme"
   ]
  },
  {
   "cell_type": "code",
   "execution_count": 144,
   "metadata": {
    "colab": {
     "base_uri": "https://localhost:8080/",
     "height": 284
    },
    "id": "vKGl5IvDXzLA",
    "outputId": "9a15b75d-9064-4b1f-ee58-dbdd1f8cbf20"
   },
   "outputs": [
    {
     "data": {
      "text/plain": [
       "<function matplotlib.pyplot.show(*args, **kw)>"
      ]
     },
     "execution_count": 144,
     "metadata": {},
     "output_type": "execute_result"
    },
    {
     "data": {
      "image/png": "[encoded data removed]",
      "text/plain": [
       "<Figure size 432x288 with 1 Axes>"
      ]
     },
     "metadata": {
      "needs_background": "light"
     },
     "output_type": "display_data"
    }
   ],
   "source": [
    "plt.axis([-5,5, -10, 5]) #xmin xmax ymin ymax\n",
    "xxx= np.linspace(-10,10,100) # Génère 100 nombres régulièrement espacés de -10 à 10\n",
    "plt.plot(xxx,[f(x) for x in xxx]) # Représentation de la fonction sur [-10,10]\n",
    "plt.scatter(xi,[f(x) for x in xi]) # Représentation des points (x_i,y_i)\n",
    "plt.plot(xi,[f(x) for x in xi]) # Représentation des segments (x_i,y_i)--(x_(i+1),y_(i+1))\n",
    "plt.show"
   ]
  },
  {
   "cell_type": "code",
   "execution_count": null,
   "metadata": {
    "id": "Xn74EpfRXeSo"
   },
   "outputs": [],
   "source": []
  },
  {
   "cell_type": "code",
   "execution_count": 66,
   "metadata": {
    "colab": {
     "base_uri": "https://localhost:8080/"
    },
    "id": "uyPHXDLNLxTG",
    "outputId": "ce99e206-8ecd-44de-e875-d8a7bd9204a7"
   },
   "outputs": [
    {
     "data": {
      "text/plain": [
       "0.33704391242346254"
      ]
     },
     "execution_count": 66,
     "metadata": {},
     "output_type": "execute_result"
    }
   ],
   "source": [
    "nx"
   ]
  }
 ],
 "metadata": {
  "colab": {
   "authorship_tag": "ABX9TyMUNvpvplA+oiXkt6/VO1xX",
   "collapsed_sections": [],
   "name": "descente-une-variable.ipynb",
   "provenance": []
  },
  "kernelspec": {
   "display_name": "Python 3",
   "language": "python",
   "name": "python3"
  },
  "language_info": {
   "codemirror_mode": {
    "name": "ipython",
    "version": 3
   },
   "file_extension": ".py",
   "mimetype": "text/x-python",
   "name": "python",
   "nbconvert_exporter": "python",
   "pygments_lexer": "ipython3",
   "version": "3.8.3"
  }
 },
 "nbformat": 4,
 "nbformat_minor": 1
}

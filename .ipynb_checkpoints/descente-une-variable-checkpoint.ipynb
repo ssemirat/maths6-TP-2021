{
 "cells": [
  {
   "cell_type": "markdown",
   "metadata": {},
   "source": [
    "# TP1 \n",
    "## Descente de gradient en 1 variable"
   ]
  },
  {
   "cell_type": "markdown",
   "metadata": {
    "id": "Na-Yck4lZiN1"
   },
   "source": [
    "### Import des librairies mathématiques :\n",
    "- *matplotlib* pour les graphiques\n",
    "- *numpy* pour les objets mathématiques"
   ]
  },
  {
   "cell_type": "code",
   "execution_count": 1,
   "metadata": {
    "id": "Zupdaax6Xf8b"
   },
   "outputs": [],
   "source": [
    "from matplotlib import pyplot as plt\n",
    "import numpy as np"
   ]
  },
  {
   "cell_type": "markdown",
   "metadata": {},
   "source": [
    "## Données"
   ]
  },
  {
   "cell_type": "markdown",
   "metadata": {
    "id": "dev_luUrXiaK"
   },
   "source": [
    "### Fonction à optimiser et sa dérivée"
   ]
  },
  {
   "cell_type": "code",
   "execution_count": 2,
   "metadata": {
    "id": "x8vrszX1Xo7B"
   },
   "outputs": [],
   "source": [
    "# Fonction à optimiser\n",
    "def f(x):           \n",
    "  return x**2-6*x+1\n",
    "\n",
    "# fonction dérivée\n",
    "def df(x):          \n",
    "  return 2*x-6"
   ]
  },
  {
   "cell_type": "markdown",
   "metadata": {
    "id": "LqRaPj_nX1sp"
   },
   "source": [
    "### Algorithme"
   ]
  },
  {
   "cell_type": "code",
   "execution_count": 12,
   "metadata": {
    "id": "QfvzrSaAYmi3"
   },
   "outputs": [],
   "source": [
    "def descente(gradf,x0,tau,tolerance,nbiterations):\n",
    "    x=x0\n",
    "    L=[]\n",
    "    for i in range(nbiterations):\n",
    "        g = gradf(x)\n",
    "        if abs(g)< tolerance:\n",
    "            print('L\\'algorithme a convergé en',i,'itérations.\\nSolution atteinte : x=',x,'\\nGradient en x :',g)\n",
    "            return L\n",
    "        L.append(x) # on enregistre chaque valeur dans le tableau L pour la représentation graphique ci-dessous\n",
    "        x=x-tau*g\n",
    "    print('L\\'algorithme n\\'a pas convergé.\\nSolution atteinte: x=',x,'\\nGradient en x :',g)\n",
    "    return L"
   ]
  },
  {
   "cell_type": "markdown",
   "metadata": {},
   "source": [
    "### Exercice 1\n",
    "Décrire et donner le rôle de chacun des arguments de la fonction `descente(gradf,x0,tau,tolerance,nbiterations)` ci-dessus :\n",
    "- gradf :\n",
    "- x0 :\n",
    "- tau :\n",
    "- tolerance :\n",
    "- nbiteration"
   ]
  },
  {
   "cell_type": "markdown",
   "metadata": {},
   "source": [
    "## Recherche de la solution"
   ]
  },
  {
   "cell_type": "code",
   "execution_count": 13,
   "metadata": {},
   "outputs": [
    {
     "name": "stdout",
     "output_type": "stream",
     "text": [
      "L'algorithme a convergé en 22 itérations.\n",
      "Solution atteinte : x= 2.9999670945740395 \n",
      "Gradient en x : -6.581085192092218e-05\n"
     ]
    }
   ],
   "source": [
    "Xi=descente(df,0.5,0.8,1e-4,200)"
   ]
  },
  {
   "cell_type": "code",
   "execution_count": 49,
   "metadata": {},
   "outputs": [
    {
     "name": "stdout",
     "output_type": "stream",
     "text": [
      "[0.5, 4.5, 2.0999999999999996, 3.54, 2.676, 3.1944, 2.88336, 3.069984, 2.9580096, 3.02519424, 2.984883456, 3.0090699264, 2.99455804416, 3.003265173504, 2.9980408958976, 3.0011754624614397, 2.9992947225231363, 3.0004231664861183, 2.999746100108329, 3.0001523399350023, 2.9999085960389986, 3.000054842376601]\n"
     ]
    }
   ],
   "source": [
    "print(Xi)"
   ]
  },
  {
   "cell_type": "markdown",
   "metadata": {
    "id": "IKHYfHmEY1AU"
   },
   "source": [
    "### Représentation graphique de l'algorithme"
   ]
  },
  {
   "cell_type": "code",
   "execution_count": 14,
   "metadata": {
    "colab": {
     "base_uri": "https://localhost:8080/",
     "height": 284
    },
    "id": "vKGl5IvDXzLA",
    "outputId": "9a15b75d-9064-4b1f-ee58-dbdd1f8cbf20",
    "scrolled": true
   },
   "outputs": [
    {
     "data": {
      "text/plain": [
       "<function matplotlib.pyplot.show(*args, **kw)>"
      ]
     },
     "execution_count": 14,
     "metadata": {},
     "output_type": "execute_result"
    },
    {
     "data": {
      "image/png": "[encoded data removed]",
      "text/plain": [
       "<Figure size 432x288 with 1 Axes>"
      ]
     },
     "metadata": {
      "needs_background": "light"
     },
     "output_type": "display_data"
    }
   ],
   "source": [
    "plt.axis([-1,6,-10,5]) #xmin,xmax,ymin,ymax\n",
    "l= np.linspace(-2,6,100) # Génère 100 nombres régulièrement espacés de -2 à 6\n",
    "plt.plot(l,[f(x) for x in l]) # Représentation de la fonction\n",
    "plt.plot(Xi,[f(x) for x in Xi],'o--') # Représentation des segments (x_i,f(x_i))--(x_(i+1),f(x_(i+1)))\n",
    "plt.title('Descente de gradient en 1 variable')\n",
    "plt.show"
   ]
  },
  {
   "cell_type": "markdown",
   "metadata": {},
   "source": [
    "### Exercice 2\n",
    "1. Pour $x_0=0.5$, déterminer un tau d'apprentissage $\\tau$ vérifiant :\n",
    "    1. La suite $x_0$, $x_1$, ... est croissante.\n",
    "    2. L'algorithme ne converge pas.\n",
    "2. Justifier mathématiquement que $\\tau=0.5$ est un taux optimal quel que soit le choix de $x_0$."
   ]
  },
  {
   "cell_type": "markdown",
   "metadata": {},
   "source": [
    "### Exercice 3\n",
    "Reprendre le notebook avec la fonction $f(x)=x^4-7x^3+14x^2-8x$, qui possède un minimum local et un minimum global différents.<br/> Déterminer $x_0$ et $\\tau$ en sorte que l'algorithme converge :\n",
    "1. Vers le minimum local.\n",
    "2. Vers le minimum global.\n"
   ]
  }
 ],
 "metadata": {
  "colab": {
   "authorship_tag": "ABX9TyMUNvpvplA+oiXkt6/VO1xX",
   "collapsed_sections": [],
   "name": "descente-une-variable.ipynb",
   "provenance": []
  },
  "kernelspec": {
   "display_name": "Python 3",
   "language": "python",
   "name": "python3"
  },
  "language_info": {
   "codemirror_mode": {
    "name": "ipython",
    "version": 3
   },
   "file_extension": ".py",
   "mimetype": "text/x-python",
   "name": "python",
   "nbconvert_exporter": "python",
   "pygments_lexer": "ipython3",
   "version": "3.8.3"
  }
 },
 "nbformat": 4,
 "nbformat_minor": 1
}

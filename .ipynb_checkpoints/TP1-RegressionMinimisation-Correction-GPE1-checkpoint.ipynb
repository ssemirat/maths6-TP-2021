{
 "cells": [
  {
   "attachments": {
    "image.png": {
     "image/png": "[encoded data removed]"
    }
   },
   "cell_type": "markdown",
   "metadata": {},
   "source": [
    "# TP 1 : Régression par minimisation - Corrigé (Groupe 2)\n",
    "\n",
    "## Problème 1\n",
    "On considère les points (1,3) et (4,2).\n",
    "\n",
    "On cherche le coefficient directeur $w$ de la droite d'équation $$y=wx$$ minimisant la somme des carrés des distances verticales entre les points et la droite (comme représenté ci-dessous) :\n",
    "![image.png](attachment:image.png)\n",
    "\n",
    "**Exercice 1.** Quel est le programme d'optimisation à résoudre ? Quelle est sa solution ?"
   ]
  },
  {
   "cell_type": "markdown",
   "metadata": {},
   "source": [
    "**Correction**\n",
    "\n",
    "Il s'agit de minimiser la somme des carrés des distances entre les points et la droite.\n",
    "\n",
    "Variable décisionnelle : $w$\n",
    "\n",
    "Domaine : $R$\n",
    "\n",
    "Fonction à minimiser : $f(w)=(y_A-w\\times x_A)^2+(y_B-w\\times x_B)^2=(3-w\\times 1)^2+(2-w\\times 4)^2$\n",
    "\n",
    "*Solution du programme*\n",
    "\n",
    "$f'(w)=-22+34w$\n",
    "\n",
    "$f''(w)=34>0$ donc $f$ est convexe.\n",
    "\n",
    "Le minimum est donc atteint en $w^*$ solution de $f'(w)=0$ :\n",
    "\n",
    "$-22+34w=0\\iff 34w=22\\iff w=22/34$"
   ]
  },
  {
   "cell_type": "markdown",
   "metadata": {},
   "source": [
    "## Exploration graphique"
   ]
  },
  {
   "cell_type": "code",
   "execution_count": 2,
   "metadata": {},
   "outputs": [],
   "source": [
    "# Chargement des librairies Python\n",
    "\n",
    "# Mathématiques \n",
    "import numpy as np\n",
    "\n",
    "# Graphique\n",
    "from matplotlib import pyplot as plt"
   ]
  },
  {
   "cell_type": "markdown",
   "metadata": {},
   "source": [
    "### Définition des points\n",
    "\n",
    "La liste des points $(1,3)$ et $(4,2)$ se définit par la liste des abscisses et la liste des ordonnées."
   ]
  },
  {
   "cell_type": "code",
   "execution_count": 13,
   "metadata": {},
   "outputs": [],
   "source": [
    "X=[1,4]  #Créer une liste X telle que X[0]=1 et X[1]=4\n",
    "Y=[3,2]  #Créer une liste Y telle que Y[0]=3 et Y[1]=2"
   ]
  },
  {
   "cell_type": "markdown",
   "metadata": {},
   "source": [
    "### Visualisation des points"
   ]
  },
  {
   "cell_type": "code",
   "execution_count": 14,
   "metadata": {
    "scrolled": false
   },
   "outputs": [
    {
     "data": {
      "text/plain": [
       "[<matplotlib.lines.Line2D at 0x23a17078c70>]"
      ]
     },
     "execution_count": 14,
     "metadata": {},
     "output_type": "execute_result"
    },
    {
     "data": {
      "image/png": "[encoded data removed]",
      "text/plain": [
       "<Figure size 432x288 with 1 Axes>"
      ]
     },
     "metadata": {
      "needs_background": "light"
     },
     "output_type": "display_data"
    }
   ],
   "source": [
    "plt.axis([0,5,0,5]) # xmin,xmax,ymin,ymax\n",
    "plt.plot(X,Y,'o') # représentation graphique des points"
   ]
  },
  {
   "cell_type": "markdown",
   "metadata": {},
   "source": [
    "### Visualisation d'une droite de régression (pas forcément optimale)"
   ]
  },
  {
   "cell_type": "code",
   "execution_count": 20,
   "metadata": {},
   "outputs": [
    {
     "data": {
      "text/plain": [
       "[<matplotlib.lines.Line2D at 0x23a17260e80>]"
      ]
     },
     "execution_count": 20,
     "metadata": {},
     "output_type": "execute_result"
    },
    {
     "data": {
      "image/png": "[encoded data removed]",
      "text/plain": [
       "<Figure size 432x288 with 1 Axes>"
      ]
     },
     "metadata": {
      "needs_background": "light"
     },
     "output_type": "display_data"
    }
   ],
   "source": [
    "w=1\n",
    "plt.axis([0,5,0,5])\n",
    "plt.plot(X,Y,'o')\n",
    "plt.plot([0,5],[0,w*5])\n",
    "plt.plot([X[0],X[0]],[Y[0],w*X[0]],'*--')\n",
    "plt.plot([X[1],X[1]],[Y[1],w*X[1]],'*--')"
   ]
  },
  {
   "cell_type": "markdown",
   "metadata": {},
   "source": [
    "**Exercice 2.**\n",
    "Dans le code exécuté ci-dessus, et redonné ci-dessous, quelles sont les coordonnées des points considérés par chacun des segments tracés ?\n",
    "- `plt.plot([0,5],[0,w*5])`\n",
    "- `plt.plot([X[0],X[0]],[Y[0],w*X[0]],'*--')`\n",
    "- `plt.plot([X[1],X[1]],[Y[1],w*X[1]],'*--')`\n"
   ]
  },
  {
   "cell_type": "markdown",
   "metadata": {},
   "source": [
    "**Correction**\n",
    "\n",
    "- `plt.plot([0,5],[0,w*5])` : trace la droite reliant les points $(0,0)$ et $(0,w\\times 5)$\n",
    "- `plt.plot([X[0],X[0]],[Y[0],w*X[0]],'*--')` : trace le segment reliant $(X[0],Y[0])=A$ à $(X[0],w\\times X[0])$ qui est le point correspondant sur la droite\n",
    "- `plt.plot([X[1],X[1]],[Y[1],w*X[1]],'*--')`: trace l'autre segment associé à l'autre point"
   ]
  },
  {
   "cell_type": "markdown",
   "metadata": {},
   "source": [
    "## Représentation graphique de la fonction à minimiser\n",
    "\n",
    "### Définition de la fonction"
   ]
  },
  {
   "cell_type": "code",
   "execution_count": 26,
   "metadata": {},
   "outputs": [],
   "source": [
    "def f(w):\n",
    "    return np.sum([(w*X[i]-Y[i])**2 for i in range(len(X))])"
   ]
  },
  {
   "cell_type": "markdown",
   "metadata": {},
   "source": [
    "**Exercice 3.**\n",
    "\n",
    "Quel est le résultat de la commande : `[(w*X[i]-Y[i])**2 for i in range(len(X))]` ?\n",
    "\n",
    "Quel est le résultat de la commande : `np.sum([1,2,3,4])` ?"
   ]
  },
  {
   "cell_type": "markdown",
   "metadata": {},
   "source": [
    "**Correction**\n",
    "\n",
    "Première question :\n",
    "\n",
    "`len(X)` : longueur de la liste X : ici, ça vaut 2\n",
    "\n",
    "`range(n)` : créer la liste [0,1,2,...,n-1]\n",
    "\n",
    "`range(len(X))` : créer la liste [0,1]\n",
    "\n",
    "`for i in range(len(X))` : créer un numéro i qui parcourt la liste [0,1]\n",
    "\n",
    "`[(w*X[i]-Y[i])**2 for i in range(len(X))]` : créer la liste `[(w*X[0]-Y[0])**2,(w*X[1]-Y[1])**2]`\n",
    "\n",
    "Deuxième question :\n",
    "\n",
    "`np.sum([1,2,3,4])` : calcule la somme 1+2+3+4, ça vaut 10"
   ]
  },
  {
   "cell_type": "markdown",
   "metadata": {},
   "source": [
    "### Création d'un tableau de valeurs pour $f$"
   ]
  },
  {
   "cell_type": "code",
   "execution_count": 29,
   "metadata": {},
   "outputs": [
    {
     "name": "stdout",
     "output_type": "stream",
     "text": [
      "w= [0.1, 0.3, 0.5, 0.7, 0.9, 1.1, 1.3, 1.5, 1.7, 1.9]\n",
      "f(w)= [10.97, 7.9300000000000015, 6.25, 5.929999999999999, 6.970000000000001, 9.370000000000001, 13.130000000000003, 18.25, 24.73, 32.56999999999999]\n"
     ]
    }
   ],
   "source": [
    "wlist=[0.1,0.3,0.5,0.7,0.9,1.1,1.3,1.5,1.7,1.9]\n",
    "flist=[f(w) for w in wlist]\n",
    "print('w=',wlist)\n",
    "print('f(w)=',flist)"
   ]
  },
  {
   "cell_type": "markdown",
   "metadata": {},
   "source": [
    "### Représentation graphique de la fonction"
   ]
  },
  {
   "cell_type": "code",
   "execution_count": 30,
   "metadata": {
    "scrolled": true
   },
   "outputs": [
    {
     "data": {
      "text/plain": [
       "[<matplotlib.lines.Line2D at 0x23a182ec4f0>]"
      ]
     },
     "execution_count": 30,
     "metadata": {},
     "output_type": "execute_result"
    },
    {
     "data": {
      "image/png": "[encoded data removed]",
      "text/plain": [
       "<Figure size 432x288 with 1 Axes>"
      ]
     },
     "metadata": {
      "needs_background": "light"
     },
     "output_type": "display_data"
    }
   ],
   "source": [
    "plt.axis([0,2,0,40])\n",
    "plt.plot(wlist,flist)"
   ]
  },
  {
   "cell_type": "markdown",
   "metadata": {},
   "source": [
    "**Question.**\n",
    "Peut-on lire, sur le graphique le $w$ optimal calculé dans l'exercice 1 ?"
   ]
  },
  {
   "cell_type": "markdown",
   "metadata": {},
   "source": [
    "D'après le graphique, on trouve que le minimum de $f$ est atteint en $w^* = 0.7$ approximativement.\n",
    "\n",
    "Remarque : on a trouvé $w^*=22/34=0.65$ par le calcul."
   ]
  },
  {
   "cell_type": "markdown",
   "metadata": {},
   "source": [
    "## Problème 2\n",
    "\n",
    "On se donne un paquet de 20 points (générés aléatoirement), et on va déterminer la droite $y=wx$ minimisant la somme des carrés des distances verticales entre les points et la droite"
   ]
  },
  {
   "cell_type": "markdown",
   "metadata": {},
   "source": [
    "### Génération aléatoire des points"
   ]
  },
  {
   "cell_type": "code",
   "execution_count": 33,
   "metadata": {},
   "outputs": [
    {
     "name": "stdout",
     "output_type": "stream",
     "text": [
      "X= [3.66317434 8.73635191 9.04586453 2.13578691 3.06763518 0.0135455\n",
      " 0.30643964 6.91369281 6.05681497 2.90809567 7.52853847 5.26490551\n",
      " 9.74045606 6.12108987 2.74916926 6.73723584 9.248381   3.80018869\n",
      " 9.10408509 3.76919078]\n",
      "Y= [1.80234424 5.56503425 9.8298421  9.55849802 3.16944763 7.47981083\n",
      " 0.90469945 4.31849555 1.22573096 3.55217759 9.97191236 0.65858622\n",
      " 3.2945424  3.14140508 8.17445791 9.64299751 7.18174933 9.95613922\n",
      " 9.97358515 8.61377118]\n"
     ]
    }
   ],
   "source": [
    "# Génère uniformément 20 nombres aléatoires compris en 0 et 10\n",
    "X=np.random.uniform(0, 10, 20)\n",
    "Y=np.random.uniform(0, 10, 20)\n",
    "print('X=',X)\n",
    "print('Y=',Y)"
   ]
  },
  {
   "cell_type": "markdown",
   "metadata": {},
   "source": [
    "### Nuage des points"
   ]
  },
  {
   "cell_type": "code",
   "execution_count": 36,
   "metadata": {},
   "outputs": [
    {
     "data": {
      "text/plain": [
       "[<matplotlib.lines.Line2D at 0x23a1839acd0>]"
      ]
     },
     "execution_count": 36,
     "metadata": {},
     "output_type": "execute_result"
    },
    {
     "data": {
      "image/png": "[encoded data removed]",
      "text/plain": [
       "<Figure size 432x288 with 1 Axes>"
      ]
     },
     "metadata": {
      "needs_background": "light"
     },
     "output_type": "display_data"
    }
   ],
   "source": [
    "plt.plot(X,Y,'o')"
   ]
  },
  {
   "cell_type": "markdown",
   "metadata": {},
   "source": [
    "**Exercice 4.**\n",
    "\n",
    "Utiliser Python pour résoudre graphiquement le problème :\n",
    "- Programmer la fonction à minimiser\n",
    "- La représenter graphiquement\n",
    "- Déterminer une valeur approximative de son minimum\n",
    "- Tracer le nuage de point ainsi que la droite de régression trouvée"
   ]
  },
  {
   "cell_type": "markdown",
   "metadata": {},
   "source": [
    "**Correction**"
   ]
  },
  {
   "cell_type": "code",
   "execution_count": 37,
   "metadata": {},
   "outputs": [],
   "source": [
    "def f(w):\n",
    "    return np.sum([(Y[i]-w*X[i])**2 for i in range(len(X))])"
   ]
  },
  {
   "cell_type": "code",
   "execution_count": 40,
   "metadata": {},
   "outputs": [
    {
     "data": {
      "text/plain": [
       "[<matplotlib.lines.Line2D at 0x23a184ab3d0>]"
      ]
     },
     "execution_count": 40,
     "metadata": {},
     "output_type": "execute_result"
    },
    {
     "data": {
      "image/png": "[encoded data removed]",
      "text/plain": [
       "<Figure size 432x288 with 1 Axes>"
      ]
     },
     "metadata": {
      "needs_background": "light"
     },
     "output_type": "display_data"
    }
   ],
   "source": [
    "wlist=[i/100 for i in range(500)]\n",
    "flist=[f(i) for i in wlist]\n",
    "plt.axis([0,1,0,600])\n",
    "plt.plot(wlist,flist)"
   ]
  },
  {
   "cell_type": "markdown",
   "metadata": {},
   "source": [
    "D'après le graphique, $w^*=0.9$."
   ]
  },
  {
   "cell_type": "code",
   "execution_count": 39,
   "metadata": {},
   "outputs": [
    {
     "data": {
      "text/plain": [
       "[<matplotlib.lines.Line2D at 0x23a18451100>]"
      ]
     },
     "execution_count": 39,
     "metadata": {},
     "output_type": "execute_result"
    },
    {
     "data": {
      "image/png": "[encoded data removed]",
      "text/plain": [
       "<Figure size 432x288 with 1 Axes>"
      ]
     },
     "metadata": {
      "needs_background": "light"
     },
     "output_type": "display_data"
    }
   ],
   "source": [
    "plt.plot(X,Y,'o')\n",
    "plt.plot([0,20],[0,0.63*20])"
   ]
  }
 ],
 "metadata": {
  "kernelspec": {
   "display_name": "Python 3",
   "language": "python",
   "name": "python3"
  },
  "language_info": {
   "codemirror_mode": {
    "name": "ipython",
    "version": 3
   },
   "file_extension": ".py",
   "mimetype": "text/x-python",
   "name": "python",
   "nbconvert_exporter": "python",
   "pygments_lexer": "ipython3",
   "version": "3.8.3"
  }
 },
 "nbformat": 4,
 "nbformat_minor": 4
}

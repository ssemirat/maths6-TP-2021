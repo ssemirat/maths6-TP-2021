{
 "cells": [
  {
   "attachments": {
    "image.png": {
     "image/png": "[encoded data removed]"
    }
   },
   "cell_type": "markdown",
   "metadata": {},
   "source": [
    "# TP 1 : Régression par minimisation - Corrigé (Groupe 2)\n",
    "\n",
    "## Problème 1\n",
    "On considère les points (1,3) et (4,2).\n",
    "\n",
    "On cherche le coefficient directeur $w$ de la droite d'équation $$y=wx$$ minimisant la somme des carrés des distances verticales entre les points et la droite (comme représenté ci-dessous) :\n",
    "![image.png](attachment:image.png)\n",
    "\n",
    "**Exercice 1.** Quel est le programme d'optimisation à résoudre ? Quelle est sa solution ?"
   ]
  },
  {
   "cell_type": "markdown",
   "metadata": {},
   "source": [
    "**Correction**\n",
    "\n",
    "- Variable décisionnelle : $w$\n",
    "- Domaine : $R^+$\n",
    "- Fonction à minimiser : $f(w)=(y_A-w\\times x_A)^2+(y_B-w\\times x_B)^2=(3-w)^2+(2-4w)^2$\n",
    "\n",
    "*Solution*\n",
    "\n",
    "$f'(w)=2(3-w)\\times(-1)+2(2-4w)\\times(-4)=-2(3-w)-8(2-4w)=-6+2w-16+32w=-22+34w$\n",
    "\n",
    "$f''(w)=34>0$ donc $f$ est convexe.\n",
    "\n",
    "Donc le minimum de $f$ est atteint en $w$ solution de $f'(w)=0$.\n",
    "\n",
    "On trouve ainsi : $w^*=22/34$."
   ]
  },
  {
   "cell_type": "markdown",
   "metadata": {},
   "source": [
    "## Exploration graphique"
   ]
  },
  {
   "cell_type": "code",
   "execution_count": 49,
   "metadata": {},
   "outputs": [],
   "source": [
    "# Chargement des librairies Python\n",
    "\n",
    "# Mathématiques \n",
    "import numpy as np\n",
    "\n",
    "# Graphique\n",
    "from matplotlib import pyplot as plt"
   ]
  },
  {
   "cell_type": "markdown",
   "metadata": {},
   "source": [
    "### Définition des points\n",
    "\n",
    "La liste des points $(1,3)$ et $(4,2)$ se définit par la liste des abscisses et la liste des ordonnées."
   ]
  },
  {
   "cell_type": "code",
   "execution_count": 13,
   "metadata": {},
   "outputs": [],
   "source": [
    "X=[1,4]  #Créer une liste X telle que X[0]=1 et X[1]=4\n",
    "Y=[3,2]  #Créer une liste Y telle que Y[0]=3 et Y[1]=2"
   ]
  },
  {
   "cell_type": "markdown",
   "metadata": {},
   "source": [
    "### Visualisation des points"
   ]
  },
  {
   "cell_type": "code",
   "execution_count": 14,
   "metadata": {
    "scrolled": false
   },
   "outputs": [
    {
     "data": {
      "text/plain": [
       "[<matplotlib.lines.Line2D at 0x273864140a0>]"
      ]
     },
     "execution_count": 14,
     "metadata": {},
     "output_type": "execute_result"
    },
    {
     "data": {
      "image/png": "[encoded data removed]",
      "text/plain": [
       "<Figure size 432x288 with 1 Axes>"
      ]
     },
     "metadata": {
      "needs_background": "light"
     },
     "output_type": "display_data"
    }
   ],
   "source": [
    "plt.axis([0,5,0,5]) # xmin,xmax,ymin,ymax\n",
    "plt.plot(X,Y,'o') # représentation graphique des points"
   ]
  },
  {
   "cell_type": "markdown",
   "metadata": {},
   "source": [
    "### Visualisation d'une droite de régression (pas forcément optimale)"
   ]
  },
  {
   "cell_type": "code",
   "execution_count": 19,
   "metadata": {},
   "outputs": [
    {
     "data": {
      "text/plain": [
       "[<matplotlib.lines.Line2D at 0x2738656c4f0>]"
      ]
     },
     "execution_count": 19,
     "metadata": {},
     "output_type": "execute_result"
    },
    {
     "data": {
      "image/png": "[encoded data removed]",
      "text/plain": [
       "<Figure size 432x288 with 1 Axes>"
      ]
     },
     "metadata": {
      "needs_background": "light"
     },
     "output_type": "display_data"
    }
   ],
   "source": [
    "w=0.7\n",
    "plt.axis([0,5,0,5])\n",
    "plt.plot(X,Y,'o')\n",
    "plt.plot([0,5],[0,w*5])\n",
    "plt.plot([X[0],X[0]],[Y[0],w*X[0]],'*--')\n",
    "plt.plot([X[1],X[1]],[Y[1],w*X[1]],'*--')"
   ]
  },
  {
   "cell_type": "markdown",
   "metadata": {},
   "source": [
    "**Exercice 2 Corrigé**\n",
    "Dans le code exécuté ci-dessus, et redonné ci-dessous, quelles sont les coordonnées des points considérés par chacun des segments tracés ?\n",
    "- `plt.plot([0,5],[0,w*5])` : dessine le segment reliant $(0,0)$ et $(5,5w)$ (segment orange)\n",
    "- `plt.plot([X[0],X[0]],[Y[0],w*X[0]],'*--')` : dessine le segment reliant $(X[0],Y[0])$ à $(X[0],w\\times X[0])$ (segment vert)\n",
    "- `plt.plot([X[1],X[1]],[Y[1],w*X[1]],'*--')` : dessine le segment reliant $(X[1],Y[1])$ à $(X[1],w\\times X[1])$ (segment rouge)\n"
   ]
  },
  {
   "cell_type": "markdown",
   "metadata": {},
   "source": [
    "## Représentation graphique de la fonction à minimiser\n",
    "\n",
    "### Définition de la fonction"
   ]
  },
  {
   "cell_type": "code",
   "execution_count": 20,
   "metadata": {},
   "outputs": [],
   "source": [
    "def f(w):\n",
    "    return np.sum([(w*X[i]-Y[i])**2 for i in range(len(X))])"
   ]
  },
  {
   "cell_type": "markdown",
   "metadata": {},
   "source": [
    "**Exercice 3 corrigé.**\n",
    "\n",
    "Quel est le résultat de la commande : `[(w*X[i]-Y[i])**2 for i in range(len(X))]` ?\n",
    "\n",
    "`len(X)` : longueur de la liste X, soit 2.\n",
    "\n",
    "`range(n)` : créer la liste [0,1,2,3,...,n-1] de longueur n.\n",
    "\n",
    "Ainsi `range(len(X))` crée la liste [0,1].\n",
    "\n",
    "`for i in [0,1]` : i parcourt la liste [0,1]\n",
    "\n",
    "`[(w*X[i]-Y[i])**2 for i in range(len(X))]' crée la liste [(w*X[0]-Y[0])**2 , (w*X[1]-Y[1])**2]\n",
    "\n",
    "\n",
    "Quel est le résultat de la commande : `np.sum([1,2,3,4])` ?\n",
    "\n",
    "`np.sum([1,2,3,4])` renvoie la somme des éléments de la liste : 1+2+3+4=10."
   ]
  },
  {
   "cell_type": "markdown",
   "metadata": {},
   "source": [
    "### Création d'un tableau de valeurs pour $f$"
   ]
  },
  {
   "cell_type": "code",
   "execution_count": 26,
   "metadata": {},
   "outputs": [
    {
     "name": "stdout",
     "output_type": "stream",
     "text": [
      "w= [0.0, 0.1, 0.2, 0.3, 0.4, 0.5, 0.6, 0.7, 0.8, 0.9, 1.0, 1.1, 1.2, 1.3, 1.4, 1.5, 1.6, 1.7, 1.8, 1.9]\n",
      "f(w)= [13.0, 10.97, 9.28, 7.9300000000000015, 6.920000000000001, 6.25, 5.92, 5.929999999999999, 6.280000000000001, 6.970000000000001, 8.0, 9.370000000000001, 11.079999999999998, 13.130000000000003, 15.519999999999998, 18.25, 21.320000000000004, 24.73, 28.480000000000004, 32.56999999999999]\n"
     ]
    }
   ],
   "source": [
    "wlist=[i/10 for i in range(20)]\n",
    "flist=[f(w) for w in wlist]\n",
    "print('w=',wlist)\n",
    "print('f(w)=',flist)"
   ]
  },
  {
   "cell_type": "markdown",
   "metadata": {},
   "source": [
    "### Représentation graphique de la fonction"
   ]
  },
  {
   "cell_type": "code",
   "execution_count": 27,
   "metadata": {
    "scrolled": true
   },
   "outputs": [
    {
     "data": {
      "text/plain": [
       "[<matplotlib.lines.Line2D at 0x2738638ee20>]"
      ]
     },
     "execution_count": 27,
     "metadata": {},
     "output_type": "execute_result"
    },
    {
     "data": {
      "image/png": "[encoded data removed]",
      "text/plain": [
       "<Figure size 432x288 with 1 Axes>"
      ]
     },
     "metadata": {
      "needs_background": "light"
     },
     "output_type": "display_data"
    }
   ],
   "source": [
    "plt.axis([0,2,0,40])\n",
    "plt.plot(wlist,flist)"
   ]
  },
  {
   "cell_type": "markdown",
   "metadata": {},
   "source": [
    "**Question.**\n",
    "Peut-on lire, sur le graphique le $w$ optimal calculé dans l'exercice 1 ?\n",
    "\n",
    "*Réponse*\n",
    "\n",
    "D'après le graphique, on trouve $w^*=0.63$ approximativement.\n",
    "\n",
    "Remarque : on a trouvé par le calcul : $w^*=22/34=0.65$."
   ]
  },
  {
   "cell_type": "markdown",
   "metadata": {},
   "source": [
    "## Problème 2\n",
    "\n",
    "On se donne un paquet de 20 points (générés aléatoirement), et on va déterminer la droite $y=wx$ minimisant la somme des carrés des distances verticales entre les points et la droite"
   ]
  },
  {
   "cell_type": "markdown",
   "metadata": {},
   "source": [
    "### Génération aléatoire des points"
   ]
  },
  {
   "cell_type": "code",
   "execution_count": 50,
   "metadata": {},
   "outputs": [
    {
     "name": "stdout",
     "output_type": "stream",
     "text": [
      "X= [4.02794496 0.1646134  0.53322394 3.03496591 0.26564242 0.74026507\n",
      " 1.13421027 6.83790014 5.53787438 4.76530611 0.29612877 4.64539576\n",
      " 6.31753947 3.10696866 8.13065854 6.55720325 3.40049255 9.61620992\n",
      " 6.81987134 4.23693703]\n",
      "Y= [1.08752341 2.31369617 7.52111366 2.59352148 1.45133987 7.57149666\n",
      " 3.83123991 6.66208923 8.07641099 5.07108198 7.36423548 6.90765081\n",
      " 7.69217104 7.50787346 9.57648078 3.22946009 8.58220632 4.49095951\n",
      " 5.34649395 0.63493707]\n"
     ]
    }
   ],
   "source": [
    "# Génère uniformément 20 nombres aléatoires compris en 0 et 10\n",
    "X=np.random.uniform(0, 10, 20)\n",
    "Y=np.random.uniform(0, 10, 20)\n",
    "print('X=',X)\n",
    "print('Y=',Y)"
   ]
  },
  {
   "cell_type": "markdown",
   "metadata": {},
   "source": [
    "### Nuage des points"
   ]
  },
  {
   "cell_type": "code",
   "execution_count": 51,
   "metadata": {},
   "outputs": [
    {
     "data": {
      "text/plain": [
       "[<matplotlib.lines.Line2D at 0x27386762190>]"
      ]
     },
     "execution_count": 51,
     "metadata": {},
     "output_type": "execute_result"
    },
    {
     "data": {
      "image/png": "[encoded data removed]",
      "text/plain": [
       "<Figure size 432x288 with 1 Axes>"
      ]
     },
     "metadata": {
      "needs_background": "light"
     },
     "output_type": "display_data"
    }
   ],
   "source": [
    "plt.plot(X,Y,'o')"
   ]
  },
  {
   "cell_type": "markdown",
   "metadata": {},
   "source": [
    "**Exercice 4.**\n",
    "\n",
    "Utiliser Python pour résoudre graphiquement le problème :\n",
    "- Programmer la fonction à minimiser\n",
    "- La représenter graphiquement\n",
    "- Déterminer une valeur approximative de son minimum\n",
    "- Tracer le nuage de point ainsi que la droite de régression trouvée"
   ]
  },
  {
   "cell_type": "code",
   "execution_count": 54,
   "metadata": {},
   "outputs": [
    {
     "data": {
      "text/plain": [
       "281.96563619927423"
      ]
     },
     "execution_count": 54,
     "metadata": {},
     "output_type": "execute_result"
    }
   ],
   "source": [
    "def f(w):\n",
    "    return np.sum([(Y[i]-w*X[i])**2 for i in range(20)])"
   ]
  },
  {
   "cell_type": "code",
   "execution_count": 55,
   "metadata": {},
   "outputs": [
    {
     "data": {
      "text/plain": [
       "795.4639130678503"
      ]
     },
     "execution_count": 55,
     "metadata": {},
     "output_type": "execute_result"
    }
   ],
   "source": [
    "f(2)"
   ]
  },
  {
   "cell_type": "code",
   "execution_count": 56,
   "metadata": {},
   "outputs": [
    {
     "data": {
      "text/plain": [
       "[<matplotlib.lines.Line2D at 0x273867acb80>]"
      ]
     },
     "execution_count": 56,
     "metadata": {},
     "output_type": "execute_result"
    },
    {
     "data": {
      "image/png": "[encoded data removed]",
      "text/plain": [
       "<Figure size 432x288 with 1 Axes>"
      ]
     },
     "metadata": {
      "needs_background": "light"
     },
     "output_type": "display_data"
    }
   ],
   "source": [
    "wlist=[i/10 for i in range(20)] # crée la liste [0/10,1/10,2/10,...,19/10]\n",
    "flist=[f(w) for w in wlist] # crée la liste [f(0), f(0.1), f(0.2),...,f(1.9)]\n",
    "plt.axis([0,2,0,500]) # [xmin,xmax,ymin,ymax]\n",
    "plt.plot(wlist,flist)"
   ]
  },
  {
   "cell_type": "markdown",
   "metadata": {},
   "source": [
    "D'après le graphique, le minimum de $f$ est atteint en $w^*=0.95$ approximativement."
   ]
  },
  {
   "cell_type": "code",
   "execution_count": 75,
   "metadata": {},
   "outputs": [
    {
     "data": {
      "text/plain": [
       "281.25225952028933"
      ]
     },
     "execution_count": 75,
     "metadata": {},
     "output_type": "execute_result"
    }
   ],
   "source": [
    "f(0.961)"
   ]
  },
  {
   "cell_type": "code",
   "execution_count": 76,
   "metadata": {},
   "outputs": [
    {
     "data": {
      "text/plain": [
       "[<matplotlib.lines.Line2D at 0x273879133a0>]"
      ]
     },
     "execution_count": 76,
     "metadata": {},
     "output_type": "execute_result"
    },
    {
     "data": {
      "image/png": "[encoded data removed]",
      "text/plain": [
       "<Figure size 432x288 with 1 Axes>"
      ]
     },
     "metadata": {
      "needs_background": "light"
     },
     "output_type": "display_data"
    }
   ],
   "source": [
    "plt.axis([0,10,0,10])\n",
    "plt.plot(X,Y,'o')\n",
    "plt.plot([0,10],[0,0.95*10]) # droite reliant (0,0) et (10,0.95*10)"
   ]
  }
 ],
 "metadata": {
  "kernelspec": {
   "display_name": "Python 3",
   "language": "python",
   "name": "python3"
  },
  "language_info": {
   "codemirror_mode": {
    "name": "ipython",
    "version": 3
   },
   "file_extension": ".py",
   "mimetype": "text/x-python",
   "name": "python",
   "nbconvert_exporter": "python",
   "pygments_lexer": "ipython3",
   "version": "3.8.3"
  }
 },
 "nbformat": 4,
 "nbformat_minor": 4
}

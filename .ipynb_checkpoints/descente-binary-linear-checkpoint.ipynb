{
 "cells": [
  {
   "cell_type": "markdown",
   "metadata": {
    "id": "Na-Yck4lZiN1"
   },
   "source": [
    "### Chargement des librairies"
   ]
  },
  {
   "cell_type": "code",
   "execution_count": 3,
   "metadata": {
    "executionInfo": {
     "elapsed": 530,
     "status": "ok",
     "timestamp": 1606831889555,
     "user": {
      "displayName": "Stephan Semirat",
      "photoUrl": "",
      "userId": "06413469689434144964"
     },
     "user_tz": -60
    },
    "id": "Zupdaax6Xf8b"
   },
   "outputs": [],
   "source": [
    "from matplotlib import pyplot as plt\n",
    "import numpy as np\n",
    "from sklearn.datasets import make_blobs"
   ]
  },
  {
   "cell_type": "markdown",
   "metadata": {
    "id": "dev_luUrXiaK"
   },
   "source": [
    "### Données"
   ]
  },
  {
   "cell_type": "code",
   "execution_count": 14,
   "metadata": {},
   "outputs": [
    {
     "data": {
      "text/plain": [
       "<function matplotlib.pyplot.show(*args, **kw)>"
      ]
     },
     "execution_count": 14,
     "metadata": {},
     "output_type": "execute_result"
    },
    {
     "data": {
      "image/png": "[encoded data removed]",
      "text/plain": [
       "<Figure size 432x288 with 1 Axes>"
      ]
     },
     "metadata": {
      "needs_background": "light"
     },
     "output_type": "display_data"
    }
   ],
   "source": [
    "Xinit=np.array([[3,4],[3,3],[3.5,4],[3,1],[2,1],[2,3]])\n",
    "Yinit=np.array([1,1,1,0,0,0])\n",
    "n=len(Xinit)\n",
    "# La fonction suivante génère 2 paquets de 100 données {(x1,x2)} et {y}\n",
    "# avec y=0 ou y=1\n",
    "# Xinit, Yinit = make_blobs(n_samples=300, centers=2, n_features=2, cluster_std=2)\n",
    "# n=int(2*len(Xinit)/3)   # L'apprentissage se fera sur 2/3 des données\n",
    "                        # On garde 1/3 des données pour tester la solution\n",
    "X=Xinit[0:n]\n",
    "Y=Yinit[0:n]\n",
    "d=len(X[1])\n",
    "mask1=(Y==0)\n",
    "mask0=(Y==1)\n",
    "plt.scatter(X[mask1,0],X[mask1,1],c='r') #Y=1 en rouge\n",
    "plt.scatter(X[mask0,0],X[mask0,1],c='b') #Y=0 en bleu\n",
    "plt.show"
   ]
  },
  {
   "cell_type": "markdown",
   "metadata": {},
   "source": [
    "## Fonctions objectif et gradient\n",
    "\n",
    "On cherche $(b,w_1,w_2)$ tel que pour chacun des points $X_i=\\begin{pmatrix}X_{i1}&X_{i2}\\end{pmatrix}$ et leur valeur $Y_i\\in\\{0,1\\}$, \n",
    "$$\\begin{array}{rl}\n",
    "&b+w_1X_{i1}+w_2X_{i2}\\simeq Y_i\\\\\n",
    "\\iff&b+\\begin{pmatrix}X_{i1}&X_{i2}\\end{pmatrix}\\cdot \\begin{pmatrix}w_1\\\\w_2\\end{pmatrix}\\simeq Y_i\\\\\n",
    "\\iff&b+X_i\\cdot W-Y_i\\simeq 0\n",
    "\\end{array}.$$\n",
    "Pour ce faire, on minimise la forme quadratique :\n",
    "$$\\begin{array}{rl}\n",
    "L(b,W)=&\\frac{1}{2}\\sum_{i}(b+X_i\\cdot W-Y_i)^2\\\\\n",
    "=&\\frac{1}{2}(B+X\\cdot W-Y)^2\n",
    "\\end{array}$$\n",
    "où $B=\\begin{pmatrix}b\\\\\\vdots\\\\b\\end{pmatrix}$.\n",
    "On a $$\\begin{array}{rl}\n",
    "\\frac{\\partial L(b,W)}{\\partial b}=&\\sum_i (b+X_i\\cdot W-Y_i)\\times 1\\\\\n",
    "=&\\sum_i b+\\sum_i (X\\cdot W-Y)_i\n",
    "\\end{array}$$\n",
    "et pour chaque $w_j$, $j\\in\\{1,2\\}$, on a :\n",
    "$$\\frac{\\partial L(b,W)}{\\partial w_j}=\\sum_i ((b+X_i\\cdot W-Y_i)\\times X_{ij})=(B+X\\cdot W-Y)^\\perp\\cdot\\begin{pmatrix}x_{1j}\\\\\\vdots\\\\x_{nj}\\end{pmatrix}$$"
   ]
  },
  {
   "cell_type": "code",
   "execution_count": 5,
   "metadata": {
    "executionInfo": {
     "elapsed": 574,
     "status": "ok",
     "timestamp": 1606831895405,
     "user": {
      "displayName": "Stephan Semirat",
      "photoUrl": "",
      "userId": "06413469689434144964"
     },
     "user_tz": -60
    },
    "id": "x8vrszX1Xo7B"
   },
   "outputs": [],
   "source": [
    "def f(b,W):\n",
    "    B=[b for i in range(n)]\n",
    "    return 0.5*np.dot(np.transpose(B+np.dot(X,W)-np.transpose(Y)),B+np.dot(X,W)-np.transpose(Y))  \n",
    "def df(b,W):\n",
    "    B=[b for i in range(n)]\n",
    "    D=[np.sum(B+np.dot(X,W)-np.transpose(Y))]\n",
    "    for j in range(d):\n",
    "     D.append(np.dot(np.transpose(B+np.dot(X,W)-np.transpose(Y)),X[:,j]))\n",
    "    return D"
   ]
  },
  {
   "cell_type": "markdown",
   "metadata": {
    "id": "LqRaPj_nX1sp"
   },
   "source": [
    "### Algorithme"
   ]
  },
  {
   "cell_type": "code",
   "execution_count": 8,
   "metadata": {
    "colab": {
     "base_uri": "https://localhost:8080/"
    },
    "executionInfo": {
     "elapsed": 594,
     "status": "ok",
     "timestamp": 1606832108296,
     "user": {
      "displayName": "Stephan Semirat",
      "photoUrl": "",
      "userId": "06413469689434144964"
     },
     "user_tz": -60
    },
    "id": "QfvzrSaAYmi3",
    "outputId": "0da3db24-cc70-4da8-ce4c-a9044844fce6"
   },
   "outputs": [],
   "source": [
    "def descente(gradf,b=0,W=[1,1],tau=0.0001,tolerance=1e-6,Nbiterations=1000):\n",
    "    L=[]\n",
    "    for i in range(Nbiterations):\n",
    "        g = gradf(b,W)\n",
    "        if g[0]**2+g[1]**2+g[2]**2< tolerance:\n",
    "            print('L\\'algorithme a convergé.\\n Solution atteinte:\\n b=',b,'\\n W=',W)\n",
    "            return L        \n",
    "        L.append([b,W])\n",
    "        b=b-tau*g[0]\n",
    "        W=[W[0]-tau*g[1],W[1]-tau*g[2]]\n",
    "    print('L\\'algorithme n\\'a pas convergé.\\n Solution atteinte:\\n b=',b,'\\n W=',W)\n",
    "    return L"
   ]
  },
  {
   "cell_type": "markdown",
   "metadata": {},
   "source": [
    "### Calcul de la solution"
   ]
  },
  {
   "cell_type": "code",
   "execution_count": 15,
   "metadata": {
    "colab": {
     "base_uri": "https://localhost:8080/",
     "height": 297
    },
    "executionInfo": {
     "elapsed": 1591,
     "status": "ok",
     "timestamp": 1606832068149,
     "user": {
      "displayName": "Stephan Semirat",
      "photoUrl": "",
      "userId": "06413469689434144964"
     },
     "user_tz": -60
    },
    "id": "C2x73vQkpWaZ",
    "outputId": "434d768d-3865-4b9d-be7c-bd45b3376310"
   },
   "outputs": [
    {
     "name": "stdout",
     "output_type": "stream",
     "text": [
      "L'algorithme a convergé.\n",
      " Solution atteinte:\n",
      " b= 0.5074220519992639 \n",
      " W= [0.042235451548067765, 0.12021849085930222]\n"
     ]
    }
   ],
   "source": [
    "Xi=descente(df,0.5,[0,1],1e-4,1e-8,100000)"
   ]
  },
  {
   "cell_type": "markdown",
   "metadata": {
    "id": "zF_q_GCtZqBq"
   },
   "source": [
    "### Représentation graphique de l'algorithme et de la solution"
   ]
  },
  {
   "cell_type": "code",
   "execution_count": 16,
   "metadata": {
    "colab": {
     "base_uri": "https://localhost:8080/"
    },
    "executionInfo": {
     "elapsed": 546,
     "status": "ok",
     "timestamp": 1606829356585,
     "user": {
      "displayName": "Stephan Semirat",
      "photoUrl": "",
      "userId": "06413469689434144964"
     },
     "user_tz": -60
    },
    "id": "cdQ4pmz_ZtC8",
    "outputId": "eb5374bb-2117-47f6-f576-ded80b5d08a1"
   },
   "outputs": [
    {
     "data": {
      "text/plain": [
       "<function matplotlib.pyplot.show(*args, **kw)>"
      ]
     },
     "execution_count": 16,
     "metadata": {},
     "output_type": "execute_result"
    },
    {
     "data": {
      "image/png": "[encoded data removed]",
      "text/plain": [
       "<Figure size 432x288 with 1 Axes>"
      ]
     },
     "metadata": {
      "needs_background": "light"
     },
     "output_type": "display_data"
    }
   ],
   "source": [
    "plt.scatter(X[mask1,0],X[mask1,1],c='r')\n",
    "plt.scatter(X[mask0,0],X[mask0,1],c='b')\n",
    "x1_values=np.linspace(np.min(X[:,0])-1,np.max(X[:,0])+1,20)\n",
    "x2_values=np.linspace(np.min(X[:,1])-1,np.max(X[:,1])+1,20)\n",
    "for i in np.linspace(0,len(Xi)-1,30):\n",
    "    S=Xi[i.astype(int)]\n",
    "    fct_values = np.array([[S[0]+S[1][0]*x1+S[1][1]*x2 for x1 in x1_values] for x2 in x2_values])\n",
    "    plt.contour(x1_values,x2_values,fct_values,levels=[0.5],colors=['g'],alpha=0.1+0.899*i/(len(Xi)-1))\n",
    "plt.show"
   ]
  },
  {
   "cell_type": "markdown",
   "metadata": {},
   "source": [
    "## Validation du modèle"
   ]
  },
  {
   "cell_type": "code",
   "execution_count": 19,
   "metadata": {},
   "outputs": [
    {
     "name": "stdout",
     "output_type": "stream",
     "text": [
      "Erreur moyenne : 0.17\n"
     ]
    },
    {
     "data": {
      "image/png": "[encoded data removed]",
      "text/plain": [
       "<Figure size 864x288 with 3 Axes>"
      ]
     },
     "metadata": {
      "needs_background": "light"
     },
     "output_type": "display_data"
    }
   ],
   "source": [
    "S=Xi[len(Xi)-1]\n",
    "Xv=Xinit[n:len(Xinit)]\n",
    "Yv=Yinit[n:len(Yinit)]\n",
    "\n",
    "# Données observées\n",
    "maskv1=[Yv[i]==1 for i in range(len(Yv))]\n",
    "maskv0=[Yv[i]==0 for i in range(len(Yv))]\n",
    "\n",
    "# Prédictions de la solution\n",
    "maskp1=[S[0]+S[1][0]*Xv[i][0]+S[1][1]*Xv[i][1]>=0.5 for i in range(len(Xv))]\n",
    "maskp0=[S[0]+S[1][0]*Xv[i][0]+S[1][1]*Xv[i][1]<0.5 for i in range(len(Xv))]\n",
    "\n",
    "# Erreurs\n",
    "maske1=[(maskv1[i]==True and maskp1[i]==False) for i in range(len(maskv1))]\n",
    "maske0=[(maskv0[i]==True and maskp0[i]==False) for i in range(len(maskv0))]\n",
    "\n",
    "# Représentation graphique de la solution\n",
    "x1_values=np.linspace(np.min(Xv[:,0])-1,np.max(Xv[:,0])+1,20)\n",
    "x2_values=np.linspace(np.min(Xv[:,1])-1,np.max(Xv[:,1])+1,20)\n",
    "fct_values = np.array([[S[0]+S[1][0]*x1+S[1][1]*x2 for x1 in x1_values] for x2 in x2_values])\n",
    "\n",
    "plt.figure(figsize=(12,4)) #créer une figure\n",
    "\n",
    "plt.subplot(1,3,1) #créer des sous-graphe : 1 ligne, 2 colonnes, et selectionne le 1er graphe pour la suite\n",
    "plt.scatter(Xv[maskv1,0],Xv[maskv1,1],c='r')\n",
    "plt.scatter(Xv[maskv0,0],Xv[maskv0,1],c='b')\n",
    "plt.contour(x1_values,x2_values,fct_values,levels=[0.5],colors=['g'],alpha=1)\n",
    "plt.title('Valeurs observées')\n",
    "\n",
    "plt.subplot(1,3,2)\n",
    "plt.scatter(Xv[maskp1,0],Xv[maskp1,1],c='r')\n",
    "plt.scatter(Xv[maskp0,0],Xv[maskp0,1],c='b')\n",
    "plt.contour(x1_values,x2_values,fct_values,levels=[0.5],colors=['g'],alpha=1)\n",
    "plt.title('Prédictions')\n",
    "\n",
    "plt.subplot(1,3,3)\n",
    "plt.scatter(Xv[maske1,0],Xv[maske1,1],c='r')\n",
    "plt.scatter(Xv[maske0,0],Xv[maske0,1],c='b')\n",
    "plt.contour(x1_values,x2_values,fct_values,levels=[0.5],colors=['g'],alpha=1)\n",
    "plt.title('Erreurs')\n",
    "plt.show\n",
    "\n",
    "# Calcul du nombre d'erreurs\n",
    "# np.count_nonzero retourne le nombre d'éléments non égaux à False\n",
    "print(\"Erreur moyenne :\",(np.count_nonzero(maske0)+np.count_nonzero(maske1))/len(Xv))\n"
   ]
  }
 ],
 "metadata": {
  "colab": {
   "authorship_tag": "ABX9TyOL5iJTlZCmM9764vTsZljv",
   "collapsed_sections": [],
   "name": "descente-deux-variables.ipynb",
   "provenance": [
    {
     "file_id": "164i4yxW6Yks9BXBhzNAJHUMyX1UBjEp3",
     "timestamp": 1606828072802
    }
   ]
  },
  "kernelspec": {
   "display_name": "Python 3",
   "language": "python",
   "name": "python3"
  },
  "language_info": {
   "codemirror_mode": {
    "name": "ipython",
    "version": 3
   },
   "file_extension": ".py",
   "mimetype": "text/x-python",
   "name": "python",
   "nbconvert_exporter": "python",
   "pygments_lexer": "ipython3",
   "version": "3.8.3"
  }
 },
 "nbformat": 4,
 "nbformat_minor": 1
}

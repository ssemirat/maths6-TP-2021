{
 "cells": [
  {
   "cell_type": "markdown",
   "metadata": {},
   "source": [
    "# TP5 : Reconnaissance d'image par un réseau de neurones - Correction Groupe 1"
   ]
  },
  {
   "cell_type": "markdown",
   "metadata": {
    "id": "Na-Yck4lZiN1"
   },
   "source": [
    "### Chargement des librairies"
   ]
  },
  {
   "cell_type": "code",
   "execution_count": 3,
   "metadata": {
    "executionInfo": {
     "elapsed": 530,
     "status": "ok",
     "timestamp": 1606831889555,
     "user": {
      "displayName": "Stephan Semirat",
      "photoUrl": "",
      "userId": "06413469689434144964"
     },
     "user_tz": -60
    },
    "id": "Zupdaax6Xf8b"
   },
   "outputs": [],
   "source": [
    "from matplotlib import pyplot as plt\n",
    "import numpy as np\n",
    "import pandas as pd"
   ]
  },
  {
   "cell_type": "markdown",
   "metadata": {},
   "source": [
    "### Chargement des données"
   ]
  },
  {
   "cell_type": "code",
   "execution_count": 4,
   "metadata": {
    "scrolled": false
   },
   "outputs": [
    {
     "data": {
      "text/html": [
       "<div>\n",
       "<style scoped>\n",
       "    .dataframe tbody tr th:only-of-type {\n",
       "        vertical-align: middle;\n",
       "    }\n",
       "\n",
       "    .dataframe tbody tr th {\n",
       "        vertical-align: top;\n",
       "    }\n",
       "\n",
       "    .dataframe thead th {\n",
       "        text-align: right;\n",
       "    }\n",
       "</style>\n",
       "<table border=\"1\" class=\"dataframe\">\n",
       "  <thead>\n",
       "    <tr style=\"text-align: right;\">\n",
       "      <th></th>\n",
       "      <th>X1</th>\n",
       "      <th>X2</th>\n",
       "      <th>X3</th>\n",
       "      <th>X4</th>\n",
       "      <th>X5</th>\n",
       "      <th>X6</th>\n",
       "      <th>X7</th>\n",
       "      <th>X8</th>\n",
       "      <th>X9</th>\n",
       "      <th>Y</th>\n",
       "    </tr>\n",
       "  </thead>\n",
       "  <tbody>\n",
       "    <tr>\n",
       "      <th>0</th>\n",
       "      <td>0</td>\n",
       "      <td>0</td>\n",
       "      <td>0</td>\n",
       "      <td>1</td>\n",
       "      <td>1</td>\n",
       "      <td>1</td>\n",
       "      <td>1</td>\n",
       "      <td>1</td>\n",
       "      <td>1</td>\n",
       "      <td>0</td>\n",
       "    </tr>\n",
       "    <tr>\n",
       "      <th>1</th>\n",
       "      <td>0</td>\n",
       "      <td>0</td>\n",
       "      <td>1</td>\n",
       "      <td>0</td>\n",
       "      <td>0</td>\n",
       "      <td>1</td>\n",
       "      <td>0</td>\n",
       "      <td>0</td>\n",
       "      <td>0</td>\n",
       "      <td>0</td>\n",
       "    </tr>\n",
       "    <tr>\n",
       "      <th>2</th>\n",
       "      <td>1</td>\n",
       "      <td>0</td>\n",
       "      <td>0</td>\n",
       "      <td>1</td>\n",
       "      <td>0</td>\n",
       "      <td>1</td>\n",
       "      <td>1</td>\n",
       "      <td>1</td>\n",
       "      <td>0</td>\n",
       "      <td>0</td>\n",
       "    </tr>\n",
       "    <tr>\n",
       "      <th>3</th>\n",
       "      <td>1</td>\n",
       "      <td>1</td>\n",
       "      <td>0</td>\n",
       "      <td>1</td>\n",
       "      <td>1</td>\n",
       "      <td>1</td>\n",
       "      <td>0</td>\n",
       "      <td>0</td>\n",
       "      <td>1</td>\n",
       "      <td>1</td>\n",
       "    </tr>\n",
       "    <tr>\n",
       "      <th>4</th>\n",
       "      <td>1</td>\n",
       "      <td>0</td>\n",
       "      <td>0</td>\n",
       "      <td>1</td>\n",
       "      <td>1</td>\n",
       "      <td>1</td>\n",
       "      <td>0</td>\n",
       "      <td>1</td>\n",
       "      <td>1</td>\n",
       "      <td>1</td>\n",
       "    </tr>\n",
       "  </tbody>\n",
       "</table>\n",
       "</div>"
      ],
      "text/plain": [
       "   X1  X2  X3  X4  X5  X6  X7  X8  X9  Y\n",
       "0   0   0   0   1   1   1   1   1   1  0\n",
       "1   0   0   1   0   0   1   0   0   0  0\n",
       "2   1   0   0   1   0   1   1   1   0  0\n",
       "3   1   1   0   1   1   1   0   0   1  1\n",
       "4   1   0   0   1   1   1   0   1   1  1"
      ]
     },
     "execution_count": 4,
     "metadata": {},
     "output_type": "execute_result"
    }
   ],
   "source": [
    "# Lecture des données\n",
    "DIAGONAL=pd.read_csv(\"deuxdiag.csv\")\n",
    "# Visualisation des 5 premières données\n",
    "DIAGONAL.head()"
   ]
  },
  {
   "cell_type": "markdown",
   "metadata": {},
   "source": [
    "**Exercice**\n",
    "1. Dans le jeu de données `DIAGONAL`, à quoi correspond une donnée ?\n",
    "2. On considère les données `X1`, ..., `X9` comme les 9 cases d'un carré 3*3 :<br/>\n",
    "    X1 X2 X3<br/>\n",
    "    X4 X5 X6<br/>\n",
    "    X7 X8 X9<br/>\n",
    "    À quelle condition sur les `Xi` a-t-on : une des deux diagonales du carré est constituée de 1 ?\n",
    "3. Vérifier sur les 5 premières données que le jeux de données `DIAGONAL` est tel que la conditon précédente est vérifiée si et seulement si `Y=1`."
   ]
  },
  {
   "cell_type": "markdown",
   "metadata": {},
   "source": [
    "*Réponses*\n"
   ]
  },
  {
   "cell_type": "markdown",
   "metadata": {},
   "source": [
    "### Données d'apprentissage et données de validation\n",
    "\n",
    "Le jeu de données est séparé 2 :\n",
    "- Deux tiers des données sont utilisées pour l'apprentissage du réseau de neurones\n",
    "- Le troisième tiers des données est mis à l'écart et sera utilisé pour évaluer la performance du réseau sur ces données (sur lesquelles il n'aura pas appris)."
   ]
  },
  {
   "cell_type": "code",
   "execution_count": 290,
   "metadata": {},
   "outputs": [],
   "source": [
    "N=len(DIAGONAL) # Nombre de données\n",
    "n=int(2*N/3) # Deux tiers du nombres de données \n",
    "X=DIAGONAL.drop(['Y'],axis=1)[0:n] # Données d'apprentissage X\n",
    "Y=DIAGONAL['Y'][0:n] # Données d'apprentissage Y\n",
    "X.insert(loc = 0, column = 'X0',value = np.ones(n,dtype = int)) # On ajoute une colonne de 1 pour b\n",
    "Xvalid=DIAGONAL.drop(['Y'],axis=1)[n+1:N] # Données de validation X\n",
    "Yvalid=DIAGONAL['Y'][n+1:N] # Données de validation Y\n",
    "nvalid=len(Xvalid)\n",
    "Xvalid.insert(loc = 0, column = 'X0',value = np.ones(nvalid,dtype=int)) # On ajoute une colonne de 1 pour b"
   ]
  },
  {
   "cell_type": "markdown",
   "metadata": {},
   "source": [
    "**Exercice**\n",
    "\n",
    "Sachant que `DIAGONAL` contient 300 données $(X_i,Y_i)$, sur combien de données le réseau va-t-il apprendre ? Sur combien de données la performance du réseau va-t-elle être évaluée ?"
   ]
  },
  {
   "cell_type": "markdown",
   "metadata": {},
   "source": [
    "*Réponses*\n"
   ]
  },
  {
   "cell_type": "markdown",
   "metadata": {},
   "source": [
    "### Réseau à 1 couche cachée de 2 neurones\n",
    "On approxime $X\\mapsto Y$ par la fonction $R_{\\mathcal{W}}$, où $\\mathcal{W}$ désigne l'ensemble des paramètres $b$, $w_1$, $w_2$, $B=\\begin{pmatrix}b_1\\\\b_2\\end{pmatrix}$ et $W=\\begin{pmatrix}W_1\\\\W_2\\end{pmatrix}=\\begin{pmatrix}w_{11}&w_{12}&\\ldots&w_{19}\\\\w_{21}&w_{22}&\\ldots&w_{29}\\end{pmatrix}$, définie par : $$R_{\\mathcal{W}}:X\\mapsto \\sigma\\left(b+\\begin{pmatrix}w_1&w_2\\end{pmatrix}\\cdot H(B+W\\cdot X)\\right),$$ où\n",
    "$$\\sigma(x)=\\frac{1}{1+e^{-x}}$$ est la fonction sigmoïd, et $$H=\\begin{pmatrix}h_1(X)\\\\h_2(X)\\end{pmatrix}=\\begin{pmatrix}\\sigma\\left(b_1+\\begin{pmatrix}w_{11}&\\ldots&w_{19}\\end{pmatrix}\\cdot X\\right)\\\\\\sigma\\left(b_2+\\begin{pmatrix}w_{21}&\\ldots&w_{29}\\end{pmatrix}\\cdot X\\right)\\end{pmatrix}$$ est la couche cachée."
   ]
  },
  {
   "cell_type": "markdown",
   "metadata": {},
   "source": [
    "**Exercice**\n",
    "\n",
    "1. Combien de paramètres la fonction $R_{\\mathcal{W}}$ possède-t-elle ?\n",
    "2. Représenter le réseau de neurones associé à $R_{\\mathcal{W}}$.\n",
    "3. Pourquoi parle-t-on d'un réseau à *deux* neurones ?"
   ]
  },
  {
   "cell_type": "markdown",
   "metadata": {},
   "source": [
    "*Réponses*\n"
   ]
  },
  {
   "cell_type": "markdown",
   "metadata": {},
   "source": [
    "### Rétropropagation du gradient"
   ]
  },
  {
   "cell_type": "markdown",
   "metadata": {},
   "source": [
    "Les paramètres $\\mathcal{W}$ sont déterminés en minimisant la fonction :\n",
    "$$f(\\mathcal{W})=\\frac{1}{2}\\sum\\limits_{j} (R_{\\mathcal{W}}(X_j)-Y_j)^2$$\n",
    "où la somme est calculée sur les données d'apprentissage.\n",
    "\n",
    "On réécrit $$f(\\mathcal{W})=\\frac{1}{2}\\sum\\limits_{j} (\\sigma(s_j)-Y_j)^2$$\n",
    "où $$s_j=b+W\\cdot H_j,$$\n",
    "avec $$H_j=\\begin{pmatrix}\\sigma(h_{1j})\\\\ \\sigma(h_{2j})\\end{pmatrix}$$\n",
    "où $$h_{ij}=b_i+W_i\\cdot X_j.$$\n",
    "\n",
    "**Exercice**\n",
    "\n",
    "On rappelle la propriété $\\sigma'(x)=\\sigma(x)\\times (1-\\sigma(x))$.\n",
    "\n",
    "1. À partir de $$f(\\mathcal{W})=\\frac{1}{2}\\sum\\limits_{j} (\\sigma(\\underbrace{b+W\\cdot H_j}_{s_j})-Y_j)^2$$ établir les dérivées suivantes :\n",
    "    - $\\frac{\\partial f(\\mathcal{W})}{\\partial b}=\\sum\\limits_{j} (\\sigma(s_j)-Y_j)\\sigma(s_j)(1-\\sigma(s_j))\\times1$\n",
    "    - $\\frac{\\partial f(\\mathcal{W})}{\\partial w_i}=\\sum\\limits_{j} (\\sigma(s_j)-Y_j)\\sigma(s_j)(1-\\sigma(s_j))\\sigma(h_{ij})$\n",
    "\n",
    "2. À partir de $$f(\\mathcal{W})=\\frac{1}{2}\\sum\\limits_{j} (\\sigma(\\underbrace{b+w_1\\sigma(\\underbrace{b_1+\\sum\\limits_{k=1..9} w_{1k}x_{kj}}_{h_{1j}})+w_2\\sigma(\\underbrace{b_2+\\sum\\limits_{k=1..9} w_{2k}x_{kj}}_{h_{2j}})}_{s_j})-Y_j)^2$$ établir les dérivées suivantes :\n",
    "    - $\\frac{\\partial f(\\mathcal{W})}{\\partial b_i}=\\sum\\limits_{j} (\\sigma(s_j)-Y_j)\\sigma(s_j)(1-\\sigma(s_j)w_i\\sigma(h_{ij})(1-\\sigma(h_{ij}))\\times 1$\n",
    "    - $\\frac{\\partial f(\\mathcal{W})}{\\partial w_{ik}}=\\sum\\limits_{j} (\\sigma(s_j)-Y_j)\\sigma(s_j)(1-\\sigma(s_j))w_i\\sigma(h_{ij})(1-\\sigma(h_{ij}))x_{kj}$"
   ]
  },
  {
   "cell_type": "markdown",
   "metadata": {},
   "source": [
    "*Réponses*\n",
    "\n",
    "Sur papier..."
   ]
  },
  {
   "cell_type": "code",
   "execution_count": 291,
   "metadata": {},
   "outputs": [],
   "source": [
    "# Fonction sigmoïde\n",
    "def sigma(x):\n",
    "    return 1/(1+np.exp(-x))\n",
    "\n",
    "# Calcul du gradient\n",
    "def gradient(W): #W=[[b,w1,w2],[b1,w11,w12,...,w19],[b2,w21,...,w29]]\n",
    "    H1=[sigma(np.dot(W[1],X.iloc[j])) for j in range(n)] # liste des sigma(h1j)\n",
    "    H2=[sigma(np.dot(W[2],X.iloc[j])) for j in range(n)] # liste des sigma(h2j)\n",
    "    S=[sigma(W[0][0]+W[0][1]*H1[j]+W[0][2]*H2[j]) for j in range(n)] # liste des sigma(sj)\n",
    "    delta=[(S[j]-Y.iloc[j])*S[j]*(1-S[j]) for j in range(n)] # liste des produits utilisés\n",
    "    # Dérivées partielles :\n",
    "    db=np.sum([delta[j] for j in range(n)])\n",
    "    dw1=np.sum([delta[j]*H1[j] for j in range(n)])\n",
    "    dw2=np.sum([delta[j]*H2[j] for j in range(n)])\n",
    "    d1=[delta[j]*H1[j]*(1-H1[j]) for j in range(n)] # liste de produits très utilisés\n",
    "    d2=[delta[j]*H2[j]*(1-H2[j]) for j in range(n)] # liste de produits très utilisés\n",
    "    db1=np.sum([d1[j] for j in range(n)])\n",
    "    db2=np.sum([d2[j] for j in range(n)])\n",
    "    dW1=[0,0,0,0,0,0,0,0,0]\n",
    "    dW2=[0,0,0,0,0,0,0,0,0]\n",
    "    for k in range(9):\n",
    "        dW1[k]=np.sum([d1[j]*X.iloc[j][k] for j in range(n)])\n",
    "        dW2[k]=np.sum([d2[j]*X.iloc[j][k] for j in range(n)])\n",
    "    return [[db,dw1,dw2],[db1]+dW1,[db2]+dW2]"
   ]
  },
  {
   "cell_type": "markdown",
   "metadata": {},
   "source": [
    "***Exercice***\n",
    "\n",
    "1. Calculer (dans la cellule ci-dessous) le gradient de $f$ pour des paramètres tous nuls : $\\mathcal{W}_0=(0,\\ldots,0)$.\n",
    "2. En déduire les coordonnées du point $\\mathcal{W}_1$ après une première itération de la descente de gradient pour un pas de $\\tau=10$.\n",
    "3. Calculer le gradient en $\\mathcal{W}_1$. Que remarquez vous ? Comment l'expliquer ?\n",
    "4. Est-ce judicieux de partir de $\\mathcal{W}_0$ ?"
   ]
  },
  {
   "cell_type": "code",
   "execution_count": null,
   "metadata": {},
   "outputs": [],
   "source": [
    "#Calculs :"
   ]
  },
  {
   "cell_type": "markdown",
   "metadata": {},
   "source": [
    "*Réponses*\n",
    "\n"
   ]
  },
  {
   "cell_type": "code",
   "execution_count": 292,
   "metadata": {},
   "outputs": [],
   "source": [
    "# Algorithme de descente\n",
    "def descente(W,tau=1,tolerance=1e-3,Nbiterations=10):\n",
    "    for i in range(Nbiterations):\n",
    "        g = gradient(W)\n",
    "        normg = g[0][0]**2+g[0][1]**2+g[0][2]**2\n",
    "        +np.sum([g[1][k]**2 for k in range(10)])\n",
    "        +np.sum([g[2][k]**2 for k in range(10)])\n",
    "        print(normg) # On affiche la norme du gradient pour visualiser la descente\n",
    "        if normg< tolerance:\n",
    "            print('L\\'algorithme a convergé.\\n Solution atteinte:\\n W=',W,'\\n Norme du gradient:',normg)\n",
    "            return W\n",
    "        W[0][0]=W[0][0]-tau*g[0][0]\n",
    "        W[0][1]=W[0][1]-tau*g[0][1]\n",
    "        W[0][2]=W[0][2]-tau*g[0][2]\n",
    "        for j in range(10):\n",
    "            W[1][j]=W[1][j]-tau*g[1][j]\n",
    "            W[2][j]=W[2][j]-tau*g[2][j]\n",
    "    print('L\\'algorithme n\\'a pas convergé.\\n Solution atteinte:\\n W=',W,'\\n Norme du gradient:',normg)\n",
    "    return W"
   ]
  },
  {
   "cell_type": "markdown",
   "metadata": {},
   "source": [
    "***Exercice***\n",
    "\n",
    "Identifier la monotonie de l'algorithme sur les 10 premières itérations, à partir de \n",
    "\n",
    "`W=[[0,0,1],[0,0,0,1,0,1,1,0,1,0],[0,1,0,0,0,1,1,0,1,0]]`\n",
    "\n",
    "pour un pas de :\n",
    "- $\\tau=0.1$  (avec une tolérance de $10^{-10}$ \n",
    "- $\\tau=1$ (avec une tolérance de $10^{-10}$\n",
    "- $\\tau=2$ (avec une tolérance de $10^{-20}$"
   ]
  },
  {
   "cell_type": "code",
   "execution_count": null,
   "metadata": {},
   "outputs": [],
   "source": [
    "#Calculs"
   ]
  },
  {
   "cell_type": "markdown",
   "metadata": {},
   "source": [
    "*Réponses*\n"
   ]
  },
  {
   "cell_type": "markdown",
   "metadata": {},
   "source": [
    "**Exercice**\n",
    "\n",
    "On considère les paramètres :\n",
    "\n",
    "`W= [[9.88490731988063, -21.978512228107505, -17.916264438553515], [16.24386006076292, -3.3023394159857937, 0.24495692674969732, -7.396212617646716, -3.593451718087197, -11.160218572484126, 3.377878093346306, -0.18551085358790684, 3.6581958544686723, -7.063699791645382], [7.070278747774737, -5.443080663419691, -3.495868955617516, -0.4833459413778877, 0.640016023480778, -0.4530535245792459, -2.5643255163830485, -4.5732183345557385, -5.341507777305012, 0.4114649638794456]]`\n",
    "    \n",
    "Calculer, à l'aide de la fonction `prediction` ci-dessous, la sortie du réseau de neurones pour une valeur $X$ possèdant une diagonale de $1$ et pour une valeur de $X$ ne possédant pas une diagonale de $1$."
   ]
  },
  {
   "cell_type": "code",
   "execution_count": 222,
   "metadata": {},
   "outputs": [],
   "source": [
    "def prediction(w,x):\n",
    "    return sigma(w[0][0]+w[0][1]*sigma(np.dot(w[1],x))+w[0][1]*sigma(np.dot(w[2],x)))"
   ]
  },
  {
   "cell_type": "code",
   "execution_count": null,
   "metadata": {},
   "outputs": [],
   "source": [
    "# Calcul\n"
   ]
  },
  {
   "cell_type": "markdown",
   "metadata": {},
   "source": [
    "*Commentaire*\n"
   ]
  },
  {
   "cell_type": "markdown",
   "metadata": {},
   "source": [
    "### Validation du modèle\n",
    "\n",
    "**Exercice**\n",
    "\n",
    "À l'aide de la fonction suivante, déterminer le nombre d'erreurs du réseau de neurones paramétré par le `W` de l'exercice précédent, calculé sur les données de validations."
   ]
  },
  {
   "cell_type": "code",
   "execution_count": 294,
   "metadata": {},
   "outputs": [
    {
     "name": "stdout",
     "output_type": "stream",
     "text": [
      "Nombre d'erreurs sur les données de validation : 11.0\n"
     ]
    }
   ],
   "source": [
    "print('Nombre d\\'erreurs sur les données de validation :',\n",
    "      np.sum([np.abs(round(prediction(W,Xvalid.iloc[i]))-Yvalid.iloc[i])\n",
    "              for i in range(len(Xvalid)-1)])\n",
    "     )"
   ]
  },
  {
   "cell_type": "markdown",
   "metadata": {},
   "source": [
    "*Commentaires*\n"
   ]
  },
  {
   "cell_type": "markdown",
   "metadata": {},
   "source": [
    "# Utilisation d'une librairie"
   ]
  },
  {
   "cell_type": "code",
   "execution_count": 1,
   "metadata": {},
   "outputs": [],
   "source": [
    "from sklearn.neural_network import MLPClassifier"
   ]
  },
  {
   "cell_type": "code",
   "execution_count": 5,
   "metadata": {},
   "outputs": [],
   "source": [
    "N=len(DIAGONAL) # Nombre de données\n",
    "n=int(2*N/3) # Deux tiers du nombres de données \n",
    "X=DIAGONAL.drop(['Y'],axis=1)[0:n] # Données d'apprentissage X\n",
    "Y=DIAGONAL['Y'][0:n] # Données d'apprentissage Y\n",
    "Xvalid=DIAGONAL.drop(['Y'],axis=1)[n+1:N] # Données de validation X\n",
    "Yvalid=DIAGONAL['Y'][n+1:N] # Données de validation Y\n",
    "nvalid=len(Xvalid)"
   ]
  },
  {
   "cell_type": "code",
   "execution_count": 297,
   "metadata": {},
   "outputs": [],
   "source": [
    "algo = MLPClassifier(\\\n",
    "    activation='logistic',\\\n",
    "    solver='lbfgs',\\\n",
    "    shuffle=True,\\\n",
    "    hidden_layer_sizes=(2,),\\\n",
    "    max_iter=100000,\\\n",
    "    tol=1e-20)"
   ]
  },
  {
   "cell_type": "code",
   "execution_count": 298,
   "metadata": {
    "scrolled": true
   },
   "outputs": [
    {
     "data": {
      "text/plain": [
       "MLPClassifier(activation='logistic', hidden_layer_sizes=(2,), max_iter=100000,\n",
       "              solver='lbfgs', tol=1e-20)"
      ]
     },
     "execution_count": 298,
     "metadata": {},
     "output_type": "execute_result"
    }
   ],
   "source": [
    "algo.fit(X,Y)"
   ]
  },
  {
   "cell_type": "code",
   "execution_count": 299,
   "metadata": {},
   "outputs": [
    {
     "name": "stdout",
     "output_type": "stream",
     "text": [
      "Score :  0.9183673469387755\n"
     ]
    }
   ],
   "source": [
    "Xvalid=Xvalid.drop('X0',axis=1)\n",
    "print('Score : ',algo.score(Xvalid,Yvalid))"
   ]
  },
  {
   "cell_type": "code",
   "execution_count": 300,
   "metadata": {},
   "outputs": [
    {
     "name": "stdout",
     "output_type": "stream",
     "text": [
      "[[10.005825356855198, -20.933442082898914, -18.229379719444932], [16.475509111440353, -1.1235459856106365, -0.40479028544727247, -5.635772466302118, -2.6192465805984106, -10.874470079488573, 1.2693105488696252, -1.4861173796986051, 1.9417154209051986, -6.948323715699229], [5.819744881735142, -8.882240771610627, -1.1707137593845467, -3.6703598482685695, 0.9601109808892896, -0.45131172489248994, -0.6208498928984283, -3.3369596234133407, -2.607360497554892, 2.0319842887668176]]\n"
     ]
    }
   ],
   "source": [
    "W=[[algo.intercepts_[1][0]]+[algo.coefs_[1][0][0]]+[algo.coefs_[1][1][0]],\\\n",
    "[algo.intercepts_[0][0]]+[algo.coefs_[0][k][0] for k in range(9)],\\\n",
    "[algo.intercepts_[0][1]]+[algo.coefs_[0][k][1] for k in range(9)]]\n",
    "print(W)"
   ]
  },
  {
   "cell_type": "code",
   "execution_count": 307,
   "metadata": {
    "scrolled": true
   },
   "outputs": [
    {
     "name": "stdout",
     "output_type": "stream",
     "text": [
      "Nb d'erreurs : 4\n",
      "[ [0, 0, 1, 1, 1, 1, 0, 0, 0] ]  Prédiction : [0]   Donnée : 0\n",
      "[ [0, 0, 0, 0, 0, 1, 0, 0, 1] ]  Prédiction : [0]   Donnée : 0\n",
      "[ [0, 0, 1, 1, 1, 1, 0, 0, 1] ]  Prédiction : [0]   Donnée : 0\n",
      "[ [0, 0, 1, 0, 1, 0, 1, 1, 0] ]  Prédiction : [0]   Donnée : 1\n",
      "[ [0, 1, 1, 0, 0, 0, 1, 0, 0] ]  Prédiction : [0]   Donnée : 0\n",
      "[ [0, 0, 0, 1, 1, 1, 1, 0, 1] ]  Prédiction : [0]   Donnée : 0\n",
      "[ [0, 1, 0, 0, 0, 0, 0, 1, 1] ]  Prédiction : [0]   Donnée : 0\n",
      "[ [0, 1, 1, 1, 1, 1, 0, 1, 0] ]  Prédiction : [0]   Donnée : 0\n",
      "[ [1, 1, 0, 0, 1, 0, 1, 1, 1] ]  Prédiction : [1]   Donnée : 1\n",
      "[ [1, 0, 1, 0, 0, 1, 1, 0, 1] ]  Prédiction : [0]   Donnée : 0\n",
      "[ [0, 0, 1, 1, 0, 0, 0, 0, 0] ]  Prédiction : [0]   Donnée : 0\n",
      "[ [1, 1, 1, 1, 1, 0, 1, 1, 1] ]  Prédiction : [1]   Donnée : 1\n",
      "[ [0, 0, 1, 1, 1, 1, 1, 1, 0] ]  Prédiction : [1]   Donnée : 1\n",
      "[ [0, 0, 0, 1, 0, 1, 1, 0, 0] ]  Prédiction : [0]   Donnée : 0\n",
      "[ [0, 1, 0, 0, 0, 1, 0, 0, 0] ]  Prédiction : [0]   Donnée : 0\n",
      "[ [0, 1, 1, 0, 1, 1, 1, 0, 1] ]  Prédiction : [1]   Donnée : 1\n",
      "[ [0, 1, 0, 1, 0, 1, 0, 0, 0] ]  Prédiction : [0]   Donnée : 0\n",
      "[ [1, 1, 0, 1, 0, 0, 0, 1, 0] ]  Prédiction : [0]   Donnée : 0\n",
      "[ [0, 0, 1, 1, 0, 0, 0, 0, 1] ]  Prédiction : [0]   Donnée : 0\n",
      "[ [1, 0, 0, 0, 1, 0, 0, 0, 1] ]  Prédiction : [1]   Donnée : 1\n",
      "[ [1, 1, 0, 1, 1, 0, 1, 1, 1] ]  Prédiction : [1]   Donnée : 1\n",
      "[ [0, 1, 0, 1, 1, 0, 1, 0, 1] ]  Prédiction : [0]   Donnée : 0\n",
      "[ [0, 1, 1, 0, 1, 0, 0, 1, 0] ]  Prédiction : [0]   Donnée : 0\n",
      "[ [1, 1, 1, 1, 1, 0, 0, 1, 1] ]  Prédiction : [1]   Donnée : 1\n",
      "[ [1, 0, 1, 0, 1, 1, 0, 1, 0] ]  Prédiction : [0]   Donnée : 0\n",
      "[ [1, 1, 1, 1, 0, 1, 1, 0, 1] ]  Prédiction : [1]   Donnée : 0\n",
      "[ [1, 1, 1, 1, 0, 1, 1, 0, 0] ]  Prédiction : [0]   Donnée : 0\n",
      "[ [1, 0, 0, 1, 1, 0, 0, 1, 0] ]  Prédiction : [0]   Donnée : 0\n",
      "[ [1, 0, 0, 0, 0, 1, 0, 1, 0] ]  Prédiction : [0]   Donnée : 0\n",
      "[ [0, 1, 1, 0, 0, 1, 0, 0, 1] ]  Prédiction : [0]   Donnée : 0\n",
      "[ [1, 0, 0, 0, 0, 0, 1, 0, 0] ]  Prédiction : [0]   Donnée : 0\n",
      "[ [1, 0, 0, 0, 1, 1, 1, 1, 1] ]  Prédiction : [1]   Donnée : 1\n",
      "[ [0, 0, 0, 1, 1, 1, 1, 0, 1] ]  Prédiction : [0]   Donnée : 0\n",
      "[ [0, 0, 0, 1, 0, 0, 0, 0, 0] ]  Prédiction : [0]   Donnée : 0\n",
      "[ [0, 1, 1, 1, 1, 0, 0, 1, 1] ]  Prédiction : [0]   Donnée : 0\n",
      "[ [0, 0, 1, 1, 1, 0, 0, 1, 1] ]  Prédiction : [0]   Donnée : 0\n",
      "[ [1, 1, 1, 0, 0, 1, 1, 1, 1] ]  Prédiction : [0]   Donnée : 0\n",
      "[ [1, 0, 1, 1, 1, 0, 1, 1, 0] ]  Prédiction : [1]   Donnée : 1\n",
      "[ [1, 1, 0, 0, 0, 0, 1, 1, 0] ]  Prédiction : [0]   Donnée : 0\n",
      "[ [0, 0, 1, 1, 0, 0, 0, 0, 0] ]  Prédiction : [0]   Donnée : 0\n",
      "[ [0, 0, 1, 1, 0, 1, 1, 0, 1] ]  Prédiction : [0]   Donnée : 0\n",
      "[ [0, 1, 0, 0, 0, 1, 0, 1, 1] ]  Prédiction : [0]   Donnée : 0\n",
      "[ [0, 1, 1, 1, 1, 1, 0, 1, 0] ]  Prédiction : [0]   Donnée : 0\n",
      "[ [0, 0, 1, 1, 1, 1, 1, 0, 1] ]  Prédiction : [0]   Donnée : 1\n",
      "[ [1, 1, 1, 1, 1, 0, 0, 0, 0] ]  Prédiction : [1]   Donnée : 0\n",
      "[ [0, 1, 1, 1, 0, 1, 1, 1, 0] ]  Prédiction : [0]   Donnée : 0\n",
      "[ [1, 0, 0, 1, 0, 1, 0, 1, 0] ]  Prédiction : [0]   Donnée : 0\n",
      "[ [0, 1, 0, 1, 1, 1, 1, 1, 0] ]  Prédiction : [0]   Donnée : 0\n",
      "[ [1, 0, 1, 0, 0, 1, 0, 1, 1] ]  Prédiction : [0]   Donnée : 0\n"
     ]
    }
   ],
   "source": [
    "print('Nb d\\'erreurs :',np.sum(\\\n",
    "             [np.abs(algo.predict([Xvalid.iloc[i]])-Yvalid.iloc[i])\\\n",
    "              for i in range(len(Xvalid)-1)]))\n",
    "for i in range(len(Xvalid)):\n",
    "    print('[',[Xvalid.iloc[i][k] for k in range(9)],']',\\\n",
    "          ' Prédiction :',algo.predict([Xvalid.iloc[i]]),' '\n",
    "          ' Donnée :',Yvalid.iloc[i])"
   ]
  },
  {
   "cell_type": "markdown",
   "metadata": {},
   "source": [
    "### Probabilités\n",
    "\n",
    "predict_probas donne la probabilité d'être de la première classe (O) et la probabilité d'être de la deuxième classe (1)"
   ]
  },
  {
   "cell_type": "code",
   "execution_count": 308,
   "metadata": {
    "scrolled": false
   },
   "outputs": [
    {
     "name": "stdout",
     "output_type": "stream",
     "text": [
      "[0, 0, 1, 1, 1, 1, 0, 0, 0] -> [9.99966807e-01 3.31929597e-05] Donnée : 0\n",
      "[0, 0, 0, 0, 0, 1, 0, 0, 1] -> [1.00000000e+00 2.20389158e-13] Donnée : 0\n",
      "[0, 0, 1, 1, 1, 1, 0, 0, 1] -> [9.99637563e-01 3.62436626e-04] Donnée : 0\n",
      "[0, 0, 1, 0, 1, 0, 1, 1, 0] -> [0.94729042 0.05270958] Donnée : 1\n",
      "[0, 1, 1, 0, 0, 0, 1, 0, 0] -> [9.99996274e-01 3.72632419e-06] Donnée : 0\n",
      "[0, 0, 0, 1, 1, 1, 1, 0, 1] -> [9.99755840e-01 2.44159886e-04] Donnée : 0\n",
      "[0, 1, 0, 0, 0, 0, 0, 1, 1] -> [1.00000000e+00 2.95034699e-13] Donnée : 0\n",
      "[0, 1, 1, 1, 1, 1, 0, 1, 0] -> [0.98159106 0.01840894] Donnée : 0\n",
      "[1, 1, 0, 0, 1, 0, 1, 1, 1] -> [2.50183668e-04 9.99749816e-01] Donnée : 1\n",
      "[1, 0, 1, 0, 0, 1, 1, 0, 1] -> [9.99918607e-01 8.13933497e-05] Donnée : 0\n",
      "[0, 0, 1, 1, 0, 0, 0, 0, 0] -> [1.00000000e+00 4.76334443e-13] Donnée : 0\n",
      "[1, 1, 1, 1, 1, 0, 1, 1, 1] -> [4.51661469e-05 9.99954834e-01] Donnée : 1\n",
      "[0, 0, 1, 1, 1, 1, 1, 1, 0] -> [0.02365863 0.97634137] Donnée : 1\n",
      "[0, 0, 0, 1, 0, 1, 1, 0, 0] -> [1.00000000e+00 6.05032637e-13] Donnée : 0\n",
      "[0, 1, 0, 0, 0, 1, 0, 0, 0] -> [1.00000000e+00 2.99078598e-13] Donnée : 0\n",
      "[0, 1, 1, 0, 1, 1, 1, 0, 1] -> [0.001684 0.998316] Donnée : 1\n",
      "[0, 1, 0, 1, 0, 1, 0, 0, 0] -> [1.00000000e+00 2.45973063e-13] Donnée : 0\n",
      "[1, 1, 0, 1, 0, 0, 0, 1, 0] -> [9.99982934e-01 1.70663400e-05] Donnée : 0\n",
      "[0, 0, 1, 1, 0, 0, 0, 0, 1] -> [1.00000000e+00 2.36196604e-11] Donnée : 0\n",
      "[1, 0, 0, 0, 1, 0, 0, 0, 1] -> [0.00669748 0.99330252] Donnée : 1\n",
      "[1, 1, 0, 1, 1, 0, 1, 1, 1] -> [5.21000841e-05 9.99947900e-01] Donnée : 1\n",
      "[0, 1, 0, 1, 1, 0, 1, 0, 1] -> [9.99631039e-01 3.68961231e-04] Donnée : 0\n",
      "[0, 1, 1, 0, 1, 0, 0, 1, 0] -> [9.99892739e-01 1.07260769e-04] Donnée : 0\n",
      "[1, 1, 1, 1, 1, 0, 0, 1, 1] -> [4.55165746e-05 9.99954483e-01] Donnée : 1\n",
      "[1, 0, 1, 0, 1, 1, 0, 1, 0] -> [9.99805806e-01 1.94193919e-04] Donnée : 0\n",
      "[1, 1, 1, 1, 0, 1, 1, 0, 1] -> [0.12274768 0.87725232] Donnée : 0\n",
      "[1, 1, 1, 1, 0, 1, 1, 0, 0] -> [9.99981463e-01 1.85366026e-05] Donnée : 0\n",
      "[1, 0, 0, 1, 1, 0, 0, 1, 0] -> [9.99974416e-01 2.55841978e-05] Donnée : 0\n",
      "[1, 0, 0, 0, 0, 1, 0, 1, 0] -> [9.99982640e-01 1.73597084e-05] Donnée : 0\n",
      "[0, 1, 1, 0, 0, 1, 0, 0, 1] -> [1.00000000e+00 1.20074932e-12] Donnée : 0\n",
      "[1, 0, 0, 0, 0, 0, 1, 0, 0] -> [9.99982580e-01 1.74203831e-05] Donnée : 0\n",
      "[1, 0, 0, 0, 1, 1, 1, 1, 1] -> [0.03677445 0.96322555] Donnée : 1\n",
      "[0, 0, 0, 1, 1, 1, 1, 0, 1] -> [9.99755840e-01 2.44159886e-04] Donnée : 0\n",
      "[0, 0, 0, 1, 0, 0, 0, 0, 0] -> [1.00000000e+00 2.21959094e-13] Donnée : 0\n",
      "[0, 1, 1, 1, 1, 0, 0, 1, 1] -> [0.9528494 0.0471506] Donnée : 0\n",
      "[0, 0, 1, 1, 1, 0, 0, 1, 1] -> [0.99800273 0.00199727] Donnée : 0\n",
      "[1, 1, 1, 0, 0, 1, 1, 1, 1] -> [9.99974641e-01 2.53586643e-05] Donnée : 0\n",
      "[1, 0, 1, 1, 1, 0, 1, 1, 0] -> [9.35714886e-05 9.99906429e-01] Donnée : 1\n",
      "[1, 1, 0, 0, 0, 0, 1, 1, 0] -> [9.99982057e-01 1.79427692e-05] Donnée : 0\n",
      "[0, 0, 1, 1, 0, 0, 0, 0, 0] -> [1.00000000e+00 4.76334443e-13] Donnée : 0\n",
      "[0, 0, 1, 1, 0, 1, 1, 0, 1] -> [9.99999997e-01 3.46968014e-09] Donnée : 0\n",
      "[0, 1, 0, 0, 0, 1, 0, 1, 1] -> [1.00000000e+00 3.80408779e-13] Donnée : 0\n",
      "[0, 1, 1, 1, 1, 1, 0, 1, 0] -> [0.98159106 0.01840894] Donnée : 0\n",
      "[0, 0, 1, 1, 1, 1, 1, 0, 1] -> [0.90937505 0.09062495] Donnée : 1\n",
      "[1, 1, 1, 1, 1, 0, 0, 0, 0] -> [6.25222866e-05 9.99937478e-01] Donnée : 0\n",
      "[0, 1, 1, 1, 0, 1, 1, 1, 0] -> [9.99984931e-01 1.50691070e-05] Donnée : 0\n",
      "[1, 0, 0, 1, 0, 1, 0, 1, 0] -> [9.99983554e-01 1.64455220e-05] Donnée : 0\n",
      "[0, 1, 0, 1, 1, 1, 1, 1, 0] -> [9.99999341e-01 6.58835837e-07] Donnée : 0\n",
      "[1, 0, 1, 0, 0, 1, 0, 1, 1] -> [9.99981194e-01 1.88059730e-05] Donnée : 0\n"
     ]
    }
   ],
   "source": [
    "for i in range(len(Xvalid)):\n",
    "    print([Xvalid.iloc[i][k] for k in range(9)],'->',algo.predict_proba([Xvalid.iloc[i]])[0],'Donnée :',Yvalid.iloc[i])"
   ]
  }
 ],
 "metadata": {
  "colab": {
   "authorship_tag": "ABX9TyOL5iJTlZCmM9764vTsZljv",
   "collapsed_sections": [],
   "name": "descente-deux-variables.ipynb",
   "provenance": [
    {
     "file_id": "164i4yxW6Yks9BXBhzNAJHUMyX1UBjEp3",
     "timestamp": 1606828072802
    }
   ]
  },
  "kernelspec": {
   "display_name": "Python 3",
   "language": "python",
   "name": "python3"
  },
  "language_info": {
   "codemirror_mode": {
    "name": "ipython",
    "version": 3
   },
   "file_extension": ".py",
   "mimetype": "text/x-python",
   "name": "python",
   "nbconvert_exporter": "python",
   "pygments_lexer": "ipython3",
   "version": "3.8.3"
  }
 },
 "nbformat": 4,
 "nbformat_minor": 1
}

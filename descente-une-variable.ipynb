{
 "cells": [
  {
   "cell_type": "markdown",
   "metadata": {
    "id": "Na-Yck4lZiN1"
   },
   "source": [
    "Import des librairies"
   ]
  },
  {
   "cell_type": "code",
   "execution_count": 1,
   "metadata": {
    "id": "Zupdaax6Xf8b"
   },
   "outputs": [],
   "source": [
    "from matplotlib import pyplot as plt\n",
    "import numpy as np"
   ]
  },
  {
   "cell_type": "markdown",
   "metadata": {
    "id": "dev_luUrXiaK"
   },
   "source": [
    "Fonction à optimiser et sa dérivée"
   ]
  },
  {
   "cell_type": "code",
   "execution_count": 2,
   "metadata": {
    "id": "x8vrszX1Xo7B"
   },
   "outputs": [],
   "source": [
    "def f(x):\n",
    "  return x**2-6*x+1\n",
    "def df(x):\n",
    "  return 2*x-6"
   ]
  },
  {
   "cell_type": "markdown",
   "metadata": {
    "id": "jf5-5ru4XsBv"
   },
   "source": [
    "Choix du pas"
   ]
  },
  {
   "cell_type": "code",
   "execution_count": 3,
   "metadata": {
    "id": "h65mSjh4XrQJ"
   },
   "outputs": [],
   "source": [
    "eta = 0.6"
   ]
  },
  {
   "cell_type": "markdown",
   "metadata": {
    "id": "LqRaPj_nX1sp"
   },
   "source": [
    "Algorithme"
   ]
  },
  {
   "cell_type": "code",
   "execution_count": 4,
   "metadata": {
    "id": "QfvzrSaAYmi3"
   },
   "outputs": [],
   "source": [
    "# Initialisation\n",
    "x0=np.random.randint(20,40+1,1)[0] # un array 1d de 1 nombre(s) entier(s) compris entre 20 et 40, 20 et 40 inclus\n",
    "xi=[x0]\n",
    "yi=[f(x0)]\n",
    "x=x0\n",
    "# Récurrence\n",
    "for i in range(10):\n",
    " nx= x-eta*df(x) #Point suivant\n",
    " xi.append(nx) #Ajout dans la liste (xi,yi)\n",
    " yi.append(f(nx))\n",
    " x=nx # Point courant = point suivant"
   ]
  },
  {
   "cell_type": "markdown",
   "metadata": {
    "id": "zF_q_GCtZqBq"
   },
   "source": [
    "Solution"
   ]
  },
  {
   "cell_type": "code",
   "execution_count": 5,
   "metadata": {
    "colab": {
     "base_uri": "https://localhost:8080/"
    },
    "id": "cdQ4pmz_ZtC8",
    "outputId": "40400133-4cce-48ec-91fb-6cc152472eab"
   },
   "outputs": [
    {
     "name": "stdout",
     "output_type": "stream",
     "text": [
      "[27, -1.7999999999999972, 3.959999999999999, 2.8080000000000003, 3.0383999999999998, 2.99232, 3.001536, 2.9996928, 3.00006144, 2.999987712, 3.0000024576]\n",
      "3.0000024576\n"
     ]
    }
   ],
   "source": [
    "print(xi)\n",
    "print(xi[len(xi)-1])"
   ]
  },
  {
   "cell_type": "markdown",
   "metadata": {
    "id": "IKHYfHmEY1AU"
   },
   "source": [
    "Représentation graphique de l'algorithme"
   ]
  },
  {
   "cell_type": "code",
   "execution_count": 6,
   "metadata": {
    "colab": {
     "base_uri": "https://localhost:8080/",
     "height": 284
    },
    "id": "vKGl5IvDXzLA",
    "outputId": "9a15b75d-9064-4b1f-ee58-dbdd1f8cbf20"
   },
   "outputs": [
    {
     "data": {
      "text/plain": [
       "<function matplotlib.pyplot.show(*args, **kw)>"
      ]
     },
     "execution_count": 6,
     "metadata": {},
     "output_type": "execute_result"
    },
    {
     "data": {
      "image/png": "[encoded data removed]",
      "text/plain": [
       "<Figure size 432x288 with 1 Axes>"
      ]
     },
     "metadata": {
      "needs_background": "light"
     },
     "output_type": "display_data"
    }
   ],
   "source": [
    "xxx= range(-5,10)\n",
    "plt.plot(xxx,[f(xi) for xi in xxx]) # Représentation de la fonction sur [-x0,x0]\n",
    "plt.plot(xi,yi) # Représentation des segments (x_i,y_i)--(x_(i+1),y_(i+1))\n",
    "plt.show"
   ]
  },
  {
   "cell_type": "code",
   "execution_count": null,
   "metadata": {
    "id": "Xn74EpfRXeSo"
   },
   "outputs": [],
   "source": []
  },
  {
   "cell_type": "code",
   "execution_count": null,
   "metadata": {
    "colab": {
     "base_uri": "https://localhost:8080/"
    },
    "id": "uyPHXDLNLxTG",
    "outputId": "ce99e206-8ecd-44de-e875-d8a7bd9204a7"
   },
   "outputs": [
    {
     "name": "stdout",
     "output_type": "stream",
     "text": [
      "29 27.0 2.0\n"
     ]
    }
   ],
   "source": [
    "print(x0,0.5*(2*x0-4),x0-0.5*(2*x0-4))"
   ]
  }
 ],
 "metadata": {
  "colab": {
   "authorship_tag": "ABX9TyMUNvpvplA+oiXkt6/VO1xX",
   "collapsed_sections": [],
   "name": "descente-une-variable.ipynb",
   "provenance": []
  },
  "kernelspec": {
   "display_name": "Python 3",
   "language": "python",
   "name": "python3"
  },
  "language_info": {
   "codemirror_mode": {
    "name": "ipython",
    "version": 3
   },
   "file_extension": ".py",
   "mimetype": "text/x-python",
   "name": "python",
   "nbconvert_exporter": "python",
   "pygments_lexer": "ipython3",
   "version": "3.8.3"
  }
 },
 "nbformat": 4,
 "nbformat_minor": 1
}

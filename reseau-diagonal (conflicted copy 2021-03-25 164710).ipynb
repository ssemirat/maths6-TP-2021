{
 "cells": [
  {
   "cell_type": "markdown",
   "metadata": {},
   "source": [
    "# TP6 : Reconnaissance d'image par un réseau de neurones"
   ]
  },
  {
   "cell_type": "markdown",
   "metadata": {
    "id": "Na-Yck4lZiN1"
   },
   "source": [
    "### Chargement des librairies"
   ]
  },
  {
   "cell_type": "code",
   "execution_count": 1,
   "metadata": {
    "executionInfo": {
     "elapsed": 530,
     "status": "ok",
     "timestamp": 1606831889555,
     "user": {
      "displayName": "Stephan Semirat",
      "photoUrl": "",
      "userId": "06413469689434144964"
     },
     "user_tz": -60
    },
    "id": "Zupdaax6Xf8b"
   },
   "outputs": [],
   "source": [
    "from matplotlib import pyplot as plt\n",
    "import numpy as np\n",
    "import pandas as pd"
   ]
  },
  {
   "cell_type": "markdown",
   "metadata": {},
   "source": [
    "### Chargement des données"
   ]
  },
  {
   "cell_type": "code",
   "execution_count": 2,
   "metadata": {
    "scrolled": false
   },
   "outputs": [
    {
     "data": {
      "text/html": [
       "<div>\n",
       "<style scoped>\n",
       "    .dataframe tbody tr th:only-of-type {\n",
       "        vertical-align: middle;\n",
       "    }\n",
       "\n",
       "    .dataframe tbody tr th {\n",
       "        vertical-align: top;\n",
       "    }\n",
       "\n",
       "    .dataframe thead th {\n",
       "        text-align: right;\n",
       "    }\n",
       "</style>\n",
       "<table border=\"1\" class=\"dataframe\">\n",
       "  <thead>\n",
       "    <tr style=\"text-align: right;\">\n",
       "      <th></th>\n",
       "      <th>X1</th>\n",
       "      <th>X2</th>\n",
       "      <th>X3</th>\n",
       "      <th>X4</th>\n",
       "      <th>X5</th>\n",
       "      <th>X6</th>\n",
       "      <th>X7</th>\n",
       "      <th>X8</th>\n",
       "      <th>X9</th>\n",
       "      <th>Y</th>\n",
       "    </tr>\n",
       "  </thead>\n",
       "  <tbody>\n",
       "    <tr>\n",
       "      <th>0</th>\n",
       "      <td>0</td>\n",
       "      <td>0</td>\n",
       "      <td>0</td>\n",
       "      <td>1</td>\n",
       "      <td>1</td>\n",
       "      <td>1</td>\n",
       "      <td>1</td>\n",
       "      <td>1</td>\n",
       "      <td>1</td>\n",
       "      <td>0</td>\n",
       "    </tr>\n",
       "    <tr>\n",
       "      <th>1</th>\n",
       "      <td>0</td>\n",
       "      <td>0</td>\n",
       "      <td>1</td>\n",
       "      <td>0</td>\n",
       "      <td>0</td>\n",
       "      <td>1</td>\n",
       "      <td>0</td>\n",
       "      <td>0</td>\n",
       "      <td>0</td>\n",
       "      <td>0</td>\n",
       "    </tr>\n",
       "    <tr>\n",
       "      <th>2</th>\n",
       "      <td>1</td>\n",
       "      <td>0</td>\n",
       "      <td>0</td>\n",
       "      <td>1</td>\n",
       "      <td>0</td>\n",
       "      <td>1</td>\n",
       "      <td>1</td>\n",
       "      <td>1</td>\n",
       "      <td>0</td>\n",
       "      <td>0</td>\n",
       "    </tr>\n",
       "    <tr>\n",
       "      <th>3</th>\n",
       "      <td>1</td>\n",
       "      <td>1</td>\n",
       "      <td>0</td>\n",
       "      <td>1</td>\n",
       "      <td>1</td>\n",
       "      <td>1</td>\n",
       "      <td>0</td>\n",
       "      <td>0</td>\n",
       "      <td>1</td>\n",
       "      <td>1</td>\n",
       "    </tr>\n",
       "    <tr>\n",
       "      <th>4</th>\n",
       "      <td>1</td>\n",
       "      <td>0</td>\n",
       "      <td>0</td>\n",
       "      <td>1</td>\n",
       "      <td>1</td>\n",
       "      <td>1</td>\n",
       "      <td>0</td>\n",
       "      <td>1</td>\n",
       "      <td>1</td>\n",
       "      <td>1</td>\n",
       "    </tr>\n",
       "  </tbody>\n",
       "</table>\n",
       "</div>"
      ],
      "text/plain": [
       "   X1  X2  X3  X4  X5  X6  X7  X8  X9  Y\n",
       "0   0   0   0   1   1   1   1   1   1  0\n",
       "1   0   0   1   0   0   1   0   0   0  0\n",
       "2   1   0   0   1   0   1   1   1   0  0\n",
       "3   1   1   0   1   1   1   0   0   1  1\n",
       "4   1   0   0   1   1   1   0   1   1  1"
      ]
     },
     "execution_count": 2,
     "metadata": {},
     "output_type": "execute_result"
    }
   ],
   "source": [
    "# Lecture des données\n",
    "DIAGONAL=pd.read_csv(\"deuxdiag.csv\")\n",
    "# Visualisation des 5 premières données\n",
    "DIAGONAL.head()"
   ]
  },
  {
   "cell_type": "markdown",
   "metadata": {},
   "source": [
    "**Exercice**\n",
    "1. Dans le jeu de données `DIAGONAL`, à quoi correspond une donnée ?\n",
    "2. On considère les données `X1`, ..., `X9` comme les 9 cases d'un carré 3*3 :<br/>\n",
    "    X1 X2 X3<br/>\n",
    "    X4 X5 X6<br/>\n",
    "    X7 X8 X9<br/>\n",
    "    À quelle condition sur les `Xi` a-t-on : une des deux diagonales du carré est constituée de 1 ?\n",
    "3. Vérifier sur les 5 premières données que le jeux de données `DIAGONAL` est tel que la conditon précédente est vérifiée si et seulement si `Y=1`."
   ]
  },
  {
   "cell_type": "markdown",
   "metadata": {},
   "source": [
    "*Réponses*\n"
   ]
  },
  {
   "cell_type": "markdown",
   "metadata": {},
   "source": [
    "### Données d'apprentissage et données de validation\n",
    "\n",
    "Le jeu de données est séparé 2 :\n",
    "- Deux tiers des données sont utilisées pour l'apprentissage du réseau de neurones\n",
    "- Le troisième tiers des données est mis à l'écart et sera utilisé pour évaluer la performance du réseau sur ces données (sur lesquelles il n'aura pas appris)."
   ]
  },
  {
   "cell_type": "code",
   "execution_count": 12,
   "metadata": {},
   "outputs": [],
   "source": [
    "N=len(DIAGONAL) # Nombre de données\n",
    "n=int(2*N/3) # Deux tiers du nombres de données \n",
    "X=DIAGONAL.drop(['Y'],axis=1)[0:n] # Données d'apprentissage X\n",
    "Y=DIAGONAL['Y'][0:n] # Données d'apprentissage Y\n",
    "X.insert(loc = 0, column = 'X0',value = np.ones(n,dtype = int)) # On ajoute une colonne de 1 pour b\n",
    "Xvalid=DIAGONAL.drop(['Y'],axis=1)[n+1:N] # Données de validation X\n",
    "Yvalid=DIAGONAL['Y'][n+1:N] # Données de validation Y\n",
    "nvalid=len(Xvalid)\n",
    "Xvalid.insert(loc = 0, column = 'X0',value = np.ones(nvalid,dtype=int)) # On ajoute une colonne de 1 pour b"
   ]
  },
  {
   "cell_type": "markdown",
   "metadata": {},
   "source": [
    "**Exercice**\n",
    "\n",
    "Sachant que `DIAGONAL` contient 300 données $(X_i,Y_i)$, sur combien de données le réseau va-t-il apprendre ? Sur combien de données la performance du réseau va-t-elle être évaluée ?"
   ]
  },
  {
   "cell_type": "markdown",
   "metadata": {},
   "source": [
    "*Réponses*\n"
   ]
  },
  {
   "cell_type": "markdown",
   "metadata": {},
   "source": [
    "### Réseau à 1 couche cachée de 2 neurones\n",
    "On approxime $X\\mapsto Y$ par la fonction $R_{\\mathcal{W}}$, où $\\mathcal{W}$ désigne l'ensemble des paramètres $b$, $w_1$, $w_2$, $B=\\begin{pmatrix}b_1\\\\b_2\\end{pmatrix}$ et $W=\\begin{pmatrix}W_1\\\\W_2\\end{pmatrix}=\\begin{pmatrix}w_{11}&w_{12}&\\ldots&w_{19}\\\\w_{21}&w_{22}&\\ldots&w_{29}\\end{pmatrix}$, définie par : $$R_{\\mathcal{W}}:X\\mapsto \\sigma\\left(b+\\begin{pmatrix}w_1&w_2\\end{pmatrix}\\cdot H(B+W\\cdot X)\\right),$$ où\n",
    "$$\\sigma(x)=\\frac{1}{1+e^{-x}}$$ est la fonction sigmoïd, et $$H=\\begin{pmatrix}h_1(X)\\\\h_2(X)\\end{pmatrix}=\\begin{pmatrix}\\sigma\\left(b_1+\\begin{pmatrix}w_{11}&\\ldots&w_{19}\\end{pmatrix}\\cdot X\\right)\\\\\\sigma\\left(b_2+\\begin{pmatrix}w_{21}&\\ldots&w_{29}\\end{pmatrix}\\cdot X\\right)\\end{pmatrix}$$ est la couche cachée."
   ]
  },
  {
   "cell_type": "markdown",
   "metadata": {},
   "source": [
    "**Exercice**\n",
    "\n",
    "1. Combien de paramètres la fonction $R_{\\mathcal{W}}$ possède-t-elle ?\n",
    "2. Représenter le réseau de neurones associé à $R_{\\mathcal{W}}$.\n",
    "3. Pourquoi parle-t-on d'un réseau à *deux* neurones ?"
   ]
  },
  {
   "cell_type": "markdown",
   "metadata": {},
   "source": [
    "*Réponses*\n"
   ]
  },
  {
   "cell_type": "markdown",
   "metadata": {},
   "source": [
    "### Rétropropagation du gradient"
   ]
  },
  {
   "cell_type": "markdown",
   "metadata": {},
   "source": [
    "Les paramètres $\\mathcal{W}$ sont déterminés en minimisant la fonction :\n",
    "$$f(\\mathcal{W})=\\frac{1}{2}\\sum\\limits_{j} (R_{\\mathcal{W}}(X_j)-Y_j)^2$$\n",
    "où la somme est calculée sur les données d'apprentissage.\n",
    "\n",
    "On réécrit $$f(\\mathcal{W})=\\frac{1}{2}\\sum\\limits_{j} (\\sigma(s_j)-Y_j)^2$$\n",
    "où $$s_j=b+W\\cdot H_j,$$\n",
    "avec $$H_j=\\begin{pmatrix}\\sigma(h_{1j})\\\\ \\sigma(h_{2j})\\end{pmatrix}$$\n",
    "où $$h_{ij}=b_i+W_i\\cdot X_j.$$\n",
    "\n",
    "**Exercice**\n",
    "\n",
    "On rappelle la propriété $\\sigma'(x)=\\sigma(x)\\times (1-\\sigma(x))$.\n",
    "\n",
    "1. À partir de $$f(\\mathcal{W})=\\frac{1}{2}\\sum\\limits_{j} (\\sigma(\\underbrace{b+W\\cdot H_j}_{s_j})-Y_j)^2$$ établir les dérivées suivantes :\n",
    "    - $\\frac{\\partial f(\\mathcal{W})}{\\partial b}=\\sum\\limits_{j} (\\sigma(s_j)-Y_j)\\sigma(s_j)(1-\\sigma(s_j))\\times1$\n",
    "    - $\\frac{\\partial f(\\mathcal{W})}{\\partial w_i}=\\sum\\limits_{j} (\\sigma(s_j)-Y_j)\\sigma(s_j)(1-\\sigma(s_j))\\sigma(h_{ij})$\n",
    "\n",
    "2. À partir de $$f(\\mathcal{W})=\\frac{1}{2}\\sum\\limits_{j} (\\sigma(\\underbrace{b+w_1\\sigma(\\underbrace{b_1+\\sum\\limits_{k=1..9} w_{1k}x_{kj}}_{h_{1j}})+w_2\\sigma(\\underbrace{b_2+\\sum\\limits_{k=1..9} w_{2k}x_{kj}}_{h_{2j}})}_{s_j})-Y_j)^2$$ établir les dérivées suivantes :\n",
    "    - $\\frac{\\partial f(\\mathcal{W})}{\\partial b_i}=\\sum\\limits_{j} (\\sigma(s_j)-Y_j)\\sigma(s_j)(1-\\sigma(s_j)w_i\\sigma(h_{ij})(1-\\sigma(h_{ij}))\\times 1$\n",
    "    - $\\frac{\\partial f(\\mathcal{W})}{\\partial w_{ik}}=\\sum\\limits_{j} (\\sigma(s_j)-Y_j)\\sigma(s_j)(1-\\sigma(s_j))w_i\\sigma(h_{ij})(1-\\sigma(h_{ij}))x_{kj}$"
   ]
  },
  {
   "cell_type": "markdown",
   "metadata": {},
   "source": [
    "*Réponses*\n",
    "\n",
    "Sur papier..."
   ]
  },
  {
   "cell_type": "code",
   "execution_count": 164,
   "metadata": {},
   "outputs": [],
   "source": [
    "# Fonction sigmoïde\n",
    "def sigma(x):\n",
    "    return 1/(1+np.exp(-x))\n",
    "\n",
    "# Calcul du gradient\n",
    "def gradient(W): #W=[[b,w1,w2],[b1,w11,w12,...,w19],[b2,w21,...,w29]]\n",
    "    H1=[sigma(np.dot(W[1],X.iloc[j])) for j in range(n)] # liste des sigma(h1j)\n",
    "    H2=[sigma(np.dot(W[2],X.iloc[j])) for j in range(n)] # liste des sigma(h2j)\n",
    "    S=[sigma(W[0][0]+W[0][1]*H1[j]+W[0][2]*H2[j]) for j in range(n)] # liste des sigma(sj)\n",
    "    # Dérivées partielles :\n",
    "    db=np.sum([(S[j]-Y.iloc[j])*S[j]*(1-S[j]) for j in range(n)])\n",
    "    dw1=np.sum([(S[j]-Y.iloc[j])*S[j]*(1-S[j])*H1[j] for j in range(n)])\n",
    "    dw2=np.sum([(S[j]-Y.iloc[j])*S[j]*(1-S[j])*H2[j] for j in range(n)])\n",
    "    db1=np.sum([(S[j]-Y.iloc[j])*S[j]*(1-S[j])*H1[j]*(1-H1[j]) for j in range(n)])\n",
    "    db2=np.sum([(S[j]-Y.iloc[j])*S[j]*(1-S[j])*H2[j]*(1-H2[j]) for j in range(n)])\n",
    "    dW1=[0,0,0,0,0,0,0,0,0]\n",
    "    dW2=[0,0,0,0,0,0,0,0,0]\n",
    "    for k in range(9):\n",
    "        dW1[k]=np.sum([(S[j]-Y.iloc[j])*S[j]*(1-S[j])*H1[j]*(1-H1[j])*X.iloc[j][k] for j in range(n)])\n",
    "        dW2[k]=np.sum([(S[j]-Y.iloc[j])*S[j]*(1-S[j])*H2[j]*(1-H2[j])*X.iloc[j][k] for j in range(n)])\n",
    "    return [[db,dw1,dw2],[db1]+dW1,[db2]+dW2]"
   ]
  },
  {
   "cell_type": "markdown",
   "metadata": {},
   "source": [
    "***Exercice***\n",
    "\n",
    "1. Calculer (dans la cellule ci-dessous) le gradient de $f$ pour des paramètres tous nuls : $\\mathcal{W}_0=(0,\\ldots,0)$.\n",
    "2. En déduire les coordonnées du point $\\mathcal{W}_1$ après une première itération de la descente de gradient pour un pas de $\\tau=10$.\n",
    "3. Calculer le gradient en $\\mathcal{W}_1$. Que remarquez vous ? Comment l'expliquer ?\n",
    "4. Est-ce judicieux de partir de $\\mathcal{W}_0$ ?"
   ]
  },
  {
   "cell_type": "code",
   "execution_count": null,
   "metadata": {},
   "outputs": [],
   "source": [
    "#Calculs :"
   ]
  },
  {
   "cell_type": "markdown",
   "metadata": {},
   "source": [
    "*Réponses*\n",
    "\n"
   ]
  },
  {
   "cell_type": "code",
   "execution_count": 165,
   "metadata": {},
   "outputs": [],
   "source": [
    "# Algorithme de descente\n",
    "def descente(W,tau=1,tolerance=1e-3,Nbiterations=10):\n",
    "    for i in range(Nbiterations):\n",
    "        g = gradient(W)\n",
    "        normg = g[0][0]**2+g[0][1]**2+g[0][2]**2\n",
    "        +np.sum([g[1][k]**2 for k in range(10)])\n",
    "        +np.sum([g[2][k]**2 for k in range(10)])\n",
    "        print(normg) # On affiche la norme du gradient pour visualiser la descente\n",
    "        if normg< tolerance:\n",
    "            print('L\\'algorithme a convergé.\\n Solution atteinte:\\n W=',W,'\\n Norme du gradient:',normg)\n",
    "            return W\n",
    "        W[0][0]=W[0][0]-tau*g[0][0]\n",
    "        W[0][1]=W[0][1]-tau*g[0][1]\n",
    "        W[0][2]=W[0][2]-tau*g[0][2]\n",
    "        for j in range(10):\n",
    "            W[1][j]=W[1][j]-tau*g[1][j]\n",
    "            W[2][j]=W[2][j]-tau*g[2][j]\n",
    "    print('L\\'algorithme n\\'a pas convergé.\\n Solution atteinte:\\n W=',W,'\\n Norme du gradient:',normg)\n",
    "    return W"
   ]
  },
  {
   "cell_type": "markdown",
   "metadata": {},
   "source": [
    "***Exercice***\n",
    "\n",
    "Identifier la monotonie de l'algorithme sur les 10 premières itération, à partir de \n",
    "\n",
    "`W=[[1,2,3],[4,5,6,7,8,9,10,11,12,13],[13,12,11,10,9,8,7,6,5,4]]`\n",
    "\n",
    "pour un pas de :\n",
    "\n",
    "$\\tau=1$, $\\tau=10$"
   ]
  },
  {
   "cell_type": "code",
   "execution_count": 167,
   "metadata": {},
   "outputs": [
    {
     "name": "stdout",
     "output_type": "stream",
     "text": [
      "187.04341999187955\n",
      "187.04341999187875\n",
      "187.0434199918783\n",
      "187.04341999187747\n",
      "187.04341999187676\n",
      "187.04341999187614\n",
      "187.04341999187537\n",
      "187.0434199918747\n",
      "187.0434199918741\n",
      "187.04341999187326\n",
      "L'algorithme n'a pas convergé.\n",
      " Solution atteinte:\n",
      " W= [[-7.999999999999934e-15, -7.843577627329173e-15, -7.843577627329173e-15], [1.0, 1.0, 1.0, 1.0, 1.0, 1.0, 1.0, 1.0, 1.0, 1.0], [1.0, 1.0, 1.0, 1.0, 1.0, 1.0, 1.0, 1.0, 1.0, 1.0]] \n",
      " Norme du gradient: 187.04341999187326\n"
     ]
    },
    {
     "data": {
      "text/plain": [
       "[[-7.999999999999934e-15, -7.843577627329173e-15, -7.843577627329173e-15],\n",
       " [1.0, 1.0, 1.0, 1.0, 1.0, 1.0, 1.0, 1.0, 1.0, 1.0],\n",
       " [1.0, 1.0, 1.0, 1.0, 1.0, 1.0, 1.0, 1.0, 1.0, 1.0]]"
      ]
     },
     "execution_count": 167,
     "metadata": {},
     "output_type": "execute_result"
    }
   ],
   "source": [
    "W=[[0,0,0],[1,1,1,1,1,1,1,1,1,1],[1,1,1,1,1,1,1,1,1,1]]\n",
    "descente(W,tau=1e-16,tolerance=1e-6,Nbiterations=10)"
   ]
  },
  {
   "cell_type": "code",
   "execution_count": 108,
   "metadata": {},
   "outputs": [],
   "source": [
    "def prediction(W,X):\n",
    "    return sigma(W[0][0]+W[0][1]*sigma(np.dot(W[1],X))+W[0][1]*sigma(np.dot(W[2],X)))"
   ]
  },
  {
   "cell_type": "code",
   "execution_count": 118,
   "metadata": {},
   "outputs": [
    {
     "name": "stdout",
     "output_type": "stream",
     "text": [
      "Nombre d'erreurs sur les données de validation : 11.0\n"
     ]
    }
   ],
   "source": [
    "print('Nombre d\\'erreurs sur les données de validation :',np.sum(\\\n",
    "             [np.abs(round(prediction(W,Xvalid.iloc[i]))-Yvalid.iloc[i])\\\n",
    "              for i in range(len(Xvalid)-1)]))"
   ]
  },
  {
   "cell_type": "markdown",
   "metadata": {},
   "source": [
    "**Exercice**\n",
    "\n",
    "On considère les paramètres :\n",
    "\n",
    "`W= [[9.88490731988063, -21.978512228107505, -17.916264438553515], [16.24386006076292, -3.3023394159857937, 0.24495692674969732, -7.396212617646716, -3.593451718087197, -11.160218572484126, 3.377878093346306, -0.18551085358790684, 3.6581958544686723, -7.063699791645382], [7.070278747774737, -5.443080663419691, -3.495868955617516, -0.4833459413778877, 0.640016023480778, -0.4530535245792459, -2.5643255163830485, -4.5732183345557385, -5.341507777305012, 0.4114649638794456]]`\n",
    "    \n",
    "Calculer la sortie du réseau de neurones pour une valeur $X$ possèdant une diagonale de $1$ et pour une valeur de $X$ ne possédant pas une diagonale de $1$."
   ]
  },
  {
   "cell_type": "code",
   "execution_count": 103,
   "metadata": {},
   "outputs": [
    {
     "data": {
      "text/plain": [
       "MLPClassifier(activation='logistic', hidden_layer_sizes=(2,), max_iter=100000,\n",
       "              solver='lbfgs', tol=1e-05)"
      ]
     },
     "execution_count": 103,
     "metadata": {},
     "output_type": "execute_result"
    }
   ],
   "source": [
    "from sklearn.neural_network import MLPClassifier\n",
    "algo = MLPClassifier(\\\n",
    "    activation='logistic',\\\n",
    "    solver='lbfgs',\\\n",
    "    shuffle=True,\\\n",
    "    hidden_layer_sizes=(2,),\\\n",
    "    max_iter=100000,\\\n",
    "    tol=1e-5)\n",
    "algo.fit(X.drop(['X0'],axis=1),Y)"
   ]
  },
  {
   "cell_type": "code",
   "execution_count": 88,
   "metadata": {
    "scrolled": false
   },
   "outputs": [
    {
     "name": "stdout",
     "output_type": "stream",
     "text": [
      "[b1,b2],[b] :\n",
      "  [array([16.42025076,  5.20972733]), array([9.92372778])] \n",
      "[[w11,w21],[w12,w22]],[w1,w2] :\n",
      "  [array([[ -0.5920726 ,  -9.17818546],\n",
      "       [ -0.46783119,  -0.89718582],\n",
      "       [ -5.21312016,  -3.90961843],\n",
      "       [ -2.23348712,   0.94438838],\n",
      "       [-10.91563272,  -0.1549015 ],\n",
      "       [  0.86375386,  -0.40899946],\n",
      "       [ -1.89036384,  -3.215415  ],\n",
      "       [  1.56834536,  -2.29057482],\n",
      "       [ -7.04240137,   2.11995034]]), array([[-20.83355396],\n",
      "       [-18.42182879]])] \n",
      "Score :  1.0\n"
     ]
    }
   ],
   "source": [
    "print('[b1,b2],[b] :\\n ',algo.intercepts_,\\\n",
    "      '\\n[[w11,w21],[w12,w22]],[w1,w2] :\\n ',algo.coefs_,\\\n",
    "      '\\nScore : ',algo.score(X.drop(['X0'],axis=1),Y))"
   ]
  },
  {
   "cell_type": "code",
   "execution_count": 104,
   "metadata": {},
   "outputs": [],
   "source": [
    "W=[[algo.intercepts_[1][0]]+[algo.coefs_[1][0][0]]+[algo.coefs_[1][1][0]],\\\n",
    "[algo.intercepts_[0][0]]+[algo.coefs_[0][k][0] for k in range(9)],\\\n",
    "[algo.intercepts_[0][1]]+[algo.coefs_[0][k][1] for k in range(9)]]"
   ]
  },
  {
   "cell_type": "code",
   "execution_count": 219,
   "metadata": {
    "scrolled": true
   },
   "outputs": [
    {
     "name": "stdout",
     "output_type": "stream",
     "text": [
      "Nb d'erreurs : 4\n",
      "[ [0, 1, 0, 1, 0, 1, 0, 1, 0] ] -> [0] ... on aimerait : 0\n",
      "[ [0, 0, 1, 1, 1, 1, 0, 0, 0] ] -> [0] ... on aimerait : 0\n",
      "[ [0, 0, 0, 0, 0, 1, 0, 0, 1] ] -> [0] ... on aimerait : 0\n",
      "[ [0, 0, 1, 1, 1, 1, 0, 0, 1] ] -> [0] ... on aimerait : 0\n",
      "[ [0, 0, 1, 0, 1, 0, 1, 1, 0] ] -> [0] ... on aimerait : 1\n",
      "[ [0, 1, 1, 0, 0, 0, 1, 0, 0] ] -> [0] ... on aimerait : 0\n",
      "[ [0, 0, 0, 1, 1, 1, 1, 0, 1] ] -> [0] ... on aimerait : 0\n",
      "[ [0, 1, 0, 0, 0, 0, 0, 1, 1] ] -> [0] ... on aimerait : 0\n",
      "[ [0, 1, 1, 1, 1, 1, 0, 1, 0] ] -> [0] ... on aimerait : 0\n",
      "[ [1, 1, 0, 0, 1, 0, 1, 1, 1] ] -> [1] ... on aimerait : 1\n",
      "[ [1, 0, 1, 0, 0, 1, 1, 0, 1] ] -> [0] ... on aimerait : 0\n",
      "[ [0, 0, 1, 1, 0, 0, 0, 0, 0] ] -> [0] ... on aimerait : 0\n",
      "[ [1, 1, 1, 1, 1, 0, 1, 1, 1] ] -> [1] ... on aimerait : 1\n",
      "[ [0, 0, 1, 1, 1, 1, 1, 1, 0] ] -> [1] ... on aimerait : 1\n",
      "[ [0, 0, 0, 1, 0, 1, 1, 0, 0] ] -> [0] ... on aimerait : 0\n",
      "[ [0, 1, 0, 0, 0, 1, 0, 0, 0] ] -> [0] ... on aimerait : 0\n",
      "[ [0, 1, 1, 0, 1, 1, 1, 0, 1] ] -> [1] ... on aimerait : 1\n",
      "[ [0, 1, 0, 1, 0, 1, 0, 0, 0] ] -> [0] ... on aimerait : 0\n",
      "[ [1, 1, 0, 1, 0, 0, 0, 1, 0] ] -> [0] ... on aimerait : 0\n",
      "[ [0, 0, 1, 1, 0, 0, 0, 0, 1] ] -> [0] ... on aimerait : 0\n",
      "[ [1, 0, 0, 0, 1, 0, 0, 0, 1] ] -> [1] ... on aimerait : 1\n",
      "[ [1, 1, 0, 1, 1, 0, 1, 1, 1] ] -> [1] ... on aimerait : 1\n",
      "[ [0, 1, 0, 1, 1, 0, 1, 0, 1] ] -> [0] ... on aimerait : 0\n",
      "[ [0, 1, 1, 0, 1, 0, 0, 1, 0] ] -> [0] ... on aimerait : 0\n",
      "[ [1, 1, 1, 1, 1, 0, 0, 1, 1] ] -> [1] ... on aimerait : 1\n",
      "[ [1, 0, 1, 0, 1, 1, 0, 1, 0] ] -> [0] ... on aimerait : 0\n",
      "[ [1, 1, 1, 1, 0, 1, 1, 0, 1] ] -> [1] ... on aimerait : 0\n",
      "[ [1, 1, 1, 1, 0, 1, 1, 0, 0] ] -> [0] ... on aimerait : 0\n",
      "[ [1, 0, 0, 1, 1, 0, 0, 1, 0] ] -> [0] ... on aimerait : 0\n",
      "[ [1, 0, 0, 0, 0, 1, 0, 1, 0] ] -> [0] ... on aimerait : 0\n",
      "[ [0, 1, 1, 0, 0, 1, 0, 0, 1] ] -> [0] ... on aimerait : 0\n",
      "[ [1, 0, 0, 0, 0, 0, 1, 0, 0] ] -> [0] ... on aimerait : 0\n",
      "[ [1, 0, 0, 0, 1, 1, 1, 1, 1] ] -> [1] ... on aimerait : 1\n",
      "[ [0, 0, 0, 1, 1, 1, 1, 0, 1] ] -> [0] ... on aimerait : 0\n",
      "[ [0, 0, 0, 1, 0, 0, 0, 0, 0] ] -> [0] ... on aimerait : 0\n",
      "[ [0, 1, 1, 1, 1, 0, 0, 1, 1] ] -> [0] ... on aimerait : 0\n",
      "[ [0, 0, 1, 1, 1, 0, 0, 1, 1] ] -> [0] ... on aimerait : 0\n",
      "[ [1, 1, 1, 0, 0, 1, 1, 1, 1] ] -> [0] ... on aimerait : 0\n",
      "[ [1, 0, 1, 1, 1, 0, 1, 1, 0] ] -> [1] ... on aimerait : 1\n",
      "[ [1, 1, 0, 0, 0, 0, 1, 1, 0] ] -> [0] ... on aimerait : 0\n",
      "[ [0, 0, 1, 1, 0, 0, 0, 0, 0] ] -> [0] ... on aimerait : 0\n",
      "[ [0, 0, 1, 1, 0, 1, 1, 0, 1] ] -> [0] ... on aimerait : 0\n",
      "[ [0, 1, 0, 0, 0, 1, 0, 1, 1] ] -> [0] ... on aimerait : 0\n",
      "[ [0, 1, 1, 1, 1, 1, 0, 1, 0] ] -> [0] ... on aimerait : 0\n",
      "[ [0, 0, 1, 1, 1, 1, 1, 0, 1] ] -> [0] ... on aimerait : 1\n",
      "[ [1, 1, 1, 1, 1, 0, 0, 0, 0] ] -> [1] ... on aimerait : 0\n",
      "[ [0, 1, 1, 1, 0, 1, 1, 1, 0] ] -> [0] ... on aimerait : 0\n",
      "[ [1, 0, 0, 1, 0, 1, 0, 1, 0] ] -> [0] ... on aimerait : 0\n",
      "[ [0, 1, 0, 1, 1, 1, 1, 1, 0] ] -> [0] ... on aimerait : 0\n",
      "[ [1, 0, 1, 0, 0, 1, 0, 1, 1] ] -> [0] ... on aimerait : 0\n"
     ]
    }
   ],
   "source": [
    "print('Nb d\\'erreurs :',np.sum(\\\n",
    "             [np.abs(algo.predict([Xvalid.iloc[i]])-Yvalid.iloc[i])\\\n",
    "              for i in range(len(Xvalid))]))\n",
    "for i in range(len(Xvalid)):\n",
    "    print('[',[Xvalid.iloc[i][k] for k in range(d)],']',\\\n",
    "          '->',algo.predict([Xvalid.iloc[i]]),\\\n",
    "          '... on aimerait :',Yvalid.iloc[i])"
   ]
  },
  {
   "cell_type": "markdown",
   "metadata": {},
   "source": [
    "Probabilités\n",
    "\n",
    "predict_probas donne la probabilité d'être de la première classe (O) et la probabilité d'être de la deuxième classe (1)"
   ]
  },
  {
   "cell_type": "code",
   "execution_count": 39,
   "metadata": {
    "scrolled": false
   },
   "outputs": [
    {
     "name": "stdout",
     "output_type": "stream",
     "text": [
      "[0, 1, 0, 1, 0, 1, 0, 1, 0] -> [1.00000000e+00 1.02622777e-12] ... Classe : 0\n",
      "[0, 0, 1, 1, 1, 1, 0, 0, 0] -> [9.99964351e-01 3.56488060e-05] ... Classe : 0\n",
      "[0, 0, 0, 0, 0, 1, 0, 0, 1] -> [1.00000000e+00 2.28703049e-13] ... Classe : 0\n",
      "[0, 0, 1, 1, 1, 1, 0, 0, 1] -> [9.99623908e-01 3.76091650e-04] ... Classe : 0\n",
      "[0, 0, 1, 0, 1, 0, 1, 1, 0] -> [0.94414689 0.05585311] ... Classe : 1\n",
      "[0, 1, 1, 0, 0, 0, 1, 0, 0] -> [9.99995776e-01 4.22415291e-06] ... Classe : 0\n",
      "[0, 0, 0, 1, 1, 1, 1, 0, 1] -> [9.99751129e-01 2.48870568e-04] ... Classe : 0\n",
      "[0, 1, 0, 0, 0, 0, 0, 1, 1] -> [1.0000000e+00 3.0374525e-13] ... Classe : 0\n",
      "[0, 1, 1, 1, 1, 1, 0, 1, 0] -> [0.98481618 0.01518382] ... Classe : 0\n",
      "[1, 1, 0, 0, 1, 0, 1, 1, 1] -> [2.43321191e-04 9.99756679e-01] ... Classe : 1\n",
      "[1, 0, 1, 0, 0, 1, 1, 0, 1] -> [9.99920191e-01 7.98094672e-05] ... Classe : 0\n",
      "[0, 0, 1, 1, 0, 0, 0, 0, 0] -> [1.00000000e+00 5.42572496e-13] ... Classe : 0\n",
      "[1, 1, 1, 1, 1, 0, 1, 1, 1] -> [4.59166821e-05 9.99954083e-01] ... Classe : 1\n",
      "[0, 0, 1, 1, 1, 1, 1, 1, 0] -> [0.02197994 0.97802006] ... Classe : 1\n",
      "[0, 0, 0, 1, 0, 1, 1, 0, 0] -> [1.00000000e+00 7.01554273e-13] ... Classe : 0\n",
      "[0, 1, 0, 0, 0, 1, 0, 0, 0] -> [1.00000000e+00 3.21599663e-13] ... Classe : 0\n",
      "[0, 1, 1, 0, 1, 1, 1, 0, 1] -> [0.0014846 0.9985154] ... Classe : 1\n",
      "[0, 1, 0, 1, 0, 1, 0, 0, 0] -> [1.00000000e+00 2.56485197e-13] ... Classe : 0\n",
      "[1, 1, 0, 1, 0, 0, 0, 1, 0] -> [9.99982809e-01 1.71914145e-05] ... Classe : 0\n",
      "[0, 0, 1, 1, 0, 0, 0, 0, 1] -> [1.00000000e+00 1.84352829e-11] ... Classe : 0\n",
      "[1, 0, 0, 0, 1, 0, 0, 0, 1] -> [0.00528953 0.99471047] ... Classe : 1\n",
      "[1, 1, 0, 1, 1, 0, 1, 1, 1] -> [5.28494035e-05 9.99947151e-01] ... Classe : 1\n",
      "[0, 1, 0, 1, 1, 0, 1, 0, 1] -> [9.99636890e-01 3.63110328e-04] ... Classe : 0\n",
      "[0, 1, 1, 0, 1, 0, 0, 1, 0] -> [9.99904022e-01 9.59778898e-05] ... Classe : 0\n",
      "[1, 1, 1, 1, 1, 0, 0, 1, 1] -> [4.62940773e-05 9.99953706e-01] ... Classe : 1\n",
      "[1, 0, 1, 0, 1, 1, 0, 1, 0] -> [9.99806540e-01 1.93459864e-04] ... Classe : 0\n",
      "[1, 1, 1, 1, 0, 1, 1, 0, 1] -> [0.13730567 0.86269433] ... Classe : 0\n",
      "[1, 1, 1, 1, 0, 1, 1, 0, 0] -> [9.99981330e-01 1.86699335e-05] ... Classe : 0\n",
      "[1, 0, 0, 1, 1, 0, 0, 1, 0] -> [9.99974547e-01 2.54534304e-05] ... Classe : 0\n",
      "[1, 0, 0, 0, 0, 1, 0, 1, 0] -> [9.99982412e-01 1.75882751e-05] ... Classe : 0\n",
      "[0, 1, 1, 0, 0, 1, 0, 0, 1] -> [1.00000000e+00 1.45493979e-12] ... Classe : 0\n",
      "[1, 0, 0, 0, 0, 0, 1, 0, 0] -> [9.99982350e-01 1.76499489e-05] ... Classe : 0\n",
      "[1, 0, 0, 0, 1, 1, 1, 1, 1] -> [0.03100925 0.96899075] ... Classe : 1\n",
      "[0, 0, 0, 1, 1, 1, 1, 0, 1] -> [9.99751129e-01 2.48870568e-04] ... Classe : 0\n",
      "[0, 0, 0, 1, 0, 0, 0, 0, 0] -> [1.00000000e+00 2.30276154e-13] ... Classe : 0\n",
      "[0, 1, 1, 1, 1, 0, 0, 1, 1] -> [0.96644107 0.03355893] ... Classe : 0\n",
      "[0, 0, 1, 1, 1, 0, 0, 1, 1] -> [0.99806427 0.00193573] ... Classe : 0\n",
      "[1, 1, 1, 0, 0, 1, 1, 1, 1] -> [9.99974373e-01 2.56268657e-05] ... Classe : 0\n",
      "[1, 0, 1, 1, 1, 0, 1, 1, 0] -> [9.39357796e-05 9.99906064e-01] ... Classe : 1\n",
      "[1, 1, 0, 0, 0, 0, 1, 1, 0] -> [9.99981903e-01 1.80968467e-05] ... Classe : 0\n",
      "[0, 0, 1, 1, 0, 0, 0, 0, 0] -> [1.00000000e+00 5.42572496e-13] ... Classe : 0\n",
      "[0, 0, 1, 1, 0, 1, 1, 0, 1] -> [9.99999995e-01 4.55745784e-09] ... Classe : 0\n",
      "[0, 1, 0, 0, 0, 1, 0, 1, 1] -> [1.000000e+00 3.973636e-13] ... Classe : 0\n",
      "[0, 1, 1, 1, 1, 1, 0, 1, 0] -> [0.98481618 0.01518382] ... Classe : 0\n",
      "[0, 0, 1, 1, 1, 1, 1, 0, 1] -> [0.88428093 0.11571907] ... Classe : 1\n",
      "[1, 1, 1, 1, 1, 0, 0, 0, 0] -> [6.45233505e-05 9.99935477e-01] ... Classe : 0\n",
      "[0, 1, 1, 1, 0, 1, 1, 1, 0] -> [9.99984839e-01 1.51612386e-05] ... Classe : 0\n",
      "[1, 0, 0, 1, 0, 1, 0, 1, 0] -> [9.99983292e-01 1.67082854e-05] ... Classe : 0\n",
      "[0, 1, 0, 1, 1, 1, 1, 1, 0] -> [9.9999948e-01 5.2026780e-07] ... Classe : 0\n",
      "[1, 0, 1, 0, 0, 1, 0, 1, 1] -> [9.99981045e-01 1.89546245e-05] ... Classe : 0\n"
     ]
    }
   ],
   "source": [
    "for i in range(len(Xverif)):\n",
    "    print([Xverif.iloc[i][k] for k in range(d)],'->',algo.predict_proba([Xverif.iloc[i]])[0],'... Classe :',Yverif.iloc[i])"
   ]
  },
  {
   "cell_type": "code",
   "execution_count": 22,
   "metadata": {},
   "outputs": [],
   "source": [
    "def courbes_de_niveaux(fct, x1_min=-5, x2_min=-5, x1_max=5, x2_max=5):\n",
    "    x1_values = np.linspace(x1_min, x1_max,100)\n",
    "    x2_values = np.linspace(x2_min, x2_max,100)\n",
    "    fct_values = np.array([[fct(x1,x2) for x1 in x1_values] for x2 in x2_values])    \n",
    "    plt.contour(x1_values, x2_values, fct_values, 40)\n",
    "    plt.xlim((x1_min, x1_max))\n",
    "    plt.ylim((x2_min, x2_max))\n",
    "    plt.colorbar()"
   ]
  },
  {
   "cell_type": "code",
   "execution_count": 40,
   "metadata": {},
   "outputs": [
    {
     "ename": "NameError",
     "evalue": "name 'courbes_de_niveaux' is not defined",
     "output_type": "error",
     "traceback": [
      "\u001b[1;31m---------------------------------------------------------------------------\u001b[0m",
      "\u001b[1;31mNameError\u001b[0m                                 Traceback (most recent call last)",
      "\u001b[1;32m<ipython-input-40-129db4f29d3c>\u001b[0m in \u001b[0;36m<module>\u001b[1;34m\u001b[0m\n\u001b[0;32m     12\u001b[0m \u001b[0mplt\u001b[0m\u001b[1;33m.\u001b[0m\u001b[0msubplot\u001b[0m\u001b[1;33m(\u001b[0m\u001b[1;36m2\u001b[0m\u001b[1;33m,\u001b[0m\u001b[1;36m2\u001b[0m\u001b[1;33m,\u001b[0m\u001b[1;36m1\u001b[0m\u001b[1;33m)\u001b[0m\u001b[1;33m\u001b[0m\u001b[1;33m\u001b[0m\u001b[0m\n\u001b[0;32m     13\u001b[0m \u001b[0mplt\u001b[0m\u001b[1;33m.\u001b[0m\u001b[0mtitle\u001b[0m\u001b[1;33m(\u001b[0m\u001b[1;34m\"Composante 1 de la couche cachée $h_1(X)$\"\u001b[0m\u001b[1;33m)\u001b[0m\u001b[1;33m\u001b[0m\u001b[1;33m\u001b[0m\u001b[0m\n\u001b[1;32m---> 14\u001b[1;33m \u001b[0mcourbes_de_niveaux\u001b[0m\u001b[1;33m(\u001b[0m\u001b[0mH1\u001b[0m\u001b[1;33m,\u001b[0m\u001b[1;36m0\u001b[0m\u001b[1;33m,\u001b[0m\u001b[1;36m0\u001b[0m\u001b[1;33m,\u001b[0m\u001b[1;36m1\u001b[0m\u001b[1;33m,\u001b[0m\u001b[1;36m1\u001b[0m\u001b[1;33m)\u001b[0m\u001b[1;33m\u001b[0m\u001b[1;33m\u001b[0m\u001b[0m\n\u001b[0m\u001b[0;32m     15\u001b[0m \u001b[0mplt\u001b[0m\u001b[1;33m.\u001b[0m\u001b[0msubplot\u001b[0m\u001b[1;33m(\u001b[0m\u001b[1;36m2\u001b[0m\u001b[1;33m,\u001b[0m\u001b[1;36m2\u001b[0m\u001b[1;33m,\u001b[0m\u001b[1;36m2\u001b[0m\u001b[1;33m)\u001b[0m\u001b[1;33m\u001b[0m\u001b[1;33m\u001b[0m\u001b[0m\n\u001b[0;32m     16\u001b[0m \u001b[0mplt\u001b[0m\u001b[1;33m.\u001b[0m\u001b[0mtitle\u001b[0m\u001b[1;33m(\u001b[0m\u001b[1;34m\"Composante 2 de la couche cachée $h_2(X)$\"\u001b[0m\u001b[1;33m)\u001b[0m\u001b[1;33m\u001b[0m\u001b[1;33m\u001b[0m\u001b[0m\n",
      "\u001b[1;31mNameError\u001b[0m: name 'courbes_de_niveaux' is not defined"
     ]
    },
    {
     "data": {
      "image/png": "[encoded data removed]",
      "text/plain": [
       "<Figure size 864x576 with 1 Axes>"
      ]
     },
     "metadata": {
      "needs_background": "light"
     },
     "output_type": "display_data"
    }
   ],
   "source": [
    "def sigmoid(x):\n",
    "    return 1/(1+np.exp(-x))\n",
    "def H1(x1,x2):\n",
    "    return sigmoid(algo.intercepts_[0][0]+algo.coefs_[0][0][0]*x1+algo.coefs_[0][1][0]*x2)\n",
    "def H2(x1,x2):\n",
    "    return sigmoid(algo.intercepts_[0][1]+algo.coefs_[0][0][1]*x1+algo.coefs_[0][1][1]*x2)\n",
    "def R(h1,h2):\n",
    "    return sigmoid(algo.intercepts_[1][0]+algo.coefs_[1][0][0]*h1+algo.coefs_[1][1][0]*h2)\n",
    "def XtoR(x1,x2):\n",
    "    return R(H1(x1,x2),H2(x1,x2)) \n",
    "plt.figure(figsize=(12,8))\n",
    "plt.subplot(2,2,1)\n",
    "plt.title(\"Composante 1 de la couche cachée $h_1(X)$\")\n",
    "courbes_de_niveaux(H1,0,0,1,1)\n",
    "plt.subplot(2,2,2)\n",
    "plt.title(\"Composante 2 de la couche cachée $h_2(X)$\")\n",
    "courbes_de_niveaux(H2,0,0,1,1)\n",
    "plt.subplot(2,2,3)\n",
    "plt.title(\"Sortie de la couche cachée\")\n",
    "courbes_de_niveaux(R,0,0,1,1)\n",
    "plt.subplot(2,2,4)\n",
    "plt.title(\"de X à la sortie\")\n",
    "courbes_de_niveaux(XtoR,0,0,1,1)"
   ]
  },
  {
   "cell_type": "markdown",
   "metadata": {},
   "source": [
    "Autres tentatives :"
   ]
  },
  {
   "cell_type": "code",
   "execution_count": 24,
   "metadata": {
    "scrolled": true
   },
   "outputs": [
    {
     "name": "stdout",
     "output_type": "stream",
     "text": [
      "[ 1 , 1 ] -> 0.0002631973630932956 ...on aimerait : 0\n",
      "[ 0 , 0 ] -> 0.0002631973630932956 ...on aimerait : 0\n",
      "[ 0 , 1 ] -> 0.7306388288867955 ...on aimerait : 1\n",
      "[ 1 , 0 ] -> 0.730638828886796 ...on aimerait : 1\n"
     ]
    }
   ],
   "source": [
    "B1=[ 1,-1]\n",
    "B2=[1]\n",
    "V1=[[-10,10],[-10,10]]\n",
    "V2=[[-20],[20]]\n",
    "for i in range(n):\n",
    "    print('[',X.iloc[i][0],',',X.iloc[i][1],']','->',sigmoid(B2[0]\\\n",
    "                                                             +V2[0][0]*sigmoid(B1[0]+V1[0][0]*X.iloc[i][0]+V1[0][1]*X.iloc[i][1])\\\n",
    "                                                             +V2[1][0]*sigmoid(B1[1]+V1[1][0]*X.iloc[i][0]+V1[1][1]*X.iloc[i][1]))\\\n",
    "          ,'...on aimerait :',Y.iloc[i])"
   ]
  },
  {
   "cell_type": "markdown",
   "metadata": {},
   "source": [
    "Représentation graphique"
   ]
  },
  {
   "cell_type": "code",
   "execution_count": 25,
   "metadata": {},
   "outputs": [
    {
     "data": {
      "text/plain": [
       "<function matplotlib.pyplot.show(*args, **kw)>"
      ]
     },
     "execution_count": 25,
     "metadata": {},
     "output_type": "execute_result"
    },
    {
     "data": {
      "image/png": "[encoded data removed]",
      "text/plain": [
       "<Figure size 432x288 with 1 Axes>"
      ]
     },
     "metadata": {
      "needs_background": "light"
     },
     "output_type": "display_data"
    }
   ],
   "source": [
    "plt.scatter([algo.predict([X.iloc[i]])[0]+0*np.random.randn(1)/10 for i in range(n)]\\\n",
    "            ,[Y.iloc[i]+0*np.random.randn(1)/10 for i in range(n)]\\\n",
    "            ,alpha=0.1)\n",
    "plt.xlabel('$\\sigma(b+W\\cdot X[i])$')\n",
    "plt.ylabel('$Y[i]$')\n",
    "plt.show"
   ]
  },
  {
   "cell_type": "code",
   "execution_count": 26,
   "metadata": {},
   "outputs": [
    {
     "name": "stdout",
     "output_type": "stream",
     "text": [
      "Erreur moyenne : 0.0 (score :  1.0 ) \n",
      " Vrai positifs : 2 \n",
      " Faux positifs : 0 \n",
      " Vrai négatifs : 2 \n",
      " Faux négatifs : 0\n"
     ]
    }
   ],
   "source": [
    "maskv1=[Y.iloc[i]==1 for i in range(n)]\n",
    "maskv0=[Y.iloc[i]==0 for i in range(n)]\n",
    "\n",
    "# Prédictions\n",
    "maskp1=[algo.predict([X.iloc[i]])[0]>0.5 for i in range(n)]\n",
    "maskp0=[algo.predict([X.iloc[i]])[0]<=0.5 for i in range(n)]\n",
    "\n",
    "# Erreurs\n",
    "# Y=1 mais sigma(b+XW)<0.5 (Faux négatifs)\n",
    "maske1=[(maskv1[i]==True and maskp1[i]==False) for i in range(len(maskv1))]\n",
    "# Y=0 mais sigma(b+XW)>0.5 (Faux positifs)\n",
    "maske0=[(maskv0[i]==True and maskp0[i]==False) for i in range(len(maskv0))]\n",
    "# Y=1 et sigma(b+XW)>0.5 (Vrais positifs)\n",
    "maskok1=[(maskv1[i]==True and maskp1[i]==True) for i in range(len(maskv1))]\n",
    "# Y=0 et sigma(b+XW)<0.5 (Vrais négatifs)\n",
    "maskok0=[(maskv0[i]==True and maskp0[i]==True) for i in range(len(maskv0))]\n",
    "print(\"Erreur moyenne :\",(np.count_nonzero(maske0)+np.count_nonzero(maske1))/n\\\n",
    "     ,'(score : ',1-(np.count_nonzero(maske0)+np.count_nonzero(maske1))/n,')'\\\n",
    "     ,'\\n Vrai positifs :',np.count_nonzero(maskok1)\n",
    "     ,'\\n Faux positifs :',np.count_nonzero(maske0)\\\n",
    "     ,'\\n Vrai négatifs :',np.count_nonzero(maskok0)\\\n",
    "     ,'\\n Faux négatifs :',np.count_nonzero(maske1))"
   ]
  }
 ],
 "metadata": {
  "colab": {
   "authorship_tag": "ABX9TyOL5iJTlZCmM9764vTsZljv",
   "collapsed_sections": [],
   "name": "descente-deux-variables.ipynb",
   "provenance": [
    {
     "file_id": "164i4yxW6Yks9BXBhzNAJHUMyX1UBjEp3",
     "timestamp": 1606828072802
    }
   ]
  },
  "kernelspec": {
   "display_name": "Python 3",
   "language": "python",
   "name": "python3"
  },
  "language_info": {
   "codemirror_mode": {
    "name": "ipython",
    "version": 3
   },
   "file_extension": ".py",
   "mimetype": "text/x-python",
   "name": "python",
   "nbconvert_exporter": "python",
   "pygments_lexer": "ipython3",
   "version": "3.8.3"
  }
 },
 "nbformat": 4,
 "nbformat_minor": 1
}

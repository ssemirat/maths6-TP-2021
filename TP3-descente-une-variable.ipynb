{
 "cells": [
  {
   "cell_type": "markdown",
   "metadata": {},
   "source": [
    "# TP3 - Descente de gradient en 1 variable"
   ]
  },
  {
   "cell_type": "code",
   "execution_count": 1,
   "metadata": {
    "id": "Zupdaax6Xf8b"
   },
   "outputs": [],
   "source": [
    "# Chargement des librairies Python\n",
    "\n",
    "# Mathématiques \n",
    "import numpy as np\n",
    "\n",
    "# Graphique\n",
    "from matplotlib import pyplot as plt"
   ]
  },
  {
   "cell_type": "markdown",
   "metadata": {},
   "source": [
    "## Problème\n",
    "\n",
    "On cherche le minimum sur $\\mathbb{R}$ de la fonction $f(x)=x^2-6x+1$."
   ]
  },
  {
   "cell_type": "markdown",
   "metadata": {},
   "source": [
    "**Exercice 1.**\n",
    "\n",
    "Résoudre analytiquement le problème."
   ]
  },
  {
   "cell_type": "markdown",
   "metadata": {
    "id": "dev_luUrXiaK"
   },
   "source": [
    "### Fonction à optimiser et sa dérivée"
   ]
  },
  {
   "cell_type": "code",
   "execution_count": 2,
   "metadata": {
    "id": "x8vrszX1Xo7B"
   },
   "outputs": [],
   "source": [
    "# Fonction à optimiser\n",
    "def f(x):           \n",
    "  return x**2-6*x+1\n",
    "\n",
    "# fonction dérivée\n",
    "def df(x):          \n",
    "  return 2*x-6"
   ]
  },
  {
   "cell_type": "markdown",
   "metadata": {},
   "source": [
    "### Représentation graphique de $f$"
   ]
  },
  {
   "cell_type": "code",
   "execution_count": 3,
   "metadata": {},
   "outputs": [
    {
     "data": {
      "text/plain": [
       "[<matplotlib.lines.Line2D at 0x25e181b7bb0>]"
      ]
     },
     "execution_count": 3,
     "metadata": {},
     "output_type": "execute_result"
    },
    {
     "data": {
      "image/png": "[encoded data removed]",
      "text/plain": [
       "<Figure size 432x288 with 1 Axes>"
      ]
     },
     "metadata": {
      "needs_background": "light"
     },
     "output_type": "display_data"
    }
   ],
   "source": [
    "plt.axis([-1,6,-10,5]) #xmin,xmax,ymin,ymax\n",
    "l= np.linspace(-2,6,100) # Génère 100 nombres régulièrement espacés de -2 à 6\n",
    "plt.plot(l,[f(x) for x in l]) # Représentation de la fonction"
   ]
  },
  {
   "cell_type": "markdown",
   "metadata": {
    "id": "LqRaPj_nX1sp"
   },
   "source": [
    "### Algorithme de descente de gradient"
   ]
  },
  {
   "cell_type": "code",
   "execution_count": 7,
   "metadata": {
    "id": "QfvzrSaAYmi3"
   },
   "outputs": [],
   "source": [
    "def descente(gradf,x0,tau,tolerance,nbiterations):\n",
    "    x=x0\n",
    "    L=[]\n",
    "    for i in range(nbiterations):\n",
    "        g = gradf(x)\n",
    "        if abs(g)< tolerance:\n",
    "            print('L\\'algorithme a convergé en',i,'itérations.\\nSolution atteinte : x=',x,'\\nGradient en x :',g)\n",
    "            return L\n",
    "        L.append(x) # on enregistre chaque valeur dans le tableau L pour la représentation graphique ci-dessous\n",
    "        x=x-tau*g\n",
    "    print('L\\'algorithme n\\'a pas convergé.\\nSolution atteinte: x=',x,'\\nGradient en x :',g)\n",
    "    return L"
   ]
  },
  {
   "cell_type": "markdown",
   "metadata": {},
   "source": [
    "**Exercice 2.**\n",
    "\n",
    "Décrire et donner le rôle de chacun des arguments de `descente(gradf,x0,tau,tolerance,nbiterations)` ci-dessus :\n",
    "- gradf :\n",
    "- x0 :\n",
    "- tau :\n",
    "- tolerance :\n",
    "- nbiterations :"
   ]
  },
  {
   "cell_type": "markdown",
   "metadata": {},
   "source": [
    "## Recherche de la solution"
   ]
  },
  {
   "cell_type": "code",
   "execution_count": 8,
   "metadata": {
    "scrolled": true
   },
   "outputs": [
    {
     "name": "stdout",
     "output_type": "stream",
     "text": [
      "L'algorithme a convergé en 22 itérations.\n",
      "Solution atteinte : x= 2.9999670945740395 \n",
      "Gradient en x : -6.581085192092218e-05\n"
     ]
    }
   ],
   "source": [
    "Xi=descente(df,0.5,0.8,1e-4,200)"
   ]
  },
  {
   "cell_type": "markdown",
   "metadata": {},
   "source": [
    "### Liste des points atteints par l'algorithme"
   ]
  },
  {
   "cell_type": "code",
   "execution_count": 9,
   "metadata": {},
   "outputs": [
    {
     "name": "stdout",
     "output_type": "stream",
     "text": [
      "[0.5, 4.5, 2.0999999999999996, 3.54, 2.676, 3.1944, 2.88336, 3.069984, 2.9580096, 3.02519424, 2.984883456, 3.0090699264, 2.99455804416, 3.003265173504, 2.9980408958976, 3.0011754624614397, 2.9992947225231363, 3.0004231664861183, 2.999746100108329, 3.0001523399350023, 2.9999085960389986, 3.000054842376601]\n"
     ]
    }
   ],
   "source": [
    "print(Xi)"
   ]
  },
  {
   "cell_type": "markdown",
   "metadata": {
    "id": "IKHYfHmEY1AU"
   },
   "source": [
    "### Représentation graphique de l'algorithme"
   ]
  },
  {
   "cell_type": "code",
   "execution_count": 10,
   "metadata": {
    "colab": {
     "base_uri": "https://localhost:8080/",
     "height": 284
    },
    "id": "vKGl5IvDXzLA",
    "outputId": "9a15b75d-9064-4b1f-ee58-dbdd1f8cbf20",
    "scrolled": true
   },
   "outputs": [
    {
     "data": {
      "text/plain": [
       "<function matplotlib.pyplot.show(*args, **kw)>"
      ]
     },
     "execution_count": 10,
     "metadata": {},
     "output_type": "execute_result"
    },
    {
     "data": {
      "image/png": "[encoded data removed]",
      "text/plain": [
       "<Figure size 432x288 with 1 Axes>"
      ]
     },
     "metadata": {
      "needs_background": "light"
     },
     "output_type": "display_data"
    }
   ],
   "source": [
    "plt.axis([-1,6,-10,5]) #xmin,xmax,ymin,ymax\n",
    "l= np.linspace(-2,6,100) # Génère 100 nombres régulièrement espacés de -2 à 6\n",
    "plt.plot(l,[f(x) for x in l]) # Représentation de la fonction\n",
    "plt.plot(Xi,[f(x) for x in Xi],'o--') # Représentation des segments (x_i,f(x_i))--(x_(i+1),f(x_(i+1)))\n",
    "plt.title('Descente de gradient en 1 variable')\n",
    "plt.show"
   ]
  },
  {
   "cell_type": "markdown",
   "metadata": {},
   "source": [
    "**Exercice 3.**\n",
    "1. Pour $x_0=0.5$, déterminer un pas $\\tau$ dans chacun des cas suivants :\n",
    "    1. La suite $x_0$, $x_1$, ... est croissante.\n",
    "    2. L'algorithme ne converge pas.\n",
    "    3. L'algorithme converge en 1 itération (pas optimal)\n",
    "2. Justifier mathématiquement que $\\tau=0.5$ est un pas optimal quel que soit le choix de $x_0$."
   ]
  },
  {
   "cell_type": "markdown",
   "metadata": {},
   "source": [
    "**Exercice 4.**\n",
    "\n",
    "Reprendre les étapes avec la fonction $f(x)=x^4-7x^3+14x^2-8x$, qui possède un minimum local et un minimum global différents.\n",
    "\n",
    "Déterminer $x_0$ et $\\tau$ en sorte que l'algorithme converge en 10 itérations :\n",
    "1. Vers le minimum local.\n",
    "2. Vers le minimum global.\n"
   ]
  }
 ],
 "metadata": {
  "colab": {
   "authorship_tag": "ABX9TyMUNvpvplA+oiXkt6/VO1xX",
   "collapsed_sections": [],
   "name": "descente-une-variable.ipynb",
   "provenance": []
  },
  "kernelspec": {
   "display_name": "Python 3",
   "language": "python",
   "name": "python3"
  },
  "language_info": {
   "codemirror_mode": {
    "name": "ipython",
    "version": 3
   },
   "file_extension": ".py",
   "mimetype": "text/x-python",
   "name": "python",
   "nbconvert_exporter": "python",
   "pygments_lexer": "ipython3",
   "version": "3.8.3"
  }
 },
 "nbformat": 4,
 "nbformat_minor": 1
}

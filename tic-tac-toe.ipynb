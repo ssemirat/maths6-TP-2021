{
 "cells": [
  {
   "cell_type": "code",
   "execution_count": 1,
   "metadata": {},
   "outputs": [],
   "source": [
    "from matplotlib import pyplot as plt\n",
    "import numpy as np\n",
    "import pandas as pd"
   ]
  },
  {
   "cell_type": "code",
   "execution_count": 2,
   "metadata": {},
   "outputs": [],
   "source": [
    "tictactoe = pd.read_csv(\"tic-tac-toe.csv\")"
   ]
  },
  {
   "cell_type": "code",
   "execution_count": 3,
   "metadata": {
    "scrolled": true
   },
   "outputs": [
    {
     "data": {
      "text/html": [
       "<div>\n",
       "<style scoped>\n",
       "    .dataframe tbody tr th:only-of-type {\n",
       "        vertical-align: middle;\n",
       "    }\n",
       "\n",
       "    .dataframe tbody tr th {\n",
       "        vertical-align: top;\n",
       "    }\n",
       "\n",
       "    .dataframe thead th {\n",
       "        text-align: right;\n",
       "    }\n",
       "</style>\n",
       "<table border=\"1\" class=\"dataframe\">\n",
       "  <thead>\n",
       "    <tr style=\"text-align: right;\">\n",
       "      <th></th>\n",
       "      <th>a11</th>\n",
       "      <th>a12</th>\n",
       "      <th>a13</th>\n",
       "      <th>a21</th>\n",
       "      <th>a22</th>\n",
       "      <th>a23</th>\n",
       "      <th>a31</th>\n",
       "      <th>a32</th>\n",
       "      <th>a33</th>\n",
       "      <th>S</th>\n",
       "    </tr>\n",
       "  </thead>\n",
       "  <tbody>\n",
       "    <tr>\n",
       "      <th>0</th>\n",
       "      <td>1</td>\n",
       "      <td>1</td>\n",
       "      <td>1</td>\n",
       "      <td>1</td>\n",
       "      <td>-1</td>\n",
       "      <td>-1</td>\n",
       "      <td>1</td>\n",
       "      <td>-1</td>\n",
       "      <td>-1</td>\n",
       "      <td>1</td>\n",
       "    </tr>\n",
       "    <tr>\n",
       "      <th>1</th>\n",
       "      <td>1</td>\n",
       "      <td>1</td>\n",
       "      <td>1</td>\n",
       "      <td>1</td>\n",
       "      <td>-1</td>\n",
       "      <td>-1</td>\n",
       "      <td>-1</td>\n",
       "      <td>1</td>\n",
       "      <td>-1</td>\n",
       "      <td>1</td>\n",
       "    </tr>\n",
       "    <tr>\n",
       "      <th>2</th>\n",
       "      <td>1</td>\n",
       "      <td>1</td>\n",
       "      <td>1</td>\n",
       "      <td>1</td>\n",
       "      <td>-1</td>\n",
       "      <td>-1</td>\n",
       "      <td>-1</td>\n",
       "      <td>-1</td>\n",
       "      <td>1</td>\n",
       "      <td>1</td>\n",
       "    </tr>\n",
       "    <tr>\n",
       "      <th>3</th>\n",
       "      <td>1</td>\n",
       "      <td>1</td>\n",
       "      <td>1</td>\n",
       "      <td>1</td>\n",
       "      <td>-1</td>\n",
       "      <td>-1</td>\n",
       "      <td>-1</td>\n",
       "      <td>0</td>\n",
       "      <td>0</td>\n",
       "      <td>1</td>\n",
       "    </tr>\n",
       "    <tr>\n",
       "      <th>4</th>\n",
       "      <td>1</td>\n",
       "      <td>1</td>\n",
       "      <td>1</td>\n",
       "      <td>1</td>\n",
       "      <td>-1</td>\n",
       "      <td>-1</td>\n",
       "      <td>0</td>\n",
       "      <td>-1</td>\n",
       "      <td>0</td>\n",
       "      <td>1</td>\n",
       "    </tr>\n",
       "  </tbody>\n",
       "</table>\n",
       "</div>"
      ],
      "text/plain": [
       "   a11  a12  a13  a21  a22  a23  a31  a32  a33  S\n",
       "0    1    1    1    1   -1   -1    1   -1   -1  1\n",
       "1    1    1    1    1   -1   -1   -1    1   -1  1\n",
       "2    1    1    1    1   -1   -1   -1   -1    1  1\n",
       "3    1    1    1    1   -1   -1   -1    0    0  1\n",
       "4    1    1    1    1   -1   -1    0   -1    0  1"
      ]
     },
     "execution_count": 3,
     "metadata": {},
     "output_type": "execute_result"
    }
   ],
   "source": [
    "tictactoe.head()"
   ]
  },
  {
   "cell_type": "code",
   "execution_count": 4,
   "metadata": {
    "scrolled": true
   },
   "outputs": [
    {
     "data": {
      "text/plain": [
       "array([[<matplotlib.axes._subplots.AxesSubplot object at 0x000001C0AA6317C0>]],\n",
       "      dtype=object)"
      ]
     },
     "execution_count": 4,
     "metadata": {},
     "output_type": "execute_result"
    },
    {
     "data": {
      "image/png": "[encoded data removed]",
      "text/plain": [
       "<Figure size 288x288 with 1 Axes>"
      ]
     },
     "metadata": {
      "needs_background": "light"
     },
     "output_type": "display_data"
    }
   ],
   "source": [
    "tictactoe.hist(column=['S'],layout=(1,1),figsize=(4,4))"
   ]
  },
  {
   "cell_type": "code",
   "execution_count": 11,
   "metadata": {},
   "outputs": [],
   "source": [
    "X=tictactoe.drop(['S'],axis=1)\n",
    "Y=tictactoe['S']\n",
    "n=len(X)"
   ]
  },
  {
   "cell_type": "code",
   "execution_count": 200,
   "metadata": {},
   "outputs": [
    {
     "name": "stderr",
     "output_type": "stream",
     "text": [
      "C:\\Users\\semirat.GAEL\\Anaconda3\\lib\\site-packages\\sklearn\\neural_network\\_multilayer_perceptron.py:582: ConvergenceWarning: Stochastic Optimizer: Maximum iterations (30000) reached and the optimization hasn't converged yet.\n",
      "  warnings.warn(\n"
     ]
    },
    {
     "data": {
      "text/plain": [
       "MLPClassifier(activation='logistic', hidden_layer_sizes=(4, 4), max_iter=30000,\n",
       "              solver='sgd', tol=1e-06)"
      ]
     },
     "execution_count": 200,
     "metadata": {},
     "output_type": "execute_result"
    }
   ],
   "source": [
    "from sklearn.neural_network import MLPClassifier\n",
    "algo = MLPClassifier(activation='logistic', solver='sgd', hidden_layer_sizes=(4,4)\\\n",
    "                     ,max_iter=30000,tol=1e-6)\n",
    "algo.fit(X,Y)"
   ]
  },
  {
   "cell_type": "code",
   "execution_count": 201,
   "metadata": {},
   "outputs": [
    {
     "data": {
      "text/plain": [
       "0.9979123173277662"
      ]
     },
     "execution_count": 201,
     "metadata": {},
     "output_type": "execute_result"
    }
   ],
   "source": [
    "algo.score(X,Y)"
   ]
  },
  {
   "cell_type": "code",
   "execution_count": 202,
   "metadata": {},
   "outputs": [
    {
     "data": {
      "text/plain": [
       "<function matplotlib.pyplot.show(*args, **kw)>"
      ]
     },
     "execution_count": 202,
     "metadata": {},
     "output_type": "execute_result"
    },
    {
     "data": {
      "image/png": "[encoded data removed]",
      "text/plain": [
       "<Figure size 432x288 with 1 Axes>"
      ]
     },
     "metadata": {
      "needs_background": "light"
     },
     "output_type": "display_data"
    }
   ],
   "source": [
    "plt.scatter([algo.predict([X.iloc[i]])[0]+np.random.randn(1)/20 for i in range(n)]\\\n",
    "            ,[Y.iloc[i]+np.random.randn(1)/20 for i in range(n)]\\\n",
    "            ,alpha=0.1)\n",
    "plt.xlabel('predict $[X[i]]$')\n",
    "plt.ylabel('$Y[i]$')\n",
    "plt.show"
   ]
  },
  {
   "cell_type": "code",
   "execution_count": 175,
   "metadata": {},
   "outputs": [],
   "source": [
    "def ox(k):\n",
    "    if k==1:\n",
    "        return 'x'\n",
    "    else:\n",
    "        if k==-1:\n",
    "            return 'o'\n",
    "        else:\n",
    "            return '.'\n",
    "    \n",
    "def move(X,nm):\n",
    "    p=0\n",
    "    m=-1\n",
    "    X[nm-1]=-1\n",
    "    testX=[X[j] for j in range(9)]\n",
    "    for i in range(9):\n",
    "        if X[i]==0:\n",
    "            testX[i]=1\n",
    "            testp=algo.predict_proba([testX])[0][1]\n",
    "            print(i+1,'->',testp)\n",
    "            if testp>p:\n",
    "                p=testp\n",
    "                m=i\n",
    "            testX[i]=X[i]\n",
    "    if m>-1:\n",
    "        X[m]=1\n",
    "        print(ox(X[0]),ox(X[1]),ox(X[2]))\n",
    "        print(ox(X[3]),ox(X[4]),ox(X[5]))\n",
    "        print(ox(X[6]),ox(X[7]),ox(X[8]))\n",
    "        print(algo.predict_proba([X])[0][1])\n",
    "        return X\n",
    "    else:\n",
    "        return ['?']"
   ]
  },
  {
   "cell_type": "code",
   "execution_count": 209,
   "metadata": {
    "scrolled": true
   },
   "outputs": [
    {
     "name": "stdout",
     "output_type": "stream",
     "text": [
      "1 -> 0.0014733171943884058\n",
      "2 -> 0.002003166888829001\n",
      "3 -> 0.0013244323424069432\n",
      "4 -> 0.002965159442844972\n",
      "6 -> 0.0013232023328899032\n",
      "7 -> 0.0017823553026350618\n",
      "8 -> 0.0014579179907670873\n",
      "9 -> 0.0022822012717673423\n",
      ". . .\n",
      "x o .\n",
      ". . .\n",
      "0.002965159442844972\n"
     ]
    }
   ],
   "source": [
    "play=move([0,0,0,0,-1,0,0,0,0],5)"
   ]
  },
  {
   "cell_type": "code",
   "execution_count": 210,
   "metadata": {},
   "outputs": [
    {
     "name": "stdout",
     "output_type": "stream",
     "text": [
      "2 -> 0.0017859302926757524\n",
      "3 -> 0.0019431397985211236\n",
      "6 -> 0.0018983200656691333\n",
      "7 -> 0.0019563766446586525\n",
      "8 -> 0.0028916221759724345\n",
      "9 -> 0.0018535520165767658\n",
      "o . .\n",
      "x o .\n",
      ". x .\n",
      "0.0028916221759724345\n"
     ]
    }
   ],
   "source": [
    "play=move(play,1)"
   ]
  },
  {
   "cell_type": "code",
   "execution_count": 211,
   "metadata": {
    "scrolled": true
   },
   "outputs": [
    {
     "name": "stdout",
     "output_type": "stream",
     "text": [
      "2 -> 0.0030998743087397203\n",
      "3 -> 0.0008642321311572373\n",
      "6 -> 0.0010467128497708685\n",
      "7 -> 0.0021458198058256464\n",
      "o x .\n",
      "x o .\n",
      ". x o\n",
      "0.0030998743087397203\n"
     ]
    },
    {
     "data": {
      "text/plain": [
       "[-1, 1, 0, 1, -1, 0, 0, 1, -1]"
      ]
     },
     "execution_count": 211,
     "metadata": {},
     "output_type": "execute_result"
    }
   ],
   "source": [
    "move(play,9)"
   ]
  },
  {
   "cell_type": "code",
   "execution_count": 179,
   "metadata": {
    "scrolled": true
   },
   "outputs": [
    {
     "name": "stdout",
     "output_type": "stream",
     "text": [
      "8 -> 0.969178698534366\n",
      "o o o\n",
      "x x o\n",
      "x x x\n",
      "0.969178698534366\n"
     ]
    },
    {
     "data": {
      "text/plain": [
       "[-1, -1, -1, 1, 1, -1, 1, 1, 1]"
      ]
     },
     "execution_count": 179,
     "metadata": {},
     "output_type": "execute_result"
    }
   ],
   "source": [
    "move(play,6)"
   ]
  },
  {
   "cell_type": "code",
   "execution_count": 170,
   "metadata": {},
   "outputs": [
    {
     "data": {
      "text/plain": [
       "array([1], dtype=int64)"
      ]
     },
     "execution_count": 170,
     "metadata": {},
     "output_type": "execute_result"
    }
   ],
   "source": [
    "algo.predict([[0, -1, -1, 0, 1, 0, 1, 0, 1]])"
   ]
  }
 ],
 "metadata": {
  "kernelspec": {
   "display_name": "Python 3",
   "language": "python",
   "name": "python3"
  },
  "language_info": {
   "codemirror_mode": {
    "name": "ipython",
    "version": 3
   },
   "file_extension": ".py",
   "mimetype": "text/x-python",
   "name": "python",
   "nbconvert_exporter": "python",
   "pygments_lexer": "ipython3",
   "version": "3.8.3"
  }
 },
 "nbformat": 4,
 "nbformat_minor": 4
}

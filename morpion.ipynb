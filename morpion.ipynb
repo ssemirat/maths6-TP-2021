{
 "cells": [
  {
   "cell_type": "markdown",
   "metadata": {
    "id": "Na-Yck4lZiN1"
   },
   "source": [
    "### Chargement des librairies"
   ]
  },
  {
   "cell_type": "code",
   "execution_count": 2,
   "metadata": {
    "executionInfo": {
     "elapsed": 530,
     "status": "ok",
     "timestamp": 1606831889555,
     "user": {
      "displayName": "Stephan Semirat",
      "photoUrl": "",
      "userId": "06413469689434144964"
     },
     "user_tz": -60
    },
    "id": "Zupdaax6Xf8b"
   },
   "outputs": [],
   "source": [
    "from matplotlib import pyplot as plt\n",
    "import numpy as np\n",
    "import pandas as pd"
   ]
  },
  {
   "cell_type": "markdown",
   "metadata": {},
   "source": [
    "Chargement des données"
   ]
  },
  {
   "cell_type": "code",
   "execution_count": 15,
   "metadata": {},
   "outputs": [],
   "source": [
    "X=np.random.choice(a=[0,1], size=(300,9), p=[0.8,0.2])\n",
    "Y=np.zeros(300)"
   ]
  },
  {
   "cell_type": "code",
   "execution_count": 17,
   "metadata": {},
   "outputs": [],
   "source": [
    "for i in range(300):\n",
    "    for j in range(9-2):\n",
    "        if (X[i][j]==1 and X[i][j+1]==1):\n",
    "            Y[i]=1"
   ]
  },
  {
   "cell_type": "code",
   "execution_count": 18,
   "metadata": {},
   "outputs": [],
   "source": [
    "from sklearn.linear_model import LogisticRegression\n",
    "reg = LogisticRegression(penalty='none').fit(X, Y)"
   ]
  },
  {
   "cell_type": "code",
   "execution_count": 31,
   "metadata": {},
   "outputs": [
    {
     "name": "stdout",
     "output_type": "stream",
     "text": [
      "0.8933333333333333 [-6.62254753] [[ 2.58873614  3.39674107  3.34677752  2.72506621  1.49918254  2.95228238\n",
      "   2.51141145  1.36234825 -0.87266947]]\n"
     ]
    }
   ],
   "source": [
    "print(reg.score(X,Y),reg.intercept_,reg.coef_)"
   ]
  },
  {
   "cell_type": "code",
   "execution_count": 28,
   "metadata": {
    "scrolled": true
   },
   "outputs": [
    {
     "data": {
      "text/plain": [
       "<function matplotlib.pyplot.show(*args, **kw)>"
      ]
     },
     "execution_count": 28,
     "metadata": {},
     "output_type": "execute_result"
    },
    {
     "data": {
      "image/png": "[encoded data removed]",
      "text/plain": [
       "<Figure size 432x288 with 1 Axes>"
      ]
     },
     "metadata": {
      "needs_background": "light"
     },
     "output_type": "display_data"
    }
   ],
   "source": [
    "S=[reg.intercept_,reg.coef_]\n",
    "X_test=X\n",
    "Y_test=Y\n",
    "n_test=300\n",
    "plt.scatter([1/(1+np.exp(-(S[0]+np.dot(S[1],X_test[i]))))+np.random.randn(1)/100 for i in range(n_test)]\\\n",
    "            ,[Y_test[i]+np.random.randn(1)/100 for i in range(n_test)]\\\n",
    "            ,alpha=0.1)\n",
    "plt.xlabel('$\\sigma(b+W\\cdot X[i])$')\n",
    "plt.ylabel('$Y[i]$')\n",
    "plt.axis('equal')\n",
    "plt.show"
   ]
  },
  {
   "cell_type": "code",
   "execution_count": 65,
   "metadata": {},
   "outputs": [
    {
     "data": {
      "text/plain": [
       "MLPClassifier(activation='logistic', alpha=0, hidden_layer_sizes=(4,),\n",
       "              random_state=1, solver='lbfgs')"
      ]
     },
     "execution_count": 65,
     "metadata": {},
     "output_type": "execute_result"
    }
   ],
   "source": [
    "from sklearn.neural_network import MLPClassifier\n",
    "algo = MLPClassifier(activation='logistic', solver='lbfgs', alpha=0, hidden_layer_sizes=(4,), random_state=1)\n",
    "algo.fit(X,Y)"
   ]
  },
  {
   "cell_type": "code",
   "execution_count": 66,
   "metadata": {},
   "outputs": [
    {
     "data": {
      "text/plain": [
       "<function matplotlib.pyplot.show(*args, **kw)>"
      ]
     },
     "execution_count": 66,
     "metadata": {},
     "output_type": "execute_result"
    },
    {
     "data": {
      "image/png": "[encoded data removed]",
      "text/plain": [
       "<Figure size 432x288 with 1 Axes>"
      ]
     },
     "metadata": {
      "needs_background": "light"
     },
     "output_type": "display_data"
    }
   ],
   "source": [
    "S=[reg.intercept_,reg.coef_]\n",
    "X_test=X\n",
    "Y_test=Y\n",
    "n_test=300\n",
    "plt.scatter([algo.predict([X[i]])+np.random.randn(1)/100 for i in range(n_test)]\\\n",
    "            ,[Y_test[i]+np.random.randn(1)/100 for i in range(n_test)]\\\n",
    "            ,alpha=0.1)\n",
    "plt.xlabel('$\\sigma(b+W\\cdot X[i])$')\n",
    "plt.ylabel('$Y[i]$')\n",
    "plt.axis('equal')\n",
    "plt.show"
   ]
  },
  {
   "cell_type": "markdown",
   "metadata": {},
   "source": [
    "Visualisation des premières données"
   ]
  },
  {
   "cell_type": "code",
   "execution_count": 260,
   "metadata": {
    "scrolled": true
   },
   "outputs": [
    {
     "data": {
      "text/html": [
       "<div>\n",
       "<style scoped>\n",
       "    .dataframe tbody tr th:only-of-type {\n",
       "        vertical-align: middle;\n",
       "    }\n",
       "\n",
       "    .dataframe tbody tr th {\n",
       "        vertical-align: top;\n",
       "    }\n",
       "\n",
       "    .dataframe thead th {\n",
       "        text-align: right;\n",
       "    }\n",
       "</style>\n",
       "<table border=\"1\" class=\"dataframe\">\n",
       "  <thead>\n",
       "    <tr style=\"text-align: right;\">\n",
       "      <th></th>\n",
       "      <th>Survived</th>\n",
       "      <th>Sex</th>\n",
       "      <th>Age</th>\n",
       "      <th>Class</th>\n",
       "      <th>Embarked</th>\n",
       "      <th>Fare</th>\n",
       "      <th>Name</th>\n",
       "    </tr>\n",
       "  </thead>\n",
       "  <tbody>\n",
       "    <tr>\n",
       "      <th>0</th>\n",
       "      <td>0</td>\n",
       "      <td>Male</td>\n",
       "      <td>22.0</td>\n",
       "      <td>3</td>\n",
       "      <td>Southampton</td>\n",
       "      <td>7.2500</td>\n",
       "      <td>Braund, Mr. Owen Harris</td>\n",
       "    </tr>\n",
       "    <tr>\n",
       "      <th>1</th>\n",
       "      <td>1</td>\n",
       "      <td>Female</td>\n",
       "      <td>38.0</td>\n",
       "      <td>1</td>\n",
       "      <td>Cherbourg</td>\n",
       "      <td>71.2833</td>\n",
       "      <td>Cumings, Mrs. John Bradley (Florence Briggs Th...</td>\n",
       "    </tr>\n",
       "    <tr>\n",
       "      <th>2</th>\n",
       "      <td>1</td>\n",
       "      <td>Female</td>\n",
       "      <td>26.0</td>\n",
       "      <td>3</td>\n",
       "      <td>Southampton</td>\n",
       "      <td>7.9250</td>\n",
       "      <td>Heikkinen, Miss. Laina</td>\n",
       "    </tr>\n",
       "    <tr>\n",
       "      <th>3</th>\n",
       "      <td>1</td>\n",
       "      <td>Female</td>\n",
       "      <td>35.0</td>\n",
       "      <td>1</td>\n",
       "      <td>Southampton</td>\n",
       "      <td>53.1000</td>\n",
       "      <td>Futrelle, Mrs. Jacques Heath (Lily May Peel)</td>\n",
       "    </tr>\n",
       "    <tr>\n",
       "      <th>4</th>\n",
       "      <td>0</td>\n",
       "      <td>Male</td>\n",
       "      <td>35.0</td>\n",
       "      <td>3</td>\n",
       "      <td>Southampton</td>\n",
       "      <td>8.0500</td>\n",
       "      <td>Allen, Mr. William Henry</td>\n",
       "    </tr>\n",
       "  </tbody>\n",
       "</table>\n",
       "</div>"
      ],
      "text/plain": [
       "   Survived     Sex   Age  Class     Embarked     Fare  \\\n",
       "0         0    Male  22.0      3  Southampton   7.2500   \n",
       "1         1  Female  38.0      1    Cherbourg  71.2833   \n",
       "2         1  Female  26.0      3  Southampton   7.9250   \n",
       "3         1  Female  35.0      1  Southampton  53.1000   \n",
       "4         0    Male  35.0      3  Southampton   8.0500   \n",
       "\n",
       "                                                Name  \n",
       "0                            Braund, Mr. Owen Harris  \n",
       "1  Cumings, Mrs. John Bradley (Florence Briggs Th...  \n",
       "2                             Heikkinen, Miss. Laina  \n",
       "3       Futrelle, Mrs. Jacques Heath (Lily May Peel)  \n",
       "4                           Allen, Mr. William Henry  "
      ]
     },
     "execution_count": 260,
     "metadata": {},
     "output_type": "execute_result"
    }
   ],
   "source": [
    "titanic.head()"
   ]
  },
  {
   "cell_type": "markdown",
   "metadata": {},
   "source": [
    "Redéfinition des types de données"
   ]
  },
  {
   "cell_type": "code",
   "execution_count": 261,
   "metadata": {},
   "outputs": [],
   "source": [
    "titanic['Age'] = train['Age'].astype(float)\n",
    "titanic['Fare'] = train['Fare'].astype(float)\n",
    "titanic['Class'] = train['Class'].astype(int)"
   ]
  },
  {
   "cell_type": "markdown",
   "metadata": {},
   "source": [
    "Exploration des données"
   ]
  },
  {
   "cell_type": "code",
   "execution_count": 262,
   "metadata": {},
   "outputs": [
    {
     "data": {
      "text/plain": [
       "Survived    891\n",
       "Sex         891\n",
       "Age         891\n",
       "Class       891\n",
       "Embarked    891\n",
       "Fare        891\n",
       "Name        891\n",
       "dtype: int64"
      ]
     },
     "execution_count": 262,
     "metadata": {},
     "output_type": "execute_result"
    }
   ],
   "source": [
    "titanic.count()"
   ]
  },
  {
   "cell_type": "code",
   "execution_count": 263,
   "metadata": {},
   "outputs": [
    {
     "data": {
      "text/plain": [
       "array([[<matplotlib.axes._subplots.AxesSubplot object at 0x000001E74CD20DC0>,\n",
       "        <matplotlib.axes._subplots.AxesSubplot object at 0x000001E74A7C9D60>,\n",
       "        <matplotlib.axes._subplots.AxesSubplot object at 0x000001E74CCF3E80>,\n",
       "        <matplotlib.axes._subplots.AxesSubplot object at 0x000001E74CE32A90>]],\n",
       "      dtype=object)"
      ]
     },
     "execution_count": 263,
     "metadata": {},
     "output_type": "execute_result"
    },
    {
     "data": {
      "image/png": "[encoded data removed]",
      "text/plain": [
       "<Figure size 1296x288 with 4 Axes>"
      ]
     },
     "metadata": {
      "needs_background": "light"
     },
     "output_type": "display_data"
    }
   ],
   "source": [
    "titanic.hist(column=['Survived','Age','Class','Fare'],layout=(1,4),figsize=(18,4))"
   ]
  },
  {
   "cell_type": "code",
   "execution_count": 264,
   "metadata": {
    "scrolled": true
   },
   "outputs": [
    {
     "data": {
      "text/plain": [
       "<function matplotlib.pyplot.show(*args, **kw)>"
      ]
     },
     "execution_count": 264,
     "metadata": {},
     "output_type": "execute_result"
    },
    {
     "data": {
      "image/png": "[encoded data removed]",
      "text/plain": [
       "<Figure size 864x288 with 2 Axes>"
      ]
     },
     "metadata": {
      "needs_background": "light"
     },
     "output_type": "display_data"
    }
   ],
   "source": [
    "plt.figure(figsize=(12,4))\n",
    "plt.subplot(1,2,1)\n",
    "titanic['Sex'].value_counts().plot(kind='bar')\n",
    "plt.subplot(1,2,2)\n",
    "titanic['Embarked'].value_counts().plot(kind='bar')\n",
    "plt.show"
   ]
  },
  {
   "cell_type": "markdown",
   "metadata": {},
   "source": [
    "- Transormation des variables categorielles en variable dummy\n",
    "- Suppression des noms"
   ]
  },
  {
   "cell_type": "code",
   "execution_count": 265,
   "metadata": {
    "scrolled": true
   },
   "outputs": [],
   "source": [
    "sex=pd.get_dummies(titanic[\"Sex\"])\n",
    "embarked=pd.get_dummies(titanic[\"Embarked\"])\n",
    "titanic=pd.concat([titanic,sex,embarked],axis=1)\n",
    "titanic=titanic.drop(['Sex','Embarked','Name'],axis=1)"
   ]
  },
  {
   "cell_type": "code",
   "execution_count": 266,
   "metadata": {},
   "outputs": [
    {
     "data": {
      "text/html": [
       "<div>\n",
       "<style scoped>\n",
       "    .dataframe tbody tr th:only-of-type {\n",
       "        vertical-align: middle;\n",
       "    }\n",
       "\n",
       "    .dataframe tbody tr th {\n",
       "        vertical-align: top;\n",
       "    }\n",
       "\n",
       "    .dataframe thead th {\n",
       "        text-align: right;\n",
       "    }\n",
       "</style>\n",
       "<table border=\"1\" class=\"dataframe\">\n",
       "  <thead>\n",
       "    <tr style=\"text-align: right;\">\n",
       "      <th></th>\n",
       "      <th>Survived</th>\n",
       "      <th>Age</th>\n",
       "      <th>Class</th>\n",
       "      <th>Fare</th>\n",
       "      <th>Female</th>\n",
       "      <th>Male</th>\n",
       "      <th>Cherbourg</th>\n",
       "      <th>Queenstown</th>\n",
       "      <th>Southampton</th>\n",
       "    </tr>\n",
       "  </thead>\n",
       "  <tbody>\n",
       "    <tr>\n",
       "      <th>0</th>\n",
       "      <td>0</td>\n",
       "      <td>22.0</td>\n",
       "      <td>3</td>\n",
       "      <td>7.2500</td>\n",
       "      <td>0</td>\n",
       "      <td>1</td>\n",
       "      <td>0</td>\n",
       "      <td>0</td>\n",
       "      <td>1</td>\n",
       "    </tr>\n",
       "    <tr>\n",
       "      <th>1</th>\n",
       "      <td>1</td>\n",
       "      <td>38.0</td>\n",
       "      <td>1</td>\n",
       "      <td>71.2833</td>\n",
       "      <td>1</td>\n",
       "      <td>0</td>\n",
       "      <td>1</td>\n",
       "      <td>0</td>\n",
       "      <td>0</td>\n",
       "    </tr>\n",
       "    <tr>\n",
       "      <th>2</th>\n",
       "      <td>1</td>\n",
       "      <td>26.0</td>\n",
       "      <td>3</td>\n",
       "      <td>7.9250</td>\n",
       "      <td>1</td>\n",
       "      <td>0</td>\n",
       "      <td>0</td>\n",
       "      <td>0</td>\n",
       "      <td>1</td>\n",
       "    </tr>\n",
       "    <tr>\n",
       "      <th>3</th>\n",
       "      <td>1</td>\n",
       "      <td>35.0</td>\n",
       "      <td>1</td>\n",
       "      <td>53.1000</td>\n",
       "      <td>1</td>\n",
       "      <td>0</td>\n",
       "      <td>0</td>\n",
       "      <td>0</td>\n",
       "      <td>1</td>\n",
       "    </tr>\n",
       "    <tr>\n",
       "      <th>4</th>\n",
       "      <td>0</td>\n",
       "      <td>35.0</td>\n",
       "      <td>3</td>\n",
       "      <td>8.0500</td>\n",
       "      <td>0</td>\n",
       "      <td>1</td>\n",
       "      <td>0</td>\n",
       "      <td>0</td>\n",
       "      <td>1</td>\n",
       "    </tr>\n",
       "  </tbody>\n",
       "</table>\n",
       "</div>"
      ],
      "text/plain": [
       "   Survived   Age  Class     Fare  Female  Male  Cherbourg  Queenstown  \\\n",
       "0         0  22.0      3   7.2500       0     1          0           0   \n",
       "1         1  38.0      1  71.2833       1     0          1           0   \n",
       "2         1  26.0      3   7.9250       1     0          0           0   \n",
       "3         1  35.0      1  53.1000       1     0          0           0   \n",
       "4         0  35.0      3   8.0500       0     1          0           0   \n",
       "\n",
       "   Southampton  \n",
       "0            1  \n",
       "1            0  \n",
       "2            1  \n",
       "3            1  \n",
       "4            1  "
      ]
     },
     "execution_count": 266,
     "metadata": {},
     "output_type": "execute_result"
    }
   ],
   "source": [
    "titanic.head()"
   ]
  },
  {
   "cell_type": "markdown",
   "metadata": {},
   "source": [
    "### Représentation des facteurs de survie"
   ]
  },
  {
   "cell_type": "markdown",
   "metadata": {},
   "source": [
    "Les fonctions suivantes permettent de représenter des points en brouillant leur coordonnées légèrement afin qu'un point sur-représenté soit plus épais"
   ]
  },
  {
   "cell_type": "code",
   "execution_count": 267,
   "metadata": {},
   "outputs": [],
   "source": [
    "def rand_jitter(arr):\n",
    "    stdev = .02 * (max(arr) - min(arr))\n",
    "    return arr + np.random.randn(len(arr)) * stdev\n",
    "\n",
    "def jitter(x, y, s=20, c='b', marker='o', cmap=None, norm=None, vmin=None, vmax=None, alpha=None, linewidths=None, verts=None, hold=None, **kwargs):\n",
    "    return plt.scatter(rand_jitter(x), rand_jitter(y), s=s, c=c, marker=marker, cmap=cmap, norm=norm, vmin=vmin, vmax=vmax, alpha=alpha, linewidths=linewidths, **kwargs)"
   ]
  },
  {
   "cell_type": "code",
   "execution_count": 268,
   "metadata": {},
   "outputs": [
    {
     "data": {
      "text/plain": [
       "Text(0.5, 1.0, 'Southampton')"
      ]
     },
     "execution_count": 268,
     "metadata": {},
     "output_type": "execute_result"
    },
    {
     "data": {
      "image/png": "[encoded data removed]",
      "text/plain": [
       "<Figure size 1152x1152 with 7 Axes>"
      ]
     },
     "metadata": {
      "needs_background": "light"
     },
     "output_type": "display_data"
    }
   ],
   "source": [
    "plt.figure(figsize=(16,16))\n",
    "plt.subplot(3,3,1)\n",
    "jitter(train['Age'],train['Survived'],alpha=0.05)\n",
    "plt.title('Age')\n",
    "plt.subplot(3,3,2)\n",
    "jitter(train['Female'],train['Survived'],alpha=0.05)\n",
    "plt.title('Male')\n",
    "plt.subplot(3,3,3)\n",
    "jitter(train['Class'],train['Survived'],alpha=0.05)\n",
    "plt.title('Class')\n",
    "plt.subplot(3,3,4)\n",
    "jitter(train['Fare'],train['Survived'],alpha=0.05)\n",
    "plt.title('Fare')\n",
    "plt.subplot(3,3,5)\n",
    "jitter(train['Cherbourg'],train['Survived'],alpha=0.05)\n",
    "plt.title('Cherbourg')\n",
    "plt.subplot(3,3,6)\n",
    "jitter(train['Queenstown'],train['Survived'],alpha=0.05)\n",
    "plt.title('Queenstown')\n",
    "plt.subplot(3,3,7)\n",
    "jitter(train['Southampton'],train['Survived'],alpha=0.05)\n",
    "plt.title('Southampton')\n"
   ]
  },
  {
   "cell_type": "markdown",
   "metadata": {
    "id": "dev_luUrXiaK"
   },
   "source": [
    "### Choix des colonnes d'apprentissage"
   ]
  },
  {
   "cell_type": "code",
   "execution_count": 269,
   "metadata": {},
   "outputs": [
    {
     "name": "stdout",
     "output_type": "stream",
     "text": [
      "[    Age  Class     Fare  Female\n",
      "0  22.0      3   7.2500       0\n",
      "1  38.0      1  71.2833       1\n",
      "2  26.0      3   7.9250       1\n",
      "3  35.0      1  53.1000       1\n",
      "4  35.0      3   8.0500       0, 0    0\n",
      "1    1\n",
      "2    1\n",
      "3    1\n",
      "4    0\n",
      "Name: Survived, dtype: int64]\n"
     ]
    }
   ],
   "source": [
    "Xinit=titanic.drop(['Survived','Male','Cherbourg','Queenstown','Southampton'],axis=1)\n",
    "Yinit=titanic['Survived']\n",
    "print([Xinit.head(),Yinit.head()])"
   ]
  },
  {
   "cell_type": "markdown",
   "metadata": {},
   "source": [
    "- Extraction des 600 premiers individus\n",
    "- On garde le reste pour tester le modèle"
   ]
  },
  {
   "cell_type": "code",
   "execution_count": 270,
   "metadata": {},
   "outputs": [],
   "source": [
    "X=Xinit.iloc[:600]\n",
    "Y=Yinit.iloc[:600]\n",
    "n=len(X)\n",
    "d=len(X.iloc[1])\n",
    "X_test=Xinit.iloc[600:]\n",
    "Y_test=Yinit.iloc[600:]\n",
    "n_test=len(X_test)"
   ]
  },
  {
   "cell_type": "markdown",
   "metadata": {},
   "source": [
    "Fonction à optimiser et gradient"
   ]
  },
  {
   "cell_type": "code",
   "execution_count": 169,
   "metadata": {
    "executionInfo": {
     "elapsed": 574,
     "status": "ok",
     "timestamp": 1606831895405,
     "user": {
      "displayName": "Stephan Semirat",
      "photoUrl": "",
      "userId": "06413469689434144964"
     },
     "user_tz": -60
    },
    "id": "x8vrszX1Xo7B"
   },
   "outputs": [],
   "source": [
    "def f(b,W):\n",
    "    XdotW=np.dot(X,W)\n",
    "    B=[b for i in range(len(X))]\n",
    "    bpXdotW=B+XdotW\n",
    "    return sum([np.log(1+np.exp(-(bpXdotW[i])))+(1-Y.iloc[i])*(bpXdotW[i]) for i in range(n)])  \n",
    "\n",
    "def df(b,W):\n",
    "    XdotW=np.dot(X,W)\n",
    "    B=[b for i in range(len(X))]\n",
    "    ebpXdotW=np.exp(-(B+XdotW))\n",
    "    L=[sum([-ebpXdotW[i]/(1+ebpXdotW[i])+1-Y.iloc[i] for i in range(len(X))])]\n",
    "    for j in range(d):\n",
    "        L.append(sum([-X.iloc[i][j]*ebpXdotW[i]/(1+ebpXdotW[i])+X.iloc[i][j]*(1-Y.iloc[i]) for i in range(n)]))\n",
    "    return L"
   ]
  },
  {
   "cell_type": "markdown",
   "metadata": {
    "id": "LqRaPj_nX1sp"
   },
   "source": [
    "### Algorithme"
   ]
  },
  {
   "cell_type": "code",
   "execution_count": 75,
   "metadata": {
    "colab": {
     "base_uri": "https://localhost:8080/"
    },
    "executionInfo": {
     "elapsed": 594,
     "status": "ok",
     "timestamp": 1606832108296,
     "user": {
      "displayName": "Stephan Semirat",
      "photoUrl": "",
      "userId": "06413469689434144964"
     },
     "user_tz": -60
    },
    "id": "QfvzrSaAYmi3",
    "outputId": "0da3db24-cc70-4da8-ce4c-a9044844fce6"
   },
   "outputs": [],
   "source": [
    "def descente(gradf,b=0,W=np.ones(d),tau=0.0001,tolerance=1e-6,Nbiterations=1000):\n",
    "    L=[]\n",
    "    for i in range(Nbiterations):\n",
    "        g = gradf(b,W)\n",
    "        if np.linalg.norm(g)< tolerance:\n",
    "            print('L\\'algorithme a convergé.\\n Solution atteinte:\\n b=',b,'\\n W=',W,'\\n Gradient obtenu :\\n',g)\n",
    "            return [b,W]        \n",
    "        #L.append([b,W])        \n",
    "        b=b-tau*g[0]\n",
    "        W=[W[j]-tau*g[j+1] for j in range(d)]\n",
    "    print('L\\'algorithme n\\'a pas convergé.\\n Solution atteinte:\\n b=',b,'\\n W=',W,'\\n Gradient obtenu :\\n',g)    \n",
    "    return [b,W]"
   ]
  },
  {
   "cell_type": "markdown",
   "metadata": {},
   "source": [
    "### Calcul de la solution"
   ]
  },
  {
   "cell_type": "markdown",
   "metadata": {},
   "source": [
    "Départ : $S=(b,[w_1,w_2,\\ldots,w_d])=(1,[1,\\ldots,1])$"
   ]
  },
  {
   "cell_type": "code",
   "execution_count": 274,
   "metadata": {
    "colab": {
     "base_uri": "https://localhost:8080/",
     "height": 297
    },
    "executionInfo": {
     "elapsed": 1591,
     "status": "ok",
     "timestamp": 1606832068149,
     "user": {
      "displayName": "Stephan Semirat",
      "photoUrl": "",
      "userId": "06413469689434144964"
     },
     "user_tz": -60
    },
    "id": "C2x73vQkpWaZ",
    "outputId": "434d768d-3865-4b9d-be7c-bd45b3376310"
   },
   "outputs": [],
   "source": [
    "S=[1,np.ones(d)]"
   ]
  },
  {
   "cell_type": "markdown",
   "metadata": {},
   "source": [
    "Descente de gradient à partir de S (à répeter plusieurs fois si nécessaire)"
   ]
  },
  {
   "cell_type": "code",
   "execution_count": 275,
   "metadata": {},
   "outputs": [
    {
     "name": "stdout",
     "output_type": "stream",
     "text": [
      "L'algorithme n'a pas convergé.\n",
      " Solution atteinte:\n",
      " b= 0.9303888250839277 \n",
      " W= [-0.8836912249029918, 0.7872128553406044, 0.3245647871419458, 1.0417963945512423] \n",
      " Gradient obtenu :\n",
      " [142.16426923272917, 3609.1380756872886, 300.8000184972458, 6737.051214046904, 8.282743566106245]\n"
     ]
    }
   ],
   "source": [
    "S=descente(df,S[0],S[1],1e-4,1,10)"
   ]
  },
  {
   "cell_type": "markdown",
   "metadata": {},
   "source": [
    "Représentation des prédictions de survie, et des données de survie sur le groupe test"
   ]
  },
  {
   "cell_type": "code",
   "execution_count": 277,
   "metadata": {},
   "outputs": [
    {
     "data": {
      "text/plain": [
       "<function matplotlib.pyplot.show(*args, **kw)>"
      ]
     },
     "execution_count": 277,
     "metadata": {},
     "output_type": "execute_result"
    },
    {
     "data": {
      "image/png": "[encoded data removed]",
      "text/plain": [
       "<Figure size 432x288 with 1 Axes>"
      ]
     },
     "metadata": {
      "needs_background": "light"
     },
     "output_type": "display_data"
    }
   ],
   "source": [
    "plt.scatter([1/(1+np.exp(-(S[0]+np.dot(S[1],X_test.iloc[i]))))+np.random.randn(1)/100 for i in range(n_test)]\\\n",
    "            ,[Y_test.iloc[i]+np.random.randn(1)/100 for i in range(n_test)]\\\n",
    "            ,alpha=0.1)\n",
    "plt.xlabel('$\\sigma(b+W\\cdot X[i])$')\n",
    "plt.ylabel('$Y[i]$')\n",
    "plt.axis('equal')\n",
    "plt.show"
   ]
  },
  {
   "cell_type": "markdown",
   "metadata": {},
   "source": [
    "Calculs des erreurs de prédictions"
   ]
  },
  {
   "cell_type": "code",
   "execution_count": 278,
   "metadata": {},
   "outputs": [
    {
     "name": "stdout",
     "output_type": "stream",
     "text": [
      "Erreur moyenne : 0.2920962199312715 \n",
      " Vrai positifs : 35 \n",
      " Faux positifs : 14 \n",
      " Vrai négatifs : 171 \n",
      " Faux négatifs : 71\n"
     ]
    }
   ],
   "source": [
    "maskv1=[Y_test.iloc[i]==1 for i in range(n_test)]\n",
    "maskv0=[Y_test.iloc[i]==0 for i in range(n_test)]\n",
    "\n",
    "# Prédictions\n",
    "maskp1=[1/(1+np.exp(-(S[0]+np.dot(X_test.iloc[i],S[1]))))>0.5 for i in range(n_test)]\n",
    "maskp0=[1/(1+np.exp(-(S[0]+np.dot(X_test.iloc[i],S[1]))))<=0.5 for i in range(n_test)]\n",
    "\n",
    "# Erreurs\n",
    "# Y=1 mais sigma(b+XW)<0.5 (Faux négatifs)\n",
    "maske1=[(maskv1[i]==True and maskp1[i]==False) for i in range(len(maskv1))]\n",
    "# Y=0 mais sigma(b+XW)>0.5 (Faux positifs)\n",
    "maske0=[(maskv0[i]==True and maskp0[i]==False) for i in range(len(maskv0))]\n",
    "# Y=1 et sigma(b+XW)>0.5 (Vrais positifs)\n",
    "maskok1=[(maskv1[i]==True and maskp1[i]==True) for i in range(len(maskv1))]\n",
    "# Y=0 et sigma(b+XW)<0.5 (Vrais négatifs)\n",
    "maskok0=[(maskv0[i]==True and maskp0[i]==True) for i in range(len(maskv0))]\n",
    "print(\"Erreur moyenne :\",(np.count_nonzero(maske0)+np.count_nonzero(maske1))/n_test\\\n",
    "     ,'\\n Vrai positifs :',np.count_nonzero(maskok1)\n",
    "     ,'\\n Faux positifs :',np.count_nonzero(maske0)\\\n",
    "     ,'\\n Vrai négatifs :',np.count_nonzero(maskok0)\\\n",
    "     ,'\\n Faux négatifs :',np.count_nonzero(maske1))"
   ]
  },
  {
   "cell_type": "markdown",
   "metadata": {},
   "source": [
    "# Utilisation d'une librairie"
   ]
  },
  {
   "cell_type": "code",
   "execution_count": 279,
   "metadata": {},
   "outputs": [],
   "source": [
    "from sklearn.linear_model import LogisticRegression\n",
    "reg = LogisticRegression(penalty='none').fit(X, Y)\n",
    "#penalty='none' signifie qu'aucune régularisation n'est utilisée"
   ]
  },
  {
   "cell_type": "markdown",
   "metadata": {},
   "source": [
    "Résultat :\n",
    "- $W=(w_1,\\ldots,w_d)$ est donné par reg.coef_\n",
    "- $b$ est donné par reg.intercept_"
   ]
  },
  {
   "cell_type": "code",
   "execution_count": 280,
   "metadata": {},
   "outputs": [
    {
     "name": "stdout",
     "output_type": "stream",
     "text": [
      "[[-0.02963183 -1.10641864 -0.00356136  2.67392128]] [1.96292549]\n"
     ]
    }
   ],
   "source": [
    "print(reg.coef_,reg.intercept_)"
   ]
  },
  {
   "cell_type": "markdown",
   "metadata": {},
   "source": [
    "Vérifions que le gradient est bien (presque) nul en $(b,W)$ :"
   ]
  },
  {
   "cell_type": "code",
   "execution_count": 281,
   "metadata": {},
   "outputs": [
    {
     "name": "stdout",
     "output_type": "stream",
     "text": [
      "[0.0011951430203132052, 0.058927260105654966, 0.0019969858458803724, -0.05408536082837401, -0.001167945602113779]\n"
     ]
    }
   ],
   "source": [
    "print(df(1.9629254861476741,[-0.02963183,-1.10641864,-0.00356136,2.67392128]))"
   ]
  },
  {
   "cell_type": "markdown",
   "metadata": {},
   "source": [
    "En cette solution, notre algorithme converge en 1 passe avec une tolérance de 0.1 :"
   ]
  },
  {
   "cell_type": "code",
   "execution_count": 286,
   "metadata": {
    "scrolled": true
   },
   "outputs": [
    {
     "name": "stdout",
     "output_type": "stream",
     "text": [
      "L'algorithme a convergé.\n",
      " Solution atteinte:\n",
      " b= 1.9629254861476741 \n",
      " W= [-0.02963183, -1.10641864, -0.00356136, 2.67392128] \n",
      " Gradient obtenu :\n",
      " [0.0011951430203132052, 0.058927260105654966, 0.0019969858458803724, -0.05408536082837401, -0.001167945602113779]\n"
     ]
    }
   ],
   "source": [
    "S=descente(df,1.9629254861476741,[-0.02963183,-1.10641864,-0.00356136,2.67392128],1e-9,1e-1,1)"
   ]
  },
  {
   "cell_type": "markdown",
   "metadata": {},
   "source": [
    "On peut même encore tenter d'améliorer la solution, mais est-ce utile ?"
   ]
  },
  {
   "cell_type": "code",
   "execution_count": 291,
   "metadata": {},
   "outputs": [
    {
     "name": "stdout",
     "output_type": "stream",
     "text": [
      "L'algorithme n'a pas convergé.\n",
      " Solution atteinte:\n",
      " b= 1.9629254861440681 \n",
      " W= [-0.029631830177958233, -1.1064186400060285, -0.003561359836711194, 2.6739212800035306] \n",
      " Gradient obtenu :\n",
      " [0.0011951554493608851, 0.05892583369254112, 0.0019967608029087813, -0.05405183635489408, -0.0011679317049834714]\n"
     ]
    }
   ],
   "source": [
    "S=descente(df,S[0],S[1],1e-12,1e-2,10)"
   ]
  }
 ],
 "metadata": {
  "colab": {
   "authorship_tag": "ABX9TyOL5iJTlZCmM9764vTsZljv",
   "collapsed_sections": [],
   "name": "descente-deux-variables.ipynb",
   "provenance": [
    {
     "file_id": "164i4yxW6Yks9BXBhzNAJHUMyX1UBjEp3",
     "timestamp": 1606828072802
    }
   ]
  },
  "kernelspec": {
   "display_name": "Python 3",
   "language": "python",
   "name": "python3"
  },
  "language_info": {
   "codemirror_mode": {
    "name": "ipython",
    "version": 3
   },
   "file_extension": ".py",
   "mimetype": "text/x-python",
   "name": "python",
   "nbconvert_exporter": "python",
   "pygments_lexer": "ipython3",
   "version": "3.8.3"
  }
 },
 "nbformat": 4,
 "nbformat_minor": 1
}

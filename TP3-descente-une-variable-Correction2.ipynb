{
 "cells": [
  {
   "cell_type": "markdown",
   "metadata": {},
   "source": [
    "# TP3 - Correction - Descente de gradient en 1 variable"
   ]
  },
  {
   "cell_type": "code",
   "execution_count": 2,
   "metadata": {
    "id": "Zupdaax6Xf8b"
   },
   "outputs": [],
   "source": [
    "# Chargement des librairies Python\n",
    "\n",
    "# Mathématiques \n",
    "import numpy as np\n",
    "\n",
    "# Graphique\n",
    "from matplotlib import pyplot as plt"
   ]
  },
  {
   "cell_type": "markdown",
   "metadata": {},
   "source": [
    "## Problème\n",
    "\n",
    "On cherche le minimum sur $\\mathbb{R}$ de la fonction $f(x)=x^2-6x+1$."
   ]
  },
  {
   "cell_type": "markdown",
   "metadata": {},
   "source": [
    "**Exercice 1.**\n",
    "\n",
    "Résoudre le problème par le calcul.\n",
    "\n",
    "***Correction***\n",
    "\n",
    "La dérivée de $f$ est $f'(x)=2x-6$. Elle s'annule en $x=3$, et est négative en $x<3$, positive en $x>3$.\n",
    "Le minimum de $f$ est donc atteint en $x=3$, et vaut $f(3)=-8$."
   ]
  },
  {
   "cell_type": "markdown",
   "metadata": {
    "id": "dev_luUrXiaK"
   },
   "source": [
    "### Fonction à optimiser et sa dérivée"
   ]
  },
  {
   "cell_type": "code",
   "execution_count": 3,
   "metadata": {
    "id": "x8vrszX1Xo7B"
   },
   "outputs": [],
   "source": [
    "# Fonction à optimiser\n",
    "def f(x):           \n",
    "  return x**2-6*x+1\n",
    "\n",
    "# fonction dérivée\n",
    "def df(x):          \n",
    "  return 2*x-6"
   ]
  },
  {
   "cell_type": "markdown",
   "metadata": {},
   "source": [
    "### Représentation graphique de $f$"
   ]
  },
  {
   "cell_type": "code",
   "execution_count": 7,
   "metadata": {},
   "outputs": [
    {
     "data": {
      "text/plain": [
       "[<matplotlib.lines.Line2D at 0x21daf04f160>]"
      ]
     },
     "execution_count": 7,
     "metadata": {},
     "output_type": "execute_result"
    },
    {
     "data": {
      "image/png": "[encoded data removed]",
      "text/plain": [
       "<Figure size 432x288 with 1 Axes>"
      ]
     },
     "metadata": {
      "needs_background": "light"
     },
     "output_type": "display_data"
    }
   ],
   "source": [
    "plt.axis([-1,6,-10,5]) #xmin,xmax,ymin,ymax\n",
    "listx= np.linspace(-2,6,100) # Génère 100 nombres entre -2 et 6 et régulièrement espacés\n",
    "plt.plot(listx,[f(x) for x in listx]) # Représentation de la fonction"
   ]
  },
  {
   "cell_type": "markdown",
   "metadata": {
    "id": "LqRaPj_nX1sp"
   },
   "source": [
    "### Algorithme de descente de gradient"
   ]
  },
  {
   "cell_type": "code",
   "execution_count": 26,
   "metadata": {
    "id": "QfvzrSaAYmi3"
   },
   "outputs": [],
   "source": [
    "def descente(fonctderivee,x0,tau,tolerance,nbiterations):\n",
    "    x=x0\n",
    "    L=[]\n",
    "    for i in range(nbiterations): # Pour i allant de 0 à nbiterations\n",
    "        d = fonctderivee(x)        \n",
    "        L.append(x) # on enregistre chaque valeur dans le tableau L pour la représentation graphique ci-dessous\n",
    "        x=x-tau*d\n",
    "        if abs(d)< tolerance: # abs renvoie la valeur absolue\n",
    "            print('L\\'algorithme a convergé en',i,'itérations.\\nSolution atteinte : x=',x,'\\nDérivée en x :',d)\n",
    "            return L\n",
    "    print('L\\'algorithme n\\'a pas convergé.\\nSolution atteinte: x=',x,'\\nDérivée en x :',d)\n",
    "    return L"
   ]
  },
  {
   "cell_type": "markdown",
   "metadata": {},
   "source": [
    "**Exercice 2.**\n",
    "\n",
    "Décrire et donner le rôle de chacun des arguments de `descente(fonctderivee,x0,tau,tolerance,nbiterations)` ci-dessus :\n",
    "- fonctderivee : *La fonction dérivée de la fonction à minimiser* ;\n",
    "- x0 : *Le point de départ de l'algorithme*\n",
    "- tau : *Le pas de l'algorithme*\n",
    "- tolerance : *Le seuil en-deça duquel on considère qu'on a trouvé une solution acceptable*\n",
    "- nbiterations : *Le nombre maximum d'itérations de l'algorithme en cas de solution non atteinte selon notre criètre de tolérance*"
   ]
  },
  {
   "cell_type": "markdown",
   "metadata": {},
   "source": [
    "## Recherche de la solution"
   ]
  },
  {
   "cell_type": "code",
   "execution_count": 14,
   "metadata": {
    "scrolled": true
   },
   "outputs": [
    {
     "name": "stdout",
     "output_type": "stream",
     "text": [
      "L'algorithme a convergé en 26 itérations.\n",
      "Solution atteinte : x= 2.9999957354567957 \n",
      "Dérivée en x : -8.529086408692876e-06\n"
     ]
    }
   ],
   "source": [
    "Xi=descente(df,0.5,0.8,0.00001,200)"
   ]
  },
  {
   "cell_type": "markdown",
   "metadata": {},
   "source": [
    "### Liste des points atteints par l'algorithme"
   ]
  },
  {
   "cell_type": "code",
   "execution_count": 15,
   "metadata": {},
   "outputs": [
    {
     "name": "stdout",
     "output_type": "stream",
     "text": [
      "[0.5, 4.5, 2.0999999999999996, 3.54, 2.676, 3.1944, 2.88336, 3.069984, 2.9580096, 3.02519424, 2.984883456, 3.0090699264, 2.99455804416, 3.003265173504, 2.9980408958976, 3.0011754624614397, 2.9992947225231363, 3.0004231664861183, 2.999746100108329, 3.0001523399350023, 2.9999085960389986, 3.000054842376601, 2.9999670945740395, 3.000019743255576, 2.999988154046654, 3.0000071075720074]\n"
     ]
    }
   ],
   "source": [
    "print(Xi)"
   ]
  },
  {
   "cell_type": "markdown",
   "metadata": {
    "id": "IKHYfHmEY1AU"
   },
   "source": [
    "### Représentation graphique de l'algorithme"
   ]
  },
  {
   "cell_type": "code",
   "execution_count": 16,
   "metadata": {
    "colab": {
     "base_uri": "https://localhost:8080/",
     "height": 284
    },
    "id": "vKGl5IvDXzLA",
    "outputId": "9a15b75d-9064-4b1f-ee58-dbdd1f8cbf20",
    "scrolled": true
   },
   "outputs": [
    {
     "data": {
      "text/plain": [
       "<function matplotlib.pyplot.show(*args, **kw)>"
      ]
     },
     "execution_count": 16,
     "metadata": {},
     "output_type": "execute_result"
    },
    {
     "data": {
      "image/png": "[encoded data removed]",
      "text/plain": [
       "<Figure size 432x288 with 1 Axes>"
      ]
     },
     "metadata": {
      "needs_background": "light"
     },
     "output_type": "display_data"
    }
   ],
   "source": [
    "plt.axis([-1,6,-10,5]) #xmin,xmax,ymin,ymax\n",
    "listx= np.linspace(-2,6,100) # Génère 100 nombres régulièrement espacés de -2 à 6\n",
    "plt.plot(listx,[f(x) for x in listx]) # Représentation de la fonction\n",
    "plt.plot(Xi,[f(x) for x in Xi],'o--') # Représentation des segments (x_i,f(x_i))--(x_(i+1),f(x_(i+1)))\n",
    "plt.title('Descente de gradient en 1 variable')\n",
    "plt.show"
   ]
  },
  {
   "cell_type": "markdown",
   "metadata": {},
   "source": [
    "**Exercice 3.**\n",
    "1. Pour $x_0=0.5$, déterminer un pas $\\tau$ dans chacun des cas suivants :\n",
    "    1. La suite $x_0$, $x_1$, ... est croissante.\n",
    "    2. L'algorithme ne converge pas.\n",
    "    3. L'algorithme converge en 1 itération (pas optimal)\n",
    "2. Justifier mathématiquement que $\\tau=0.5$ est un pas optimal quel que soit le choix de $x_0$."
   ]
  },
  {
   "cell_type": "code",
   "execution_count": 30,
   "metadata": {
    "scrolled": true
   },
   "outputs": [
    {
     "name": "stdout",
     "output_type": "stream",
     "text": [
      "L'algorithme a convergé en 1 itérations.\n",
      "Solution atteinte : x= 3.0 \n",
      "Dérivée en x : 0.0\n",
      "[-5, 3.0]\n"
     ]
    },
    {
     "data": {
      "text/plain": [
       "<function matplotlib.pyplot.show(*args, **kw)>"
      ]
     },
     "execution_count": 30,
     "metadata": {},
     "output_type": "execute_result"
    },
    {
     "data": {
      "image/png": "[encoded data removed]",
      "text/plain": [
       "<Figure size 432x288 with 1 Axes>"
      ]
     },
     "metadata": {
      "needs_background": "light"
     },
     "output_type": "display_data"
    }
   ],
   "source": [
    "Xi=descente(df,-5,0.5,0.00001,200)\n",
    "print(Xi)\n",
    "plt.axis([-20,20,-10,100]) #xmin,xmax,ymin,ymax\n",
    "listx= np.linspace(-20,20,100) # Génère 100 nombres régulièrement espacés de -2 à 6\n",
    "plt.plot(listx,[f(x) for x in listx]) # Représentation de la fonction\n",
    "plt.plot(Xi,[f(x) for x in Xi],'o--') # Représentation des segments (x_i,f(x_i))--(x_(i+1),f(x_(i+1)))\n",
    "plt.title('Descente de gradient en 1 variable')\n",
    "plt.show"
   ]
  },
  {
   "cell_type": "markdown",
   "metadata": {},
   "source": [
    "***Réponses***\n",
    "- La suite $x_0$, $x_1$, ... est croissante pour $\\tau=0.3$ par exemple\n",
    "- L'algorithme ne converge pas pour $\\tau1.1$ par exemple\n",
    "- L'algorithme converge en 1 itération pour $\\tau=0.5$\n",
    "\n",
    "Pourquoi $0.5$ est-il le pas optimal quel que soit le choix de $x_0$ ?\n",
    "\n",
    "$x_1=x_0-0.5(2x_0-6)=x_0-x_0+3=3$."
   ]
  },
  {
   "cell_type": "markdown",
   "metadata": {},
   "source": [
    "**Exercice 4.**\n",
    "\n",
    "Reprendre les étapes précédentes avec la fonction $f(x)=x^4-7x^3+14x^2-8x$, qui possède un minimum local et un minimum global différents.\n",
    "\n",
    "Déterminer $x_0$ et $\\tau$ en sorte que l'algorithme converge en au plus 10 itérations :\n",
    "1. Vers le minimum local.\n",
    "2. Vers le minimum global.\n"
   ]
  },
  {
   "cell_type": "code",
   "execution_count": 31,
   "metadata": {},
   "outputs": [],
   "source": [
    "# Fonction à optimiser\n",
    "def f(x):           \n",
    "  return x**4-7*x**3+14*x**2-8*x\n",
    "\n",
    "# fonction dérivée\n",
    "def df(x):          \n",
    "  return 4*x**3-21*x**2+28*x-8"
   ]
  },
  {
   "cell_type": "code",
   "execution_count": 55,
   "metadata": {},
   "outputs": [
    {
     "name": "stdout",
     "output_type": "stream",
     "text": [
      "L'algorithme a convergé en 9 itérations.\n",
      "Solution atteinte : x= 0.3927480503096555 \n",
      "Dérivée en x : 4.65093509127712e-06\n"
     ]
    },
    {
     "data": {
      "text/plain": [
       "<function matplotlib.pyplot.show(*args, **kw)>"
      ]
     },
     "execution_count": 55,
     "metadata": {},
     "output_type": "execute_result"
    },
    {
     "data": {
      "image/png": "[encoded data removed]",
      "text/plain": [
       "<Figure size 432x288 with 1 Axes>"
      ]
     },
     "metadata": {
      "needs_background": "light"
     },
     "output_type": "display_data"
    }
   ],
   "source": [
    "Xi=descente(df,0,0.06,1e-5,100)\n",
    "plt.axis([-5,5,-10,10]) #xmin,xmax,ymin,ymax\n",
    "listx= np.linspace(-5,5,100) # Génère 100 nombres régulièrement espacés de -2 à 6\n",
    "plt.plot(listx,[f(x) for x in listx]) # Représentation de la fonction\n",
    "plt.plot(Xi,[f(x) for x in Xi],'o--') # Représentation des segments (x_i,f(x_i))--(x_(i+1),f(x_(i+1)))\n",
    "plt.title('Descente de gradient en 1 variable')\n",
    "plt.show"
   ]
  },
  {
   "cell_type": "markdown",
   "metadata": {},
   "source": [
    "***Réponses***\n",
    "- Le minimum global est atteint en 9 itérations avec $\\tau=0.05$, $x_0=2$ et une tolérance à $10^{-5}$.\n",
    "- Le minimum local est atteint en 9 itérations avec $\\tau=0.06$, $x_0=0$ et une tolérance à $10^{-5}$."
   ]
  }
 ],
 "metadata": {
  "colab": {
   "authorship_tag": "ABX9TyMUNvpvplA+oiXkt6/VO1xX",
   "collapsed_sections": [],
   "name": "descente-une-variable.ipynb",
   "provenance": []
  },
  "kernelspec": {
   "display_name": "Python 3",
   "language": "python",
   "name": "python3"
  },
  "language_info": {
   "codemirror_mode": {
    "name": "ipython",
    "version": 3
   },
   "file_extension": ".py",
   "mimetype": "text/x-python",
   "name": "python",
   "nbconvert_exporter": "python",
   "pygments_lexer": "ipython3",
   "version": "3.8.3"
  }
 },
 "nbformat": 4,
 "nbformat_minor": 1
}
